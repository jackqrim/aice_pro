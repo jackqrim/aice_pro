{
 "cells": [
  {
   "cell_type": "markdown",
   "metadata": {
    "id": "igzBca1_hHT8"
   },
   "source": [
    "# BOW(Bag of Words)\n",
    "\n",
    "+ 이번 과정에서는 BOW(Bag of Words) 뭔지 배워 보겠습니다.\n",
    "+ BOW(Bag of Words) 말이 자주 나오는데\n",
    "+ Bag of Words란 단어들의 순서는 전혀 고려하지 않고, 단어들의 출현 빈도(frequency)에만 집중하는 텍스트 데이터의 수치화 표현 방법\n",
    "+ 즉, 문장을 토큰화하고 각 단어의 빈도수를 나타낸것이라고 보면 됩니다.\n",
    "+ 문서(document)를 분류하기 위한 방법으로 사용\n",
    "+ 글에 포함된 단어(word)들의 분포를 보고 이 문서가 어떤 종류의 문서인지를 판단하는 기법으로 사용\n",
    "+ 결국, 컴퓨터가 문장을 이해하도록 단어의 빈도수로 문장을 벡터 표현합니다."
   ]
  },
  {
   "cell_type": "markdown",
   "metadata": {},
   "source": [
    "![그림](https://github.com/gzone2000/TEMP_TEST/raw/master/BOW.PNG)"
   ]
  },
  {
   "cell_type": "markdown",
   "metadata": {},
   "source": [
    "### 학습목차\n",
    "1. CountVectorizer 이용하여 BoW 만들기\n",
    "2. 불용어(\"the\", \"a\", \"an\", \"is\", \"not\"등)를 제거한 BoW 만들기"
   ]
  },
  {
   "cell_type": "markdown",
   "metadata": {},
   "source": [
    "---------------------"
   ]
  },
  {
   "cell_type": "markdown",
   "metadata": {
    "id": "xkTXUrW6hHUD"
   },
   "source": [
    "## 1. CountVectorizer 이용하여 BoW 만들기"
   ]
  },
  {
   "cell_type": "code",
   "execution_count": 1,
   "metadata": {
    "id": "Ft7AsvM5hHUE"
   },
   "outputs": [],
   "source": [
    "from sklearn.feature_extraction.text import CountVectorizer"
   ]
  },
  {
   "cell_type": "code",
   "execution_count": 3,
   "metadata": {},
   "outputs": [],
   "source": [
    "corpus = ['you know I want your love. because I love you.']"
   ]
  },
  {
   "cell_type": "code",
   "execution_count": 4,
   "metadata": {
    "id": "zGYP_t5-hHUF"
   },
   "outputs": [
    {
     "data": {
      "text/plain": [
       "CountVectorizer()"
      ]
     },
     "execution_count": 4,
     "metadata": {},
     "output_type": "execute_result"
    }
   ],
   "source": [
    "# 말뭉치를 단어 토큰화 > 각 단어에 정수 매핑 > 단어사전 만들기 \n",
    "vector = CountVectorizer()\n",
    "vector.fit(corpus)"
   ]
  },
  {
   "cell_type": "code",
   "execution_count": 5,
   "metadata": {
    "colab": {
     "base_uri": "https://localhost:8080/"
    },
    "id": "lWvF02MMhpGv",
    "outputId": "7c7a5947-df66-4674-915b-0e88b7d6bb14"
   },
   "outputs": [
    {
     "name": "stdout",
     "output_type": "stream",
     "text": [
      "{'you': 4, 'know': 1, 'want': 3, 'your': 5, 'love': 2, 'because': 0}\n"
     ]
    }
   ],
   "source": [
    "# 단어사전 보여주기 \n",
    "print(vector.vocabulary_) "
   ]
  },
  {
   "cell_type": "code",
   "execution_count": 6,
   "metadata": {},
   "outputs": [
    {
     "data": {
      "text/plain": [
       "dict"
      ]
     },
     "execution_count": 6,
     "metadata": {},
     "output_type": "execute_result"
    }
   ],
   "source": [
    "# type 확인\n",
    "type(vector.vocabulary_)"
   ]
  },
  {
   "cell_type": "code",
   "execution_count": 7,
   "metadata": {},
   "outputs": [
    {
     "data": {
      "text/plain": [
       "[('because', 0),\n",
       " ('know', 1),\n",
       " ('love', 2),\n",
       " ('want', 3),\n",
       " ('you', 4),\n",
       " ('your', 5)]"
      ]
     },
     "execution_count": 7,
     "metadata": {},
     "output_type": "execute_result"
    }
   ],
   "source": [
    "# value값으로 정렬\n",
    "sorted(vector.vocabulary_.items(), key=lambda x : x[1] )"
   ]
  },
  {
   "cell_type": "code",
   "execution_count": 8,
   "metadata": {
    "colab": {
     "base_uri": "https://localhost:8080/"
    },
    "id": "uui_B2QihHUF",
    "outputId": "b01e3b72-f72d-412d-f26d-6fa4decb2890"
   },
   "outputs": [
    {
     "name": "stdout",
     "output_type": "stream",
     "text": [
      "  (0, 0)\t1\n",
      "  (0, 1)\t1\n",
      "  (0, 2)\t2\n",
      "  (0, 3)\t1\n",
      "  (0, 4)\t2\n",
      "  (0, 5)\t1\n"
     ]
    }
   ],
   "source": [
    "# transform 함수를 통해 코퍼스로부터 각 단어의 빈도 수를 계산한다.\n",
    "# 2번(love), 4번(you) 인덱스가 2번 발생\n",
    "\n",
    "print(vector.transform(corpus)) "
   ]
  },
  {
   "cell_type": "markdown",
   "metadata": {
    "id": "1EJyF7HWhHUH"
   },
   "source": [
    "## 2. 불용어를 제거한 BoW 만들기"
   ]
  },
  {
   "cell_type": "markdown",
   "metadata": {
    "id": "2rrxNC2KhHUH"
   },
   "source": [
    "#### 1) 사용자가 직접 정의한 불용어 사용"
   ]
  },
  {
   "cell_type": "code",
   "execution_count": 9,
   "metadata": {
    "colab": {
     "base_uri": "https://localhost:8080/"
    },
    "id": "27PLTbrrhHUH",
    "outputId": "fee8eb79-be8e-47d9-a5af-8d8e62fa1032"
   },
   "outputs": [
    {
     "name": "stdout",
     "output_type": "stream",
     "text": [
      "{'family': 1, 'important': 2, 'thing': 4, 'it': 3, 'everything': 0}\n",
      "  (0, 0)\t1\n",
      "  (0, 1)\t1\n",
      "  (0, 2)\t1\n",
      "  (0, 3)\t1\n",
      "  (0, 4)\t1\n"
     ]
    }
   ],
   "source": [
    "from sklearn.feature_extraction.text import CountVectorizer\n",
    "\n",
    "text=[\"Family is not an important thing. It's everything.\"]\n",
    "vect = CountVectorizer(stop_words=[\"the\", \"a\", \"an\", \"is\", \"not\"])\n",
    "vect.fit(text)\n",
    "\n",
    "print(vect.vocabulary_)\n",
    "print(vect.transform(text))"
   ]
  },
  {
   "cell_type": "markdown",
   "metadata": {
    "id": "DBsQnllqhHUI"
   },
   "source": [
    "#### 2) nltk에서 제공하는 자체 불용어 사용"
   ]
  },
  {
   "cell_type": "code",
   "execution_count": 10,
   "metadata": {
    "colab": {
     "base_uri": "https://localhost:8080/"
    },
    "id": "UDhU5BXrhHUI",
    "outputId": "3517e2fc-ebc7-4704-bab1-f38cc3c6d779"
   },
   "outputs": [
    {
     "name": "stderr",
     "output_type": "stream",
     "text": [
      "[nltk_data] Downloading package stopwords to /root/nltk_data...\n",
      "[nltk_data]   Package stopwords is already up-to-date!\n"
     ]
    },
    {
     "data": {
      "text/plain": [
       "True"
      ]
     },
     "execution_count": 10,
     "metadata": {},
     "output_type": "execute_result"
    }
   ],
   "source": [
    "# !pip install nltk\n",
    "import nltk\n",
    "nltk.download('stopwords')"
   ]
  },
  {
   "cell_type": "code",
   "execution_count": 11,
   "metadata": {
    "colab": {
     "base_uri": "https://localhost:8080/"
    },
    "id": "oduQ8r3-hHUJ",
    "outputId": "5d29cefa-e7e4-415b-ba76-5df02d9878d3"
   },
   "outputs": [
    {
     "name": "stdout",
     "output_type": "stream",
     "text": [
      "{'family': 1, 'important': 2, 'thing': 3, 'everything': 0}\n",
      "  (0, 0)\t1\n",
      "  (0, 1)\t1\n",
      "  (0, 2)\t1\n",
      "  (0, 3)\t1\n"
     ]
    }
   ],
   "source": [
    "from sklearn.feature_extraction.text import CountVectorizer\n",
    "from nltk.corpus import stopwords\n",
    "\n",
    "text=[\"Family is not an important thing. It's everything.\"]\n",
    "sw = stopwords.words(\"english\")\n",
    "vect = CountVectorizer(stop_words=sw)\n",
    "vect.fit(text)\n",
    "\n",
    "print(vect.vocabulary_)\n",
    "print(vect.transform(text)) "
   ]
  },
  {
   "cell_type": "code",
   "execution_count": 12,
   "metadata": {
    "colab": {
     "base_uri": "https://localhost:8080/"
    },
    "id": "XQGytvaGhHUJ",
    "outputId": "7e8cdd35-6748-4e9b-ac8a-dd46a7730758"
   },
   "outputs": [
    {
     "data": {
      "text/plain": [
       "['i', 'me', 'my', 'myself', 'we', 'our', 'ours', 'ourselves', 'you', \"you're\"]"
      ]
     },
     "execution_count": 12,
     "metadata": {},
     "output_type": "execute_result"
    }
   ],
   "source": [
    "# stop word 리스트\n",
    "sw[:10]"
   ]
  },
  {
   "cell_type": "code",
   "execution_count": null,
   "metadata": {
    "id": "VM4Wd1rohHUJ"
   },
   "outputs": [],
   "source": []
  },
  {
   "cell_type": "markdown",
   "metadata": {},
   "source": [
    "## 배운 내용 정리\n",
    "1. BOW(Bag of Words) : 문장을 토큰화하고 각 단어의 빈도수를 수치화\n",
    "2. 문서분류 방법중의 하나로 , 단어(word)들의 분포를 보고 이 문서가 어떤 종류의 문서인지를 판단하는 기법으로 사용\n",
    "3. CountVectorizer 이용하여 BoW 구현\n",
    "4. CountVectorizer 사용시 불용어(stopword)을 자체적으로 정의하거나 ntlk stopword를 활용해 보았습니다."
   ]
  }
 ],
 "metadata": {
  "colab": {
   "collapsed_sections": [],
   "name": "30.Bag of Words.ipynb",
   "provenance": []
  },
  "kernelspec": {
   "display_name": "Python 3",
   "language": "python",
   "name": "python3"
  },
  "language_info": {
   "codemirror_mode": {
    "name": "ipython",
    "version": 3
   },
   "file_extension": ".py",
   "mimetype": "text/x-python",
   "name": "python",
   "nbconvert_exporter": "python",
   "pygments_lexer": "ipython3",
   "version": "3.6.9"
  }
 },
 "nbformat": 4,
 "nbformat_minor": 4
}