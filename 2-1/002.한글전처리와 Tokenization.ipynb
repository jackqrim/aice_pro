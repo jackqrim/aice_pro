{
 "cells": [
  {
   "cell_type": "markdown",
   "metadata": {
    "id": "dmxkb6yGKBFn"
   },
   "source": [
    "# 한글전처리 및 Tokenization\n",
    "+ 본과정에서는 한글문장에 대해 불필요한 특수문자, 이메일, 다수 공백등을 제거하는 전처리 수행후에 토큰화 해 보겠습니다.\n",
    "+ 읽어들인 문장들을 전처리 : 한글, 영문, 숫자, 공백 이외는 제거\n",
    "+ 전처리된 문장들을 한글 형태소 분석기 이용하여 Tokenize"
   ]
  },
  {
   "cell_type": "markdown",
   "metadata": {
    "id": "blpuMt1AEZnV"
   },
   "source": [
    "### 학습목차\n",
    "1. 한글 토크나이징 Konlpy 설치\n",
    "2. A방송사 댓글 파일 읽어오기\n",
    "3. 한글 전처리 :특수문자, 이메일, URL 제거하고 한글, 영문, 숫자, 공백 이외는 제거\n",
    "4. KoNLPy 형태소 분석기 사용하여 단어 토큰화\n",
    "5. kss 사용하여 문장 단위 토큰화"
   ]
  },
  {
   "cell_type": "markdown",
   "metadata": {
    "id": "omzC8n51EZnW"
   },
   "source": [
    "## 1. 한글 토크나이징 Konlpy 설치"
   ]
  },
  {
   "cell_type": "code",
   "execution_count": 1,
   "metadata": {
    "colab": {
     "base_uri": "https://localhost:8080/"
    },
    "executionInfo": {
     "elapsed": 6000,
     "status": "ok",
     "timestamp": 1649663571509,
     "user": {
      "displayName": "yunwoo oh",
      "userId": "01035531558844683999"
     },
     "user_tz": -540
    },
    "id": "ITvHnIHToaC-",
    "outputId": "6db1e232-16b5-4c13-ef0f-35634c6b8c52"
   },
   "outputs": [
    {
     "name": "stdout",
     "output_type": "stream",
     "text": [
      "Requirement already satisfied: konlpy in /usr/local/lib/python3.6/dist-packages (0.6.0)\n",
      "Requirement already satisfied: JPype1>=0.7.0 in /usr/local/lib/python3.6/dist-packages (from konlpy) (1.3.0)\n",
      "Requirement already satisfied: lxml>=4.1.0 in /usr/local/lib/python3.6/dist-packages (from konlpy) (4.8.0)\n",
      "Requirement already satisfied: numpy>=1.6 in /usr/local/lib/python3.6/dist-packages (from konlpy) (1.19.5)\n",
      "Requirement already satisfied: typing-extensions in /usr/local/lib/python3.6/dist-packages (from JPype1>=0.7.0->konlpy) (3.7.4.3)\n",
      "\u001b[33mWARNING: Running pip as the 'root' user can result in broken permissions and conflicting behaviour with the system package manager. It is recommended to use a virtual environment instead: https://pip.pypa.io/warnings/venv\u001b[0m\n"
     ]
    }
   ],
   "source": [
    "# Konlpy : 한국어 정보처리를 위한 파이썬 패키지, 형태소 기반 토크나이징\n",
    "# Konlpy 패키지 안에 Hannanum, Kkma, Komoran, Mecab, Okt 형태소 분류기 있다.\n",
    "\n",
    "!pip install konlpy"
   ]
  },
  {
   "cell_type": "markdown",
   "metadata": {
    "id": "F4FPUogVEZnW"
   },
   "source": [
    "## 2. A방송사 댓글 파일 읽어오기"
   ]
  },
  {
   "cell_type": "code",
   "execution_count": 2,
   "metadata": {
    "colab": {
     "base_uri": "https://localhost:8080/"
    },
    "executionInfo": {
     "elapsed": 4553,
     "status": "ok",
     "timestamp": 1649663576057,
     "user": {
      "displayName": "yunwoo oh",
      "userId": "01035531558844683999"
     },
     "user_tz": -540
    },
    "id": "fT-5a1XUEZnX",
    "outputId": "65abfd76-2862-4a5c-a3a0-92e9ecb06c6f"
   },
   "outputs": [
    {
     "name": "stdout",
     "output_type": "stream",
     "text": [
      "Collecting openpyxl\n",
      "  Downloading openpyxl-3.0.10-py2.py3-none-any.whl (242 kB)\n",
      "     |████████████████████████████████| 242 kB 26.2 MB/s            \n",
      "\u001b[?25hCollecting et-xmlfile\n",
      "  Downloading et_xmlfile-1.1.0-py3-none-any.whl (4.7 kB)\n",
      "Installing collected packages: et-xmlfile, openpyxl\n",
      "Successfully installed et-xmlfile-1.1.0 openpyxl-3.0.10\n",
      "\u001b[33mWARNING: Running pip as the 'root' user can result in broken permissions and conflicting behaviour with the system package manager. It is recommended to use a virtual environment instead: https://pip.pypa.io/warnings/venv\u001b[0m\n"
     ]
    }
   ],
   "source": [
    "# pandas read_excel 사용시 필요 라이브러리\n",
    "!pip install openpyxl\n",
    "\n",
    "import os\n",
    "import re\n",
    "import pandas as pd"
   ]
  },
  {
   "cell_type": "code",
   "execution_count": 3,
   "metadata": {
    "colab": {
     "base_uri": "https://localhost:8080/",
     "height": 206
    },
    "executionInfo": {
     "elapsed": 933,
     "status": "ok",
     "timestamp": 1649663576982,
     "user": {
      "displayName": "yunwoo oh",
      "userId": "01035531558844683999"
     },
     "user_tz": -540
    },
    "id": "1P2Ni5pUIbg_",
    "outputId": "2e706daf-06b5-43c2-91eb-2c5521b9be96"
   },
   "outputs": [
    {
     "data": {
      "text/html": [
       "<div>\n",
       "<style scoped>\n",
       "    .dataframe tbody tr th:only-of-type {\n",
       "        vertical-align: middle;\n",
       "    }\n",
       "\n",
       "    .dataframe tbody tr th {\n",
       "        vertical-align: top;\n",
       "    }\n",
       "\n",
       "    .dataframe thead th {\n",
       "        text-align: right;\n",
       "    }\n",
       "</style>\n",
       "<table border=\"1\" class=\"dataframe\">\n",
       "  <thead>\n",
       "    <tr style=\"text-align: right;\">\n",
       "      <th></th>\n",
       "      <th>Unnamed: 0</th>\n",
       "      <th>data</th>\n",
       "      <th>label</th>\n",
       "    </tr>\n",
       "  </thead>\n",
       "  <tbody>\n",
       "    <tr>\n",
       "      <th>246</th>\n",
       "      <td>246</td>\n",
       "      <td>영상F서비스로 간편하게 설치!좋아요\\n우리 회사화이팅!</td>\n",
       "      <td>긍정</td>\n",
       "    </tr>\n",
       "    <tr>\n",
       "      <th>247</th>\n",
       "      <td>247</td>\n",
       "      <td>모든 업무에서 맡은바 업무에 서 최선을 다하는 모습이 좋습니다! 화이팅 입니다.</td>\n",
       "      <td>긍정</td>\n",
       "    </tr>\n",
       "    <tr>\n",
       "      <th>248</th>\n",
       "      <td>248</td>\n",
       "      <td>사내방송 특성상 최근 이슈화 되거나, 언급이 자주되는 '키워드'를 중심으로 뉴스를 ...</td>\n",
       "      <td>부정</td>\n",
       "    </tr>\n",
       "    <tr>\n",
       "      <th>249</th>\n",
       "      <td>249</td>\n",
       "      <td>방송 시간이 너무 길어요.</td>\n",
       "      <td>부정</td>\n",
       "    </tr>\n",
       "    <tr>\n",
       "      <th>250</th>\n",
       "      <td>250</td>\n",
       "      <td>처음 들어보는 말들이 많은데,, 설명이 없어서 힘드네요.</td>\n",
       "      <td>부정</td>\n",
       "    </tr>\n",
       "  </tbody>\n",
       "</table>\n",
       "</div>"
      ],
      "text/plain": [
       "     Unnamed: 0                                               data label\n",
       "246         246                     영상F서비스로 간편하게 설치!좋아요\\n우리 회사화이팅!    긍정\n",
       "247         247       모든 업무에서 맡은바 업무에 서 최선을 다하는 모습이 좋습니다! 화이팅 입니다.    긍정\n",
       "248         248  사내방송 특성상 최근 이슈화 되거나, 언급이 자주되는 '키워드'를 중심으로 뉴스를 ...    부정\n",
       "249         249                                     방송 시간이 너무 길어요.    부정\n",
       "250         250                   처음 들어보는 말들이 많은데,, 설명이 없어서 힘드네요.     부정"
      ]
     },
     "execution_count": 3,
     "metadata": {},
     "output_type": "execute_result"
    }
   ],
   "source": [
    "# A_comment_train.xlsx A방송사 댓글 다운로드 및 Pandas read_excel() 함수 활용하여 읽어오기\n",
    "commnet = pd.read_excel('https://github.com/gzone2000/TEMP_TEST/raw/master/A_comment_train.xlsx', engine='openpyxl')\n",
    "commnet.tail()"
   ]
  },
  {
   "cell_type": "code",
   "execution_count": 4,
   "metadata": {
    "colab": {
     "base_uri": "https://localhost:8080/"
    },
    "executionInfo": {
     "elapsed": 12,
     "status": "ok",
     "timestamp": 1649663576982,
     "user": {
      "displayName": "yunwoo oh",
      "userId": "01035531558844683999"
     },
     "user_tz": -540
    },
    "id": "8GvYEPJpEwWa",
    "outputId": "e7f3ffc1-5bd3-41ff-daa9-64624ab1dd2e"
   },
   "outputs": [
    {
     "data": {
      "text/plain": [
       "['재미는 있는데 시간이 짧은게 아쉽네요~', 'OO 관련 내용은 우리 직원과는 거리가 멀었음, 특히, 사내에 홍보할 내용은 아니라고 봄']"
      ]
     },
     "execution_count": 4,
     "metadata": {},
     "output_type": "execute_result"
    }
   ],
   "source": [
    "# 리스트 형태로 데이터 만들기\n",
    "\n",
    "sent_list = list(commnet.data[:100].values)\n",
    "sent_list[:2]"
   ]
  },
  {
   "cell_type": "markdown",
   "metadata": {
    "id": "Dq0zujPzoM5L"
   },
   "source": [
    "## 3. 한글 전처리\n",
    "- 특수문자, 이메일, URL 제거\n",
    "- 많은 공백은 1개의 공백으로\n",
    "- 숫자는 'NUM' 표현\n",
    "- 한글, 영문, 숫자, 공백 이외는 제거"
   ]
  },
  {
   "cell_type": "code",
   "execution_count": 5,
   "metadata": {
    "id": "MlyLBfrls4m7"
   },
   "outputs": [],
   "source": [
    "removal_list =  \"‘, ’, ◇, ‘, ”,  ’, ', ·, \\“, ·, △, ●,  , ■, (, ), \\\", >>, `, /, -,∼,=,ㆍ<,>, .,?, !,【,】, …, ◆,%\"\n",
    "\n",
    "EMAIL_PATTERN = re.compile(r'''(([a-zA-Z0-9._%+-]+)@([a-zA-Z0-9.-]+)(\\.[a-zA-Z]{2,4}))''')\n",
    "URL_PATTERN = re.compile(\"(ftp|http|https)?://(?:[a-zA-Z]|[0-9]|[$-_@.&+]|[!*\\(\\),]|(?:%[0-9a-fA-F][0-9a-fA-F]))+\")\n",
    "MULTIPLE_SPACES = re.compile(' +', re.UNICODE)"
   ]
  },
  {
   "cell_type": "code",
   "execution_count": 6,
   "metadata": {
    "id": "Jolfm5S0tGp3"
   },
   "outputs": [],
   "source": [
    "def cleansing_other(sentence) :\n",
    "    \"\"\"\n",
    "    # 문장을 전처리 (이메일, URL, 공백 등 제거) 하는 함수\n",
    "    :param sentence: 전처리 대상 문장\n",
    "    :return: 전처리 완료된 문장\n",
    "    \"\"\"\n",
    "    sentence = re.sub(EMAIL_PATTERN, ' ', sentence)\n",
    "    sentence = re.sub(URL_PATTERN, ' ', sentence)\n",
    "    sentence = re.sub(MULTIPLE_SPACES, ' ', sentence)\n",
    "    sentence = sentence.replace(\", )\", \"\")\n",
    "    \n",
    "    return sentence"
   ]
  },
  {
   "cell_type": "code",
   "execution_count": 7,
   "metadata": {
    "id": "JOFfcdwrtLV0"
   },
   "outputs": [],
   "source": [
    "def cleansing_numbers(sentence) :\n",
    "    \"\"\"\n",
    "    # 숫자를 전처리(delexicalization) 하는 함수\n",
    "    :param sentence: 전처리 대상 문장\n",
    "    :return: 전처리 완료된 문장\n",
    "    \"\"\"\n",
    "    \n",
    "    sentence = re.sub('[0-9]+', 'NUM', sentence)\n",
    "    sentence = re.sub('NUM\\s+', \"NUM\", sentence)\n",
    "    sentence = re.sub('[NUM]+', \"NUM\", sentence)\n",
    "    \n",
    "    return sentence"
   ]
  },
  {
   "cell_type": "code",
   "execution_count": 8,
   "metadata": {
    "id": "UfnDtyz8tJgL"
   },
   "outputs": [],
   "source": [
    "def cleansing_special(sentence) :\n",
    "    \"\"\"\n",
    "    # 특수문자를 전처리를 하는 함수\n",
    "    :param sentence: 전처리 대상 문장\n",
    "    :return: 전처리 완료된 문장\n",
    "    \"\"\"\n",
    "    sentence = re.sub(\"[.,\\'\\\"’‘”“!?]\", \"\", sentence)\n",
    "    sentence = re.sub(\"[^가-힣0-9a-zA-Z\\\\s]\", \" \", sentence)\n",
    "    sentence = re.sub(\"\\s+\", \" \", sentence)\n",
    "    \n",
    "    sentence = sentence.translate(str.maketrans(removal_list, ' '*len(removal_list)))\n",
    "    sentence = sentence.strip()\n",
    "    \n",
    "    return sentence"
   ]
  },
  {
   "cell_type": "code",
   "execution_count": 9,
   "metadata": {
    "id": "aZjs5ewVtNDp"
   },
   "outputs": [],
   "source": [
    "def preprocess_sent(sentence) :\n",
    "    \"\"\"\n",
    "    # 모든 전처리를 수행 하는 함수\n",
    "    :param sentence: 전처리 대상 문장\n",
    "    :return: 전처리 완료된 문장\n",
    "    \"\"\"\n",
    "    sent_clean = sentence\n",
    "    sent_clean = cleansing_other(sent_clean)\n",
    "    sent_clean = cleansing_special(sent_clean)\n",
    "    sent_clean = cleansing_numbers(sent_clean)\n",
    "    sent_clean = re.sub('\\s+', ' ', sent_clean)\n",
    "\n",
    "    return sent_clean"
   ]
  },
  {
   "cell_type": "code",
   "execution_count": 10,
   "metadata": {
    "id": "FLLkpJ3dEZnZ"
   },
   "outputs": [
    {
     "name": "stdout",
     "output_type": "stream",
     "text": [
      "너무 재밌게 잘봤습니다~! ㅋㅋ\n",
      "송OO씨가 출근하자마자 안마의자 앉아서 쉬는게 부럽기도(?) 했네요\n",
      "쇼호스트분들의 진행솜씨또한 감탄하고 갑니다. 다음은 어디 외부 탐방 예정인가요?!\n"
     ]
    }
   ],
   "source": [
    "# 한글 샘플 내용을 1개 가져와 전처리 수행 \n",
    "\n",
    "sample_sentence = sent_list[5]\n",
    "print(sample_sentence)"
   ]
  },
  {
   "cell_type": "code",
   "execution_count": 11,
   "metadata": {
    "colab": {
     "base_uri": "https://localhost:8080/",
     "height": 36
    },
    "executionInfo": {
     "elapsed": 11,
     "status": "ok",
     "timestamp": 1649663576984,
     "user": {
      "displayName": "yunwoo oh",
      "userId": "01035531558844683999"
     },
     "user_tz": -540
    },
    "id": "wNotmM8nEZnZ",
    "outputId": "4f6e74e6-8a4d-43f0-8e7f-74a351297752"
   },
   "outputs": [
    {
     "data": {
      "text/plain": [
       "'너무 재밌게 잘봤습니다 송OO씨가 출근하자마자 안마의자 앉아서 쉬는게 부럽기도 했네요 쇼호스트분들의 진행솜씨또한 감탄하고 갑니다 다음은 어디 외부 탐방 예정인가요'"
      ]
     },
     "execution_count": 11,
     "metadata": {},
     "output_type": "execute_result"
    }
   ],
   "source": [
    "clean_sentence = preprocess_sent(sample_sentence)\n",
    "clean_sentence"
   ]
  },
  {
   "cell_type": "code",
   "execution_count": 12,
   "metadata": {
    "colab": {
     "base_uri": "https://localhost:8080/"
    },
    "executionInfo": {
     "elapsed": 10,
     "status": "ok",
     "timestamp": 1649663576984,
     "user": {
      "displayName": "yunwoo oh",
      "userId": "01035531558844683999"
     },
     "user_tz": -540
    },
    "id": "r-0MFEFFFcI2",
    "outputId": "bc919ea2-bf34-415f-ef6f-4405e806b64c"
   },
   "outputs": [
    {
     "data": {
      "text/plain": [
       "['재미는 있는데 시간이 짧은게 아쉽네요',\n",
       " 'OO 관련 내용은 우리 직원과는 거리가 멀었음 특히 사내에 홍보할 내용은 아니라고 봄',\n",
       " '스토리가 너무 딱딱해서 별로였음',\n",
       " '프로그램A 화이팅하세요',\n",
       " '높은 곳에 올라가는 모습이 너무 위험해 보여요']"
      ]
     },
     "execution_count": 12,
     "metadata": {},
     "output_type": "execute_result"
    }
   ],
   "source": [
    "# 여러개의 한글 샘플 전처리 수행\n",
    "\n",
    "clean_sentences = []\n",
    "\n",
    "for sample_sentence in sent_list:\n",
    "  clean_sentence = preprocess_sent(sample_sentence)\n",
    "  clean_sentences.append(clean_sentence)\n",
    "\n",
    "clean_sentences[:5]"
   ]
  },
  {
   "cell_type": "markdown",
   "metadata": {
    "id": "01iv1526oM5K"
   },
   "source": [
    "## 4. KoNLPy 형태소 분석기 사용하여 단어 토큰화\n",
    "- 종류 : Okt, Komoran, Hannanum, Kkma"
   ]
  },
  {
   "cell_type": "code",
   "execution_count": 13,
   "metadata": {
    "id": "x6uD2pzcoM5M"
   },
   "outputs": [],
   "source": [
    "from konlpy.tag import Okt, Komoran, Hannanum, Kkma"
   ]
  },
  {
   "cell_type": "code",
   "execution_count": 14,
   "metadata": {
    "id": "hOxnrnHkoM5Y"
   },
   "outputs": [],
   "source": [
    "# 여러가지 형태소 분석기중에서 선택할수 있도록 하는 함수\n",
    "\n",
    "def get_tokenizer(tokenizer_name):\n",
    "    if tokenizer_name == \"komoran\":\n",
    "        tokenizer = Komoran()\n",
    "    elif tokenizer_name == \"okt\":\n",
    "        tokenizer = Okt()\n",
    "    elif tokenizer_name == \"hannanum\":\n",
    "        tokenizer = Hannanum()\n",
    "    else:\n",
    "        # \"kkma\":\n",
    "        tokenizer = Kkma()\n",
    "        \n",
    "    return tokenizer"
   ]
  },
  {
   "cell_type": "code",
   "execution_count": 15,
   "metadata": {
    "id": "5vraqyN6oM5b"
   },
   "outputs": [],
   "source": [
    "# 선택한 형태소 분석기로 형태소 분석 및 품사태깅을 선택적으로 수행함.\n",
    "\n",
    "def tokenize(tokenizer_name, original_sent, pos=False):\n",
    "    tokenizer = get_tokenizer(tokenizer_name)\n",
    "    sentence = original_sent.replace('\\n', '').strip()\n",
    "    if pos:\n",
    "        tokens = tokenizer.pos(sentence)\n",
    "        tokens = [morph + \"/\" + tag for morph, tag in tokens]\n",
    "    else:\n",
    "        tokens = tokenizer.morphs(sentence)\n",
    "        \n",
    "    tokenized_sent = ' '.join(tokens)\n",
    "    \n",
    "    return tokenized_sent\n"
   ]
  },
  {
   "cell_type": "code",
   "execution_count": 16,
   "metadata": {
    "colab": {
     "base_uri": "https://localhost:8080/"
    },
    "executionInfo": {
     "elapsed": 14028,
     "status": "ok",
     "timestamp": 1649663591004,
     "user": {
      "displayName": "yunwoo oh",
      "userId": "01035531558844683999"
     },
     "user_tz": -540
    },
    "id": "Iaqse_nvYuMd",
    "outputId": "8cba6192-408a-45c4-a2e5-e70c596b4171"
   },
   "outputs": [
    {
     "name": "stdout",
     "output_type": "stream",
     "text": [
      "아버지/NNG 가방/NNP 에/JKB 들어가/VV 시/EP ㄴ다/EC\n",
      "아버지 가방 에 들어가 시 ㄴ다\n"
     ]
    }
   ],
   "source": [
    "text = \"아버지가방에들어가신다\"\n",
    "\n",
    "print(tokenize(\"komoran\", text, pos=True))\n",
    "print(tokenize(\"komoran\", text, pos=False))"
   ]
  },
  {
   "cell_type": "code",
   "execution_count": 17,
   "metadata": {
    "colab": {
     "base_uri": "https://localhost:8080/"
    },
    "executionInfo": {
     "elapsed": 8244,
     "status": "ok",
     "timestamp": 1649663599244,
     "user": {
      "displayName": "yunwoo oh",
      "userId": "01035531558844683999"
     },
     "user_tz": -540
    },
    "id": "bx7gJObuZLHu",
    "outputId": "be0cf1ca-752d-41a8-a7d6-e84847c24dbf"
   },
   "outputs": [
    {
     "name": "stdout",
     "output_type": "stream",
     "text": [
      "아버지/Noun 가방/Noun 에/Josa 들어가신다/Verb\n",
      "아버지 가방 에 들어가신다\n"
     ]
    }
   ],
   "source": [
    "text = \"아버지가방에들어가신다\"\n",
    "\n",
    "print(tokenize(\"okt\", text, pos=True))\n",
    "print(tokenize(\"okt\", text, pos=False))"
   ]
  },
  {
   "cell_type": "code",
   "execution_count": 18,
   "metadata": {
    "colab": {
     "base_uri": "https://localhost:8080/"
    },
    "executionInfo": {
     "elapsed": 15,
     "status": "ok",
     "timestamp": 1649663599244,
     "user": {
      "displayName": "yunwoo oh",
      "userId": "01035531558844683999"
     },
     "user_tz": -540
    },
    "id": "Rk0lMB7REZna",
    "outputId": "40f7932c-d054-4ee7-9845-b84c8956fdb5",
    "tags": []
   },
   "outputs": [
    {
     "name": "stdout",
     "output_type": "stream",
     "text": [
      "실제로 있을수있는 내용이네요 고객 니즈가 잘소통되었네요\n",
      "--------------------------------------------------------------------------------------------------------------------------------------------\n",
      "실제/Noun 로/Josa 있을수있는/Adjective 내/Determiner 용이/Noun 네/Suffix 요/Josa 고객/Noun 니즈/Noun 가/Josa 잘/Verb 소통/Noun 되었네요/Verb\n"
     ]
    }
   ],
   "source": [
    "# 전처리 된 한글 샘플을 OKT 형태소 분석기로 토큰화함\n",
    "print(clean_sentence)\n",
    "print('-'*140)\n",
    "print(tokenize(\"okt\", clean_sentence, pos=True))"
   ]
  },
  {
   "cell_type": "code",
   "execution_count": 19,
   "metadata": {
    "colab": {
     "base_uri": "https://localhost:8080/"
    },
    "executionInfo": {
     "elapsed": 14,
     "status": "ok",
     "timestamp": 1649663599245,
     "user": {
      "displayName": "yunwoo oh",
      "userId": "01035531558844683999"
     },
     "user_tz": -540
    },
    "id": "P2a47p4zEZnc",
    "outputId": "fdf6872f-7394-4c66-830e-6d6da78c20e5"
   },
   "outputs": [
    {
     "name": "stdout",
     "output_type": "stream",
     "text": [
      "OKT 형태소 분석 : ['열심히', '코딩', '한', '당신', ',', '연휴', '에는', '여행', '을', '가봐요']\n",
      "OKT 품사 태깅 : [('열심히', 'Adverb'), ('코딩', 'Noun'), ('한', 'Josa'), ('당신', 'Noun'), (',', 'Punctuation'), ('연휴', 'Noun'), ('에는', 'Josa'), ('여행', 'Noun'), ('을', 'Josa'), ('가봐요', 'Verb')]\n",
      "OKT 명사 추출 : ['코딩', '당신', '연휴', '여행']\n"
     ]
    }
   ],
   "source": [
    "# 위의 함수를 사용하지 않고 자체 Okt 형태소 분석기 사용하기 \n",
    "\n",
    "okt = Okt()\n",
    "\n",
    "print('OKT 형태소 분석 :',okt.morphs(\"열심히 코딩한 당신, 연휴에는 여행을 가봐요\"))  # 형태소 분류\n",
    "print('OKT 품사 태깅 :',okt.pos(\"열심히 코딩한 당신, 연휴에는 여행을 가봐요\"))  # POS 분류\n",
    "print('OKT 명사 추출 :',okt.nouns(\"열심히 코딩한 당신, 연휴에는 여행을 가봐요\"))  # 명사 분류"
   ]
  },
  {
   "cell_type": "code",
   "execution_count": null,
   "metadata": {
    "id": "a_h1YIPXnbnO"
   },
   "outputs": [],
   "source": []
  },
  {
   "cell_type": "markdown",
   "metadata": {
    "id": "OVUq7kvREZnc"
   },
   "source": [
    "## 배운 내용 정리\n",
    "1. A방송사 댓글 데이터 가져와 전처리 수행\n",
    "2. 전처리된 한글 데이터를 KoNLPy OKT 형태소분석기를 통해 토큰화함\n",
    "3. 전처리 함수를 필요할때 가져다 쓰면 된다."
   ]
  },
  {
   "cell_type": "code",
   "execution_count": null,
   "metadata": {
    "id": "MCnp6xBBvj49"
   },
   "outputs": [],
   "source": []
  }
 ],
 "metadata": {
  "colab": {
   "collapsed_sections": [],
   "name": "002.한글전처리와 Tokenization.ipynb",
   "provenance": []
  },
  "kernelspec": {
   "display_name": "Python 3",
   "language": "python",
   "name": "python3"
  },
  "language_info": {
   "codemirror_mode": {
    "name": "ipython",
    "version": 3
   },
   "file_extension": ".py",
   "mimetype": "text/x-python",
   "name": "python",
   "nbconvert_exporter": "python",
   "pygments_lexer": "ipython3",
   "version": "3.6.9"
  }
 },
 "nbformat": 4,
 "nbformat_minor": 4
}