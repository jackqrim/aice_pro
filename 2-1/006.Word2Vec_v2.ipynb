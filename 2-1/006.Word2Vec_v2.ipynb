{
 "cells": [
  {
   "cell_type": "markdown",
   "metadata": {
    "id": "H3nEAxmlkOcm"
   },
   "source": [
    "# 한국어 Word2Vec 실습\n",
    "\n",
    "+ 이번 시간에는 Word2Vec에 대해 배워 보겠습니다.\n",
    "+ 먼저, Word Embedding에 대해 알아보면 Word Embedding은 \"단어를 n차원 벡터로 표현하기\"입니다.\n",
    "+ 좀더 상세히 표현하면 토콘(단어)를 의미있는 밀집(dense) Vector 표현하는 겁니다.\n",
    "+ BOW, TF-IDF 경우 매트릭스 안에 많은 0으로 채워진것을 볼수 있습니다. 희소(sparse) Vector 이며\n",
    "+ 말뭉치에 단어가 많아질수로 문서의 벡터 길이도 길어지게 됩니다.(차원의 저주)\n",
    "+ 이런 문제들을 해결하기 위해 Word Embedding을 통해서 단어를 n차원의 밀집벡터로 표현합니다.\n",
    "+ Word Embedding 방법에는 Word2Vec, FastText, keras 임베딩이 있습니다. \n",
    "+ 용어들이 많이 나와 어렵게 느껴지지만, 그냥 Word2Vec, FastText, keras 임베딩은 단순히 단어를 밀집 Vector로 표현하기 라고 생각하시면 됩니다.\n",
    "+ Word2Vec 된 단어는 단어끼리의 거리 측정이나 단어간 계산이 가능하며 단어가 비슷한지도 유사도 측정할수 있게 됩니다.\n",
    "+ 여기서는 Word2Vec 이용하여 유사도 측정해 보겠습니다.\n",
    "+ 참고사이트 : https://wikidocs.net/50739"
   ]
  },
  {
   "cell_type": "markdown",
   "metadata": {
    "id": "Mk6w8OWWP_sY"
   },
   "source": [
    "### 학습목차\n",
    "1. 필요한 라이브러리 설치 및 임포트\n",
    "2. 훈련 데이터 불러오기 : A방송사 댓글 데이터\n",
    "3. 훈련 데이터 전처리 : null, 특수문자 제거 \n",
    "4. 한글 형태소 분석기 OKT 이용하여 토큰나이즈\n",
    "5. Word2Vec 훈련시키고 유사도 측정"
   ]
  },
  {
   "cell_type": "markdown",
   "metadata": {
    "id": "4FcREiOqtKpo"
   },
   "source": [
    "## 1. 필요한 라이브러리 설치 및 임포트"
   ]
  },
  {
   "cell_type": "code",
   "execution_count": 1,
   "metadata": {
    "colab": {
     "base_uri": "https://localhost:8080/"
    },
    "executionInfo": {
     "elapsed": 16819,
     "status": "ok",
     "timestamp": 1649663986139,
     "user": {
      "displayName": "yunwoo oh",
      "userId": "01035531558844683999"
     },
     "user_tz": -540
    },
    "id": "1fSHiEDktJd7",
    "outputId": "e021af45-810c-415e-e835-b27d890c75ba"
   },
   "outputs": [
    {
     "name": "stdout",
     "output_type": "stream",
     "text": [
      "Requirement already satisfied: openpyxl in /usr/local/lib/python3.6/dist-packages (3.0.10)\n",
      "Requirement already satisfied: et-xmlfile in /usr/local/lib/python3.6/dist-packages (from openpyxl) (1.1.0)\n",
      "\u001b[33mWARNING: Running pip as the 'root' user can result in broken permissions and conflicting behaviour with the system package manager. It is recommended to use a virtual environment instead: https://pip.pypa.io/warnings/venv\u001b[0m\n",
      "Collecting gensim==3.6.0\n",
      "  Downloading gensim-3.6.0-cp36-cp36m-manylinux1_x86_64.whl (23.6 MB)\n",
      "     |████████████████████████████████| 23.6 MB 26.5 MB/s            �█████▋                         | 4.9 MB 26.5 MB/s eta 0:00:01         | 11.8 MB 26.5 MB/s eta 0:00:01█████████████▉       | 18.3 MB 26.5 MB/s eta 0:00:01ta 0:00:01\n",
      "\u001b[?25hCollecting smart-open>=1.2.1\n",
      "  Downloading smart_open-6.0.0-py3-none-any.whl (58 kB)\n",
      "     |████████████████████████████████| 58 kB 12.6 MB/s             \n",
      "\u001b[?25hRequirement already satisfied: six>=1.5.0 in /usr/local/lib/python3.6/dist-packages (from gensim==3.6.0) (1.15.0)\n",
      "Requirement already satisfied: scipy>=0.18.1 in /usr/local/lib/python3.6/dist-packages (from gensim==3.6.0) (1.5.4)\n",
      "Requirement already satisfied: numpy>=1.11.3 in /usr/local/lib/python3.6/dist-packages (from gensim==3.6.0) (1.19.5)\n",
      "Installing collected packages: smart-open, gensim\n",
      "Successfully installed gensim-3.6.0 smart-open-6.0.0\n",
      "\u001b[33mWARNING: Running pip as the 'root' user can result in broken permissions and conflicting behaviour with the system package manager. It is recommended to use a virtual environment instead: https://pip.pypa.io/warnings/venv\u001b[0m\n",
      "Requirement already satisfied: konlpy in /usr/local/lib/python3.6/dist-packages (0.6.0)\n",
      "Requirement already satisfied: numpy>=1.6 in /usr/local/lib/python3.6/dist-packages (from konlpy) (1.19.5)\n",
      "Requirement already satisfied: JPype1>=0.7.0 in /usr/local/lib/python3.6/dist-packages (from konlpy) (1.3.0)\n",
      "Requirement already satisfied: lxml>=4.1.0 in /usr/local/lib/python3.6/dist-packages (from konlpy) (4.8.0)\n",
      "Requirement already satisfied: typing-extensions in /usr/local/lib/python3.6/dist-packages (from JPype1>=0.7.0->konlpy) (3.7.4.3)\n",
      "\u001b[33mWARNING: Running pip as the 'root' user can result in broken permissions and conflicting behaviour with the system package manager. It is recommended to use a virtual environment instead: https://pip.pypa.io/warnings/venv\u001b[0m\n"
     ]
    }
   ],
   "source": [
    "## 필요한 라이브러리 설치 및 임포트\n",
    "\n",
    "# openpyxl : 엑셀 파일 읽기 위한 라이브러리\n",
    "!pip install openpyxl\n",
    "\n",
    "# gensim : 단어를 의미있는 밀집 vector로 변환하는 Word2Vec 포함하는 라이브러리\n",
    "# 파이썬(3.10)과 gensim 호환성 및 정상 실행을 위해  gensim버젼 설치 수행\n",
    "!pip install gensim==4.1.2 \n",
    "\n",
    "# konlpy : 한글 자연어 처리 패키지 설치\n",
    "!python3 -m pip install konlpy\n",
    "\n",
    "import pandas as pd\n",
    "import matplotlib.pyplot as plt\n",
    "\n",
    "from gensim.models import Word2Vec\n",
    "from konlpy.tag import Okt"
   ]
  },
  {
   "cell_type": "markdown",
   "metadata": {
    "id": "UOtXyhUHt8_1"
   },
   "source": [
    "## 2. 훈련 데이터 불러오기 : A방송사 댓글 데이터"
   ]
  },
  {
   "cell_type": "code",
   "execution_count": 2,
   "metadata": {
    "colab": {
     "base_uri": "https://localhost:8080/",
     "height": 206
    },
    "executionInfo": {
     "elapsed": 1539,
     "status": "ok",
     "timestamp": 1649663987673,
     "user": {
      "displayName": "yunwoo oh",
      "userId": "01035531558844683999"
     },
     "user_tz": -540
    },
    "id": "V-Jyb9qkkXhQ",
    "outputId": "2a90648f-aa0a-4d0f-a6c3-bb486da00c5e"
   },
   "outputs": [
    {
     "data": {
      "text/html": [
       "<div>\n",
       "<style scoped>\n",
       "    .dataframe tbody tr th:only-of-type {\n",
       "        vertical-align: middle;\n",
       "    }\n",
       "\n",
       "    .dataframe tbody tr th {\n",
       "        vertical-align: top;\n",
       "    }\n",
       "\n",
       "    .dataframe thead th {\n",
       "        text-align: right;\n",
       "    }\n",
       "</style>\n",
       "<table border=\"1\" class=\"dataframe\">\n",
       "  <thead>\n",
       "    <tr style=\"text-align: right;\">\n",
       "      <th></th>\n",
       "      <th>Unnamed: 0</th>\n",
       "      <th>data</th>\n",
       "      <th>label</th>\n",
       "    </tr>\n",
       "  </thead>\n",
       "  <tbody>\n",
       "    <tr>\n",
       "      <th>246</th>\n",
       "      <td>246</td>\n",
       "      <td>영상F서비스로 간편하게 설치!좋아요\\n우리 회사화이팅!</td>\n",
       "      <td>긍정</td>\n",
       "    </tr>\n",
       "    <tr>\n",
       "      <th>247</th>\n",
       "      <td>247</td>\n",
       "      <td>모든 업무에서 맡은바 업무에 서 최선을 다하는 모습이 좋습니다! 화이팅 입니다.</td>\n",
       "      <td>긍정</td>\n",
       "    </tr>\n",
       "    <tr>\n",
       "      <th>248</th>\n",
       "      <td>248</td>\n",
       "      <td>사내방송 특성상 최근 이슈화 되거나, 언급이 자주되는 '키워드'를 중심으로 뉴스를 ...</td>\n",
       "      <td>부정</td>\n",
       "    </tr>\n",
       "    <tr>\n",
       "      <th>249</th>\n",
       "      <td>249</td>\n",
       "      <td>방송 시간이 너무 길어요.</td>\n",
       "      <td>부정</td>\n",
       "    </tr>\n",
       "    <tr>\n",
       "      <th>250</th>\n",
       "      <td>250</td>\n",
       "      <td>처음 들어보는 말들이 많은데,, 설명이 없어서 힘드네요.</td>\n",
       "      <td>부정</td>\n",
       "    </tr>\n",
       "  </tbody>\n",
       "</table>\n",
       "</div>"
      ],
      "text/plain": [
       "     Unnamed: 0                                               data label\n",
       "246         246                     영상F서비스로 간편하게 설치!좋아요\\n우리 회사화이팅!    긍정\n",
       "247         247       모든 업무에서 맡은바 업무에 서 최선을 다하는 모습이 좋습니다! 화이팅 입니다.    긍정\n",
       "248         248  사내방송 특성상 최근 이슈화 되거나, 언급이 자주되는 '키워드'를 중심으로 뉴스를 ...    부정\n",
       "249         249                                     방송 시간이 너무 길어요.    부정\n",
       "250         250                   처음 들어보는 말들이 많은데,, 설명이 없어서 힘드네요.     부정"
      ]
     },
     "execution_count": 2,
     "metadata": {},
     "output_type": "execute_result"
    }
   ],
   "source": [
    "# A_comment_train.xlsx A방송사 댓글 다운로드 및 Pandas read_excel() 함수 활용하여 읽어오기\n",
    "\n",
    "train_data = pd.read_excel('https://github.com/gzone2000/TEMP_TEST/raw/master/A_comment_train.xlsx', engine='openpyxl')\n",
    "train_data.tail()"
   ]
  },
  {
   "cell_type": "code",
   "execution_count": 3,
   "metadata": {
    "colab": {
     "base_uri": "https://localhost:8080/",
     "height": 206
    },
    "executionInfo": {
     "elapsed": 13,
     "status": "ok",
     "timestamp": 1649663987674,
     "user": {
      "displayName": "yunwoo oh",
      "userId": "01035531558844683999"
     },
     "user_tz": -540
    },
    "id": "U7-tcTJfuGv4",
    "outputId": "bfd3a7c2-4cfc-4f6a-8152-66669e939717"
   },
   "outputs": [
    {
     "data": {
      "text/html": [
       "<div>\n",
       "<style scoped>\n",
       "    .dataframe tbody tr th:only-of-type {\n",
       "        vertical-align: middle;\n",
       "    }\n",
       "\n",
       "    .dataframe tbody tr th {\n",
       "        vertical-align: top;\n",
       "    }\n",
       "\n",
       "    .dataframe thead th {\n",
       "        text-align: right;\n",
       "    }\n",
       "</style>\n",
       "<table border=\"1\" class=\"dataframe\">\n",
       "  <thead>\n",
       "    <tr style=\"text-align: right;\">\n",
       "      <th></th>\n",
       "      <th>Unnamed: 0</th>\n",
       "      <th>data</th>\n",
       "      <th>label</th>\n",
       "    </tr>\n",
       "  </thead>\n",
       "  <tbody>\n",
       "    <tr>\n",
       "      <th>0</th>\n",
       "      <td>0</td>\n",
       "      <td>재미는 있는데 시간이 짧은게 아쉽네요~</td>\n",
       "      <td>긍정</td>\n",
       "    </tr>\n",
       "    <tr>\n",
       "      <th>1</th>\n",
       "      <td>1</td>\n",
       "      <td>OO 관련 내용은 우리 직원과는 거리가 멀었음, 특히, 사내에 홍보할 내용은 아니라고 봄</td>\n",
       "      <td>부정</td>\n",
       "    </tr>\n",
       "    <tr>\n",
       "      <th>2</th>\n",
       "      <td>2</td>\n",
       "      <td>스토리가 너무 딱딱해서 별로였음</td>\n",
       "      <td>부정</td>\n",
       "    </tr>\n",
       "    <tr>\n",
       "      <th>3</th>\n",
       "      <td>3</td>\n",
       "      <td>프로그램A 화이팅하세요!!</td>\n",
       "      <td>긍정</td>\n",
       "    </tr>\n",
       "    <tr>\n",
       "      <th>4</th>\n",
       "      <td>4</td>\n",
       "      <td>높은 곳에 올라가는 모습이 너무 위험해 보여요.</td>\n",
       "      <td>부정</td>\n",
       "    </tr>\n",
       "  </tbody>\n",
       "</table>\n",
       "</div>"
      ],
      "text/plain": [
       "   Unnamed: 0                                               data label\n",
       "0           0                              재미는 있는데 시간이 짧은게 아쉽네요~    긍정\n",
       "1           1  OO 관련 내용은 우리 직원과는 거리가 멀었음, 특히, 사내에 홍보할 내용은 아니라고 봄    부정\n",
       "2           2                                  스토리가 너무 딱딱해서 별로였음    부정\n",
       "3           3                                     프로그램A 화이팅하세요!!    긍정\n",
       "4           4                         높은 곳에 올라가는 모습이 너무 위험해 보여요.    부정"
      ]
     },
     "execution_count": 3,
     "metadata": {},
     "output_type": "execute_result"
    }
   ],
   "source": [
    "train_data[:5] # 상위 5개 출력"
   ]
  },
  {
   "cell_type": "code",
   "execution_count": 4,
   "metadata": {
    "colab": {
     "base_uri": "https://localhost:8080/"
    },
    "executionInfo": {
     "elapsed": 12,
     "status": "ok",
     "timestamp": 1649663987674,
     "user": {
      "displayName": "yunwoo oh",
      "userId": "01035531558844683999"
     },
     "user_tz": -540
    },
    "id": "cgPK46E_uKPT",
    "outputId": "1b6d7e44-451a-4cf2-e6ea-d9d09cc2051e"
   },
   "outputs": [
    {
     "name": "stdout",
     "output_type": "stream",
     "text": [
      "251\n"
     ]
    }
   ],
   "source": [
    "print(len(train_data)) # 리뷰 개수 출력"
   ]
  },
  {
   "cell_type": "markdown",
   "metadata": {
    "id": "bfu_uSYyucfG"
   },
   "source": [
    "## 3. 훈련 데이터 전처리\n",
    "- null 제거\n",
    "- 불필요한 특수문자, 숫자등 제거"
   ]
  },
  {
   "cell_type": "code",
   "execution_count": 5,
   "metadata": {
    "colab": {
     "base_uri": "https://localhost:8080/"
    },
    "executionInfo": {
     "elapsed": 12,
     "status": "ok",
     "timestamp": 1649663987675,
     "user": {
      "displayName": "yunwoo oh",
      "userId": "01035531558844683999"
     },
     "user_tz": -540
    },
    "id": "enWSwe8tuSSb",
    "outputId": "d27fa4f6-bef2-43e1-d9b8-5948f6f8d6ea"
   },
   "outputs": [
    {
     "name": "stdout",
     "output_type": "stream",
     "text": [
      "Unnamed: 0    0\n",
      "data          0\n",
      "label         0\n",
      "dtype: int64\n"
     ]
    }
   ],
   "source": [
    "# NULL 값 존재 유무\n",
    "print(train_data.isnull().sum())"
   ]
  },
  {
   "cell_type": "code",
   "execution_count": 6,
   "metadata": {
    "colab": {
     "base_uri": "https://localhost:8080/"
    },
    "executionInfo": {
     "elapsed": 11,
     "status": "ok",
     "timestamp": 1649663987675,
     "user": {
      "displayName": "yunwoo oh",
      "userId": "01035531558844683999"
     },
     "user_tz": -540
    },
    "id": "eDdKNFNVua7J",
    "outputId": "2336b829-c931-4b03-d8a4-9308fc257fba"
   },
   "outputs": [],
   "source": [
    "# 'data' 컬럼에 대해 한글 외 문자 제거\n",
    "train_data['data'] = train_data['data'].str.replace(\"[^ㄱ-ㅎㅏ-ㅣ가-힣 ]\",\"\")"
   ]
  },
  {
   "cell_type": "code",
   "execution_count": 7,
   "metadata": {
    "colab": {
     "base_uri": "https://localhost:8080/",
     "height": 206
    },
    "executionInfo": {
     "elapsed": 10,
     "status": "ok",
     "timestamp": 1649663987676,
     "user": {
      "displayName": "yunwoo oh",
      "userId": "01035531558844683999"
     },
     "user_tz": -540
    },
    "id": "_A-RbCiiuj3d",
    "outputId": "c8458906-5ae1-4d3d-b65b-74faf9d65a2a",
    "scrolled": true
   },
   "outputs": [
    {
     "data": {
      "text/html": [
       "<div>\n",
       "<style scoped>\n",
       "    .dataframe tbody tr th:only-of-type {\n",
       "        vertical-align: middle;\n",
       "    }\n",
       "\n",
       "    .dataframe tbody tr th {\n",
       "        vertical-align: top;\n",
       "    }\n",
       "\n",
       "    .dataframe thead th {\n",
       "        text-align: right;\n",
       "    }\n",
       "</style>\n",
       "<table border=\"1\" class=\"dataframe\">\n",
       "  <thead>\n",
       "    <tr style=\"text-align: right;\">\n",
       "      <th></th>\n",
       "      <th>Unnamed: 0</th>\n",
       "      <th>data</th>\n",
       "      <th>label</th>\n",
       "    </tr>\n",
       "  </thead>\n",
       "  <tbody>\n",
       "    <tr>\n",
       "      <th>0</th>\n",
       "      <td>0</td>\n",
       "      <td>재미는 있는데 시간이 짧은게 아쉽네요</td>\n",
       "      <td>긍정</td>\n",
       "    </tr>\n",
       "    <tr>\n",
       "      <th>1</th>\n",
       "      <td>1</td>\n",
       "      <td>관련 내용은 우리 직원과는 거리가 멀었음 특히 사내에 홍보할 내용은 아니라고 봄</td>\n",
       "      <td>부정</td>\n",
       "    </tr>\n",
       "    <tr>\n",
       "      <th>2</th>\n",
       "      <td>2</td>\n",
       "      <td>스토리가 너무 딱딱해서 별로였음</td>\n",
       "      <td>부정</td>\n",
       "    </tr>\n",
       "    <tr>\n",
       "      <th>3</th>\n",
       "      <td>3</td>\n",
       "      <td>프로그램 화이팅하세요</td>\n",
       "      <td>긍정</td>\n",
       "    </tr>\n",
       "    <tr>\n",
       "      <th>4</th>\n",
       "      <td>4</td>\n",
       "      <td>높은 곳에 올라가는 모습이 너무 위험해 보여요</td>\n",
       "      <td>부정</td>\n",
       "    </tr>\n",
       "  </tbody>\n",
       "</table>\n",
       "</div>"
      ],
      "text/plain": [
       "   Unnamed: 0                                           data label\n",
       "0           0                           재미는 있는데 시간이 짧은게 아쉽네요    긍정\n",
       "1           1   관련 내용은 우리 직원과는 거리가 멀었음 특히 사내에 홍보할 내용은 아니라고 봄    부정\n",
       "2           2                              스토리가 너무 딱딱해서 별로였음    부정\n",
       "3           3                                    프로그램 화이팅하세요    긍정\n",
       "4           4                      높은 곳에 올라가는 모습이 너무 위험해 보여요    부정"
      ]
     },
     "execution_count": 7,
     "metadata": {},
     "output_type": "execute_result"
    }
   ],
   "source": [
    "train_data[:5] # 상위 5개 출력"
   ]
  },
  {
   "cell_type": "markdown",
   "metadata": {
    "id": "HdL9LovUP_se"
   },
   "source": [
    "## 4. 한글 형태소 분석기 OKT 이용하여 토큰나이즈"
   ]
  },
  {
   "cell_type": "code",
   "execution_count": 7,
   "metadata": {
    "executionInfo": {
     "elapsed": 9,
     "status": "ok",
     "timestamp": 1649663987676,
     "user": {
      "displayName": "yunwoo oh",
      "userId": "01035531558844683999"
     },
     "user_tz": -540
    },
    "id": "IhQlgrv5umUf"
   },
   "outputs": [],
   "source": [
    "# 불용어 정의\n",
    "stopwords = ['의','가','이','은','들','는','좀','잘','걍','과','도','를','으로','자','에','와','한','하다']"
   ]
  },
  {
   "cell_type": "code",
   "execution_count": 8,
   "metadata": {
    "executionInfo": {
     "elapsed": 16661,
     "status": "ok",
     "timestamp": 1649664004329,
     "user": {
      "displayName": "yunwoo oh",
      "userId": "01035531558844683999"
     },
     "user_tz": -540
    },
    "id": "8ozTTfxVuoDo"
   },
   "outputs": [],
   "source": [
    "# 형태소 분석기 OKT를 사용한 토큰화 작업 \n",
    "# 251개 문장 사용하여 금방 수행함\n",
    "\n",
    "okt = Okt()\n",
    "tokenized_data = []\n",
    "for sentence in train_data['data']:\n",
    "    temp_X = okt.morphs(sentence, stem=True) # 형태소 분류하여 토큰화, stem=True 어간 추출\n",
    "    temp_X = [word for word in temp_X if not word in stopwords] # 불용어 제거\n",
    "    tokenized_data.append(temp_X)"
   ]
  },
  {
   "cell_type": "code",
   "execution_count": 9,
   "metadata": {
    "colab": {
     "base_uri": "https://localhost:8080/"
    },
    "executionInfo": {
     "elapsed": 6,
     "status": "ok",
     "timestamp": 1649664004329,
     "user": {
      "displayName": "yunwoo oh",
      "userId": "01035531558844683999"
     },
     "user_tz": -540
    },
    "id": "utwsYCBjz5tG",
    "outputId": "ec54b9b0-732f-4c41-e4bc-4bffb0c70ca4"
   },
   "outputs": [
    {
     "name": "stdout",
     "output_type": "stream",
     "text": [
      "[['재미', '있다', '시간', '짧다', '아쉽다'], ['관련', '내용', '우리', '직원', '과는', '거리', '멀다', '특히', '사내', '홍보', '내용', '아니다', '봄'], ['스토리', '너무', '딱딱하다', '별로', '이다']]\n"
     ]
    }
   ],
   "source": [
    "print(tokenized_data[:3])"
   ]
  },
  {
   "cell_type": "code",
   "execution_count": 10,
   "metadata": {},
   "outputs": [
    {
     "data": {
      "text/plain": [
       "1039"
      ]
     },
     "execution_count": 10,
     "metadata": {},
     "output_type": "execute_result"
    }
   ],
   "source": [
    "# 단어 갯수 세기\n",
    "data_dict = set()\n",
    "for line in tokenized_data:\n",
    "    for word in line:\n",
    "        data_dict.add(word)\n",
    "\n",
    "len(data_dict)"
   ]
  },
  {
   "cell_type": "code",
   "execution_count": 11,
   "metadata": {
    "colab": {
     "base_uri": "https://localhost:8080/",
     "height": 316
    },
    "executionInfo": {
     "elapsed": 1586,
     "status": "ok",
     "timestamp": 1649664005913,
     "user": {
      "displayName": "yunwoo oh",
      "userId": "01035531558844683999"
     },
     "user_tz": -540
    },
    "id": "oh5y_Gsiutfl",
    "outputId": "58cd97ed-a67b-466a-e06c-8a327540bdc5"
   },
   "outputs": [
    {
     "name": "stdout",
     "output_type": "stream",
     "text": [
      "리뷰의 최대 길이 : 55\n",
      "리뷰의 평균 길이 : 13.354581673306773\n"
     ]
    },
    {
     "data": {
      "image/png": "[encoded data removed]",
      "text/plain": [
       "<Figure size 432x288 with 1 Axes>"
      ]
     },
     "metadata": {
      "needs_background": "light"
     },
     "output_type": "display_data"
    }
   ],
   "source": [
    "# 리뷰 길이 분포 확인\n",
    "print('리뷰의 최대 길이 :',max(len(l) for l in tokenized_data))\n",
    "print('리뷰의 평균 길이 :',sum(map(len, tokenized_data))/len(tokenized_data))\n",
    "plt.hist([len(s) for s in tokenized_data], bins=50)\n",
    "plt.xlabel('length of samples')\n",
    "plt.ylabel('number of samples')\n",
    "plt.show()"
   ]
  },
  {
   "cell_type": "markdown",
   "metadata": {
    "id": "gc_oFCADvKlK"
   },
   "source": [
    "## 5. Word2Vec 훈련시키고 유사도 측정\n",
    "- gensim의 word2vec을 이용하여 토큰(단어)을 의미있는 Vector로 만듬\n",
    "- wv(워드투벡터)의 most_similar 이용하여 유사도 측정"
   ]
  },
  {
   "cell_type": "markdown",
   "metadata": {},
   "source": [
    "![word2vec](https://user-images.githubusercontent.com/77143767/114329536-8f742100-9b7a-11eb-9d5f-8093393aa6e0.png)"
   ]
  },
  {
   "cell_type": "code",
   "execution_count": 12,
   "metadata": {
    "executionInfo": {
     "elapsed": 427,
     "status": "ok",
     "timestamp": 1649664006335,
     "user": {
      "displayName": "yunwoo oh",
      "userId": "01035531558844683999"
     },
     "user_tz": -540
    },
    "id": "AaWDziBovMKY"
   },
   "outputs": [],
   "source": [
    "# Word2Vec의 하이퍼파라미터값은 다음과 같습니다.\n",
    "# vector_size = 워드 벡터의 특징 값. 즉, 위드 임베딩 된 벡터의 차원.\n",
    "# window = 컨텍스트 윈도우 크기\n",
    "# min_count = 단어 최소 빈도 수 제한 (빈도가 적은 단어들은 학습하지 않는다.). 데이터 적어 0으로 지정\n",
    "# workers = 학습을 위한 프로세스 수\n",
    "# sg = 0은 CBOW, 1은 Skip-gram.\n",
    "\n",
    "# Word2Vec수행하게 되면 A방송사 댓글 데이터의 단어를 50차원의 밀집벡터로 변환하게 된다.\n",
    "\n",
    "from gensim.models import Word2Vec\n",
    "model = Word2Vec(sentences = tokenized_data, vector_size = 50, window = 5, min_count = 0, workers = 4, sg = 0)"
   ]
  },
  {
   "cell_type": "code",
   "execution_count": 13,
   "metadata": {},
   "outputs": [
    {
     "data": {
      "text/plain": [
       "<gensim.models.word2vec.Word2Vec at 0x7faf5070eb38>"
      ]
     },
     "execution_count": 13,
     "metadata": {},
     "output_type": "execute_result"
    }
   ],
   "source": [
    "model"
   ]
  },
  {
   "cell_type": "code",
   "execution_count": 14,
   "metadata": {
    "colab": {
     "base_uri": "https://localhost:8080/"
    },
    "executionInfo": {
     "elapsed": 645,
     "status": "ok",
     "timestamp": 1649664006978,
     "user": {
      "displayName": "yunwoo oh",
      "userId": "01035531558844683999"
     },
     "user_tz": -540
    },
    "id": "axk5M7lQvXRa",
    "outputId": "3664ef60-dba4-4929-fa24-972766d9aee3"
   },
   "outputs": [
    {
     "data": {
      "text/plain": [
       "(1039, 50)"
      ]
     },
     "execution_count": 14,
     "metadata": {},
     "output_type": "execute_result"
    }
   ],
   "source": [
    "# 완성된 임베딩 매트릭스의 크기 확인\n",
    "# 1039개 단어를 50차원 Vector 표현\n",
    "\n",
    "model.wv.vectors.shape"
   ]
  },
  {
   "cell_type": "code",
   "execution_count": 15,
   "metadata": {
    "colab": {
     "base_uri": "https://localhost:8080/"
    },
    "executionInfo": {
     "elapsed": 24,
     "status": "ok",
     "timestamp": 1649664006978,
     "user": {
      "displayName": "yunwoo oh",
      "userId": "01035531558844683999"
     },
     "user_tz": -540
    },
    "id": "OfV4tI2XSrNJ",
    "outputId": "a88de7e0-8552-4989-fe28-2c35aaef1ce8"
   },
   "outputs": [
    {
     "data": {
      "text/plain": [
       "1039"
      ]
     },
     "execution_count": 15,
     "metadata": {},
     "output_type": "execute_result"
    }
   ],
   "source": [
    "# 단어 갯수 : 1039\n",
    "len(model.wv.key_to_index)"
   ]
  },
  {
   "cell_type": "code",
   "execution_count": 16,
   "metadata": {
    "colab": {
     "base_uri": "https://localhost:8080/"
    },
    "executionInfo": {
     "elapsed": 22,
     "status": "ok",
     "timestamp": 1649664006978,
     "user": {
      "displayName": "yunwoo oh",
      "userId": "01035531558844683999"
     },
     "user_tz": -540
    },
    "id": "l0EazDq0wn4q",
    "outputId": "f7f788ba-3c03-47b7-a997-86ac2473fa26",
    "scrolled": true
   },
   "outputs": [
    {
     "data": {
      "text/plain": [
       "{'재미': <gensim.models.keyedvectors.Vocab at 0x7faf34e482b0>,\n",
       " '있다': <gensim.models.keyedvectors.Vocab at 0x7fafacb994a8>,\n",
       " '시간': <gensim.models.keyedvectors.Vocab at 0x7fafacb99518>,\n",
       " '짧다': <gensim.models.keyedvectors.Vocab at 0x7faf506fe978>,\n",
       " '아쉽다': <gensim.models.keyedvectors.Vocab at 0x7faf506fe7f0>,\n",
       " '관련': <gensim.models.keyedvectors.Vocab at 0x7fafa3c84ba8>,\n",
       " '내용': <gensim.models.keyedvectors.Vocab at 0x7fafa3c84ac8>,\n",
       " '우리': <gensim.models.keyedvectors.Vocab at 0x7fb0b3530898>,\n",
       " '직원': <gensim.models.keyedvectors.Vocab at 0x7fb0d9537128>,\n",
       " '과는': <gensim.models.keyedvectors.Vocab at 0x7faf349c0160>,\n",
       " '거리': <gensim.models.keyedvectors.Vocab at 0x7faf34e50518>,\n",
       " '멀다': <gensim.models.keyedvectors.Vocab at 0x7faf34e50828>,\n",
       " '특히': <gensim.models.keyedvectors.Vocab at 0x7faf34e503c8>,\n",
       " '사내': <gensim.models.keyedvectors.Vocab at 0x7faf34e505c0>,\n",
       " '홍보': <gensim.models.keyedvectors.Vocab at 0x7faf34e50550>,\n",
       " '아니다': <gensim.models.keyedvectors.Vocab at 0x7faf34e50630>,\n",
       " '봄': <gensim.models.keyedvectors.Vocab at 0x7faf34e50978>,\n",
       " '스토리': <gensim.models.keyedvectors.Vocab at 0x7faf34e50860>,\n",
       " '너무': <gensim.models.keyedvectors.Vocab at 0x7faf34e50898>,\n",
       " '딱딱하다': <gensim.models.keyedvectors.Vocab at 0x7faf34e506d8>,\n",
       " '별로': <gensim.models.keyedvectors.Vocab at 0x7faf34e506a0>,\n",
       " '이다': <gensim.models.keyedvectors.Vocab at 0x7faf34e505f8>,\n",
       " '프로그램': <gensim.models.keyedvectors.Vocab at 0x7faf34e50e48>,\n",
       " '화이팅': <gensim.models.keyedvectors.Vocab at 0x7faf34e50cf8>,\n",
       " '높다': <gensim.models.keyedvectors.Vocab at 0x7faf34e504a8>,\n",
       " '곳': <gensim.models.keyedvectors.Vocab at 0x7faf34e50a58>,\n",
       " '올라가다': <gensim.models.keyedvectors.Vocab at 0x7faf34e507f0>,\n",
       " '모습': <gensim.models.keyedvectors.Vocab at 0x7faf34e50438>,\n",
       " '위험하다': <gensim.models.keyedvectors.Vocab at 0x7faf34e50f60>,\n",
       " '보이다': <gensim.models.keyedvectors.Vocab at 0x7faf34e50a90>,\n",
       " '재밌다': <gensim.models.keyedvectors.Vocab at 0x7faf34e504e0>,\n",
       " '보다': <gensim.models.keyedvectors.Vocab at 0x7faf34e508d0>,\n",
       " 'ㅋㅋ': <gensim.models.keyedvectors.Vocab at 0x7faf34e50320>,\n",
       " '송씨': <gensim.models.keyedvectors.Vocab at 0x7faf34e50470>,\n",
       " '출근': <gensim.models.keyedvectors.Vocab at 0x7faf34e50e80>,\n",
       " '하': <gensim.models.keyedvectors.Vocab at 0x7faf34e50780>,\n",
       " '자마자': <gensim.models.keyedvectors.Vocab at 0x7faf34e50e10>,\n",
       " '안마': <gensim.models.keyedvectors.Vocab at 0x7faf349c3278>,\n",
       " '의자': <gensim.models.keyedvectors.Vocab at 0x7faf34a2b9e8>,\n",
       " '앉다': <gensim.models.keyedvectors.Vocab at 0x7faf34a2bc88>,\n",
       " '쉬다': <gensim.models.keyedvectors.Vocab at 0x7faf50b76438>,\n",
       " '부럽다': <gensim.models.keyedvectors.Vocab at 0x7faf50b76748>,\n",
       " '기도': <gensim.models.keyedvectors.Vocab at 0x7faf34976cc0>,\n",
       " '쇼': <gensim.models.keyedvectors.Vocab at 0x7faf34969860>,\n",
       " '호스트': <gensim.models.keyedvectors.Vocab at 0x7faf349699b0>,\n",
       " '분들': <gensim.models.keyedvectors.Vocab at 0x7faf349699e8>,\n",
       " '진행': <gensim.models.keyedvectors.Vocab at 0x7faf34969978>,\n",
       " '솜씨': <gensim.models.keyedvectors.Vocab at 0x7faf34969898>,\n",
       " '또한': <gensim.models.keyedvectors.Vocab at 0x7faf34969908>,\n",
       " '감탄': <gensim.models.keyedvectors.Vocab at 0x7faf349698d0>,\n",
       " '하고': <gensim.models.keyedvectors.Vocab at 0x7faf34969940>,\n",
       " '가다': <gensim.models.keyedvectors.Vocab at 0x7faf349697f0>,\n",
       " '다음': <gensim.models.keyedvectors.Vocab at 0x7faf34969780>,\n",
       " '어디': <gensim.models.keyedvectors.Vocab at 0x7faf34969828>,\n",
       " '외부': <gensim.models.keyedvectors.Vocab at 0x7faf34969be0>,\n",
       " '탐방': <gensim.models.keyedvectors.Vocab at 0x7faf34969b70>,\n",
       " '예정': <gensim.models.keyedvectors.Vocab at 0x7faf3490a2e8>,\n",
       " '인가요': <gensim.models.keyedvectors.Vocab at 0x7faf3490a358>,\n",
       " '비유': <gensim.models.keyedvectors.Vocab at 0x7faf3490af28>,\n",
       " '찰떡': <gensim.models.keyedvectors.Vocab at 0x7faf3491f6a0>,\n",
       " '이에요': <gensim.models.keyedvectors.Vocab at 0x7faf3491f7f0>,\n",
       " '광고': <gensim.models.keyedvectors.Vocab at 0x7faf3491ff28>,\n",
       " '섭외': <gensim.models.keyedvectors.Vocab at 0x7faf3491fe80>,\n",
       " '되다': <gensim.models.keyedvectors.Vocab at 0x7faf34930d68>,\n",
       " '모델': <gensim.models.keyedvectors.Vocab at 0x7faf348e4940>,\n",
       " '이랑': <gensim.models.keyedvectors.Vocab at 0x7faf348e4978>,\n",
       " '이네': <gensim.models.keyedvectors.Vocab at 0x7faf348e49b0>,\n",
       " '요': <gensim.models.keyedvectors.Vocab at 0x7faf348e49e8>,\n",
       " '목소리': <gensim.models.keyedvectors.Vocab at 0x7faf348e4c88>,\n",
       " '자다': <gensim.models.keyedvectors.Vocab at 0x7faf348e4cc0>,\n",
       " '어울리다': <gensim.models.keyedvectors.Vocab at 0x7faf348e4cf8>,\n",
       " '달': <gensim.models.keyedvectors.Vocab at 0x7faf348e4d30>,\n",
       " '픽': <gensim.models.keyedvectors.Vocab at 0x7faf348e4d68>,\n",
       " '싹': <gensim.models.keyedvectors.Vocab at 0x7faf348e4da0>,\n",
       " '쓰리다': <gensim.models.keyedvectors.Vocab at 0x7faf348e4dd8>,\n",
       " '요즘': <gensim.models.keyedvectors.Vocab at 0x7faf348e4e10>,\n",
       " '온라인': <gensim.models.keyedvectors.Vocab at 0x7faf348e4e48>,\n",
       " '영상': <gensim.models.keyedvectors.Vocab at 0x7faf348e4e80>,\n",
       " '사진': <gensim.models.keyedvectors.Vocab at 0x7faf348e4eb8>,\n",
       " '많다': <gensim.models.keyedvectors.Vocab at 0x7faf348e4ef0>,\n",
       " '읽다': <gensim.models.keyedvectors.Vocab at 0x7faf348e4f28>,\n",
       " '줄': <gensim.models.keyedvectors.Vocab at 0x7faf348e4f60>,\n",
       " '모르다': <gensim.models.keyedvectors.Vocab at 0x7faf348e4f98>,\n",
       " '재미있다': <gensim.models.keyedvectors.Vocab at 0x7faf348e4fd0>,\n",
       " '수고': <gensim.models.keyedvectors.Vocab at 0x7faf348f6048>,\n",
       " '감사하다': <gensim.models.keyedvectors.Vocab at 0x7faf348f6080>,\n",
       " '다양하다': <gensim.models.keyedvectors.Vocab at 0x7faf348f60b8>,\n",
       " '사례': <gensim.models.keyedvectors.Vocab at 0x7faf348f60f0>,\n",
       " '또는': <gensim.models.keyedvectors.Vocab at 0x7faf348f6128>,\n",
       " '가지': <gensim.models.keyedvectors.Vocab at 0x7faf348f6160>,\n",
       " '대한': <gensim.models.keyedvectors.Vocab at 0x7faf348f6198>,\n",
       " '깊다': <gensim.models.keyedvectors.Vocab at 0x7faf348f61d0>,\n",
       " '설명': <gensim.models.keyedvectors.Vocab at 0x7faf348f6208>,\n",
       " '필요': <gensim.models.keyedvectors.Vocab at 0x7faf348f6240>,\n",
       " '오다': <gensim.models.keyedvectors.Vocab at 0x7faf348f6278>,\n",
       " '닿다': <gensim.models.keyedvectors.Vocab at 0x7faf348f62b0>,\n",
       " '않다': <gensim.models.keyedvectors.Vocab at 0x7faf348f62e8>,\n",
       " '더': <gensim.models.keyedvectors.Vocab at 0x7faf348f6320>,\n",
       " '실제': <gensim.models.keyedvectors.Vocab at 0x7faf348f6358>,\n",
       " '같다': <gensim.models.keyedvectors.Vocab at 0x7faf348f6390>,\n",
       " '미숙': <gensim.models.keyedvectors.Vocab at 0x7faf348f63c8>,\n",
       " '전체': <gensim.models.keyedvectors.Vocab at 0x7faf348f6400>,\n",
       " '적': <gensim.models.keyedvectors.Vocab at 0x7faf348f6438>,\n",
       " '지루함': <gensim.models.keyedvectors.Vocab at 0x7faf348f6470>,\n",
       " '을': <gensim.models.keyedvectors.Vocab at 0x7faf348f64a8>,\n",
       " '느끼다': <gensim.models.keyedvectors.Vocab at 0x7faf348f64e0>,\n",
       " '방송': <gensim.models.keyedvectors.Vocab at 0x7faf348f6518>,\n",
       " '하루': <gensim.models.keyedvectors.Vocab at 0x7faf348f6550>,\n",
       " '시작': <gensim.models.keyedvectors.Vocab at 0x7faf348f6588>,\n",
       " '즐겁다': <gensim.models.keyedvectors.Vocab at 0x7faf348f65c0>,\n",
       " '실적': <gensim.models.keyedvectors.Vocab at 0x7faf348f65f8>,\n",
       " '향상': <gensim.models.keyedvectors.Vocab at 0x7faf348f6630>,\n",
       " '위해': <gensim.models.keyedvectors.Vocab at 0x7faf348f6668>,\n",
       " '노력': <gensim.models.keyedvectors.Vocab at 0x7faf348f66a0>,\n",
       " '지점': <gensim.models.keyedvectors.Vocab at 0x7faf348f66d8>,\n",
       " '갈수록': <gensim.models.keyedvectors.Vocab at 0x7faf348f6710>,\n",
       " '회': <gensim.models.keyedvectors.Vocab at 0x7faf348f6748>,\n",
       " '어떻다': <gensim.models.keyedvectors.Vocab at 0x7faf348f6780>,\n",
       " '기대': <gensim.models.keyedvectors.Vocab at 0x7faf348f67b8>,\n",
       " '저희': <gensim.models.keyedvectors.Vocab at 0x7faf348f67f0>,\n",
       " '회사': <gensim.models.keyedvectors.Vocab at 0x7faf348f6828>,\n",
       " '호흡': <gensim.models.keyedvectors.Vocab at 0x7faf348f6860>,\n",
       " '좋다': <gensim.models.keyedvectors.Vocab at 0x7faf348f6898>,\n",
       " '상당하다': <gensim.models.keyedvectors.Vocab at 0x7faf348f68d0>,\n",
       " '매': <gensim.models.keyedvectors.Vocab at 0x7faf348f6908>,\n",
       " '끄다': <gensim.models.keyedvectors.Vocab at 0x7faf348f6940>,\n",
       " '워': <gensim.models.keyedvectors.Vocab at 0x7faf348f6978>,\n",
       " '내내': <gensim.models.keyedvectors.Vocab at 0x7faf348f69b0>,\n",
       " '전혀': <gensim.models.keyedvectors.Vocab at 0x7faf348f69e8>,\n",
       " '꾸다': <gensim.models.keyedvectors.Vocab at 0x7faf348f6a20>,\n",
       " '늘다': <gensim.models.keyedvectors.Vocab at 0x7faf348f6a58>,\n",
       " '없이': <gensim.models.keyedvectors.Vocab at 0x7faf348f6a90>,\n",
       " '능숙하다': <gensim.models.keyedvectors.Vocab at 0x7faf348f6ac8>,\n",
       " '지다': <gensim.models.keyedvectors.Vocab at 0x7faf348f6b00>,\n",
       " '늘': <gensim.models.keyedvectors.Vocab at 0x7faf348f6b38>,\n",
       " '참신하다': <gensim.models.keyedvectors.Vocab at 0x7faf348f6b70>,\n",
       " '보고': <gensim.models.keyedvectors.Vocab at 0x7faf348f6ba8>,\n",
       " '최근': <gensim.models.keyedvectors.Vocab at 0x7faf348f6be0>,\n",
       " '서비스': <gensim.models.keyedvectors.Vocab at 0x7faf348f6c18>,\n",
       " '위주': <gensim.models.keyedvectors.Vocab at 0x7faf348f6c50>,\n",
       " '콘텐츠': <gensim.models.keyedvectors.Vocab at 0x7faf348f6c88>,\n",
       " '집중': <gensim.models.keyedvectors.Vocab at 0x7faf348f6cc0>,\n",
       " '나오다': <gensim.models.keyedvectors.Vocab at 0x7faf348f6cf8>,\n",
       " '경향': <gensim.models.keyedvectors.Vocab at 0x7faf348f6d30>,\n",
       " '것': <gensim.models.keyedvectors.Vocab at 0x7faf348f6d68>,\n",
       " '소비자': <gensim.models.keyedvectors.Vocab at 0x7faf348f6da0>,\n",
       " '연결하다': <gensim.models.keyedvectors.Vocab at 0x7faf348f6dd8>,\n",
       " '보강': <gensim.models.keyedvectors.Vocab at 0x7faf348f6e10>,\n",
       " '주다': <gensim.models.keyedvectors.Vocab at 0x7faf348f6e48>,\n",
       " '아직': <gensim.models.keyedvectors.Vocab at 0x7faf348f6e80>,\n",
       " '들이다': <gensim.models.keyedvectors.Vocab at 0x7faf348f6eb8>,\n",
       " '해보다': <gensim.models.keyedvectors.Vocab at 0x7faf348f6ef0>,\n",
       " '어색하다': <gensim.models.keyedvectors.Vocab at 0x7faf348f6f28>,\n",
       " '말': <gensim.models.keyedvectors.Vocab at 0x7faf348f6f60>,\n",
       " '많이': <gensim.models.keyedvectors.Vocab at 0x7faf348f6f98>,\n",
       " '들다': <gensim.models.keyedvectors.Vocab at 0x7faf348f6fd0>,\n",
       " '데이터': <gensim.models.keyedvectors.Vocab at 0x7faf348fa048>,\n",
       " '활용': <gensim.models.keyedvectors.Vocab at 0x7faf348fa080>,\n",
       " '이러하다': <gensim.models.keyedvectors.Vocab at 0x7faf348fa0b8>,\n",
       " '상품': <gensim.models.keyedvectors.Vocab at 0x7faf348fa0f0>,\n",
       " '통해': <gensim.models.keyedvectors.Vocab at 0x7faf348fa128>,\n",
       " '서': <gensim.models.keyedvectors.Vocab at 0x7faf348fa160>,\n",
       " '매출': <gensim.models.keyedvectors.Vocab at 0x7faf348fa198>,\n",
       " '얼마나': <gensim.models.keyedvectors.Vocab at 0x7faf348fa1d0>,\n",
       " '도움': <gensim.models.keyedvectors.Vocab at 0x7faf348fa208>,\n",
       " '되어다': <gensim.models.keyedvectors.Vocab at 0x7faf348fa240>,\n",
       " '가장': <gensim.models.keyedvectors.Vocab at 0x7faf348fa278>,\n",
       " '중요하다': <gensim.models.keyedvectors.Vocab at 0x7faf348fa2b0>,\n",
       " '빠지다': <gensim.models.keyedvectors.Vocab at 0x7faf348fa2e8>,\n",
       " '간편': <gensim.models.keyedvectors.Vocab at 0x7faf348fa320>,\n",
       " '납부': <gensim.models.keyedvectors.Vocab at 0x7faf348fa358>,\n",
       " '고객': <gensim.models.keyedvectors.Vocab at 0x7faf348fa390>,\n",
       " '에게': <gensim.models.keyedvectors.Vocab at 0x7faf348fa3c8>,\n",
       " '주류': <gensim.models.keyedvectors.Vocab at 0x7faf348fa400>,\n",
       " '기업': <gensim.models.keyedvectors.Vocab at 0x7faf348fa438>,\n",
       " '마케팅': <gensim.models.keyedvectors.Vocab at 0x7faf348fa470>,\n",
       " '중': <gensim.models.keyedvectors.Vocab at 0x7faf348fa4a8>,\n",
       " '에서': <gensim.models.keyedvectors.Vocab at 0x7faf348fa4e0>,\n",
       " '하이트': <gensim.models.keyedvectors.Vocab at 0x7faf348fa518>,\n",
       " '네': <gensim.models.keyedvectors.Vocab at 0x7faf348fa550>,\n",
       " '임': <gensim.models.keyedvectors.Vocab at 0x7faf348fa588>,\n",
       " '숨기': <gensim.models.keyedvectors.Vocab at 0x7faf348fa5c0>,\n",
       " '고': <gensim.models.keyedvectors.Vocab at 0x7faf348fa5f8>,\n",
       " '독자': <gensim.models.keyedvectors.Vocab at 0x7faf348fa630>,\n",
       " '브랜드': <gensim.models.keyedvectors.Vocab at 0x7faf348fa668>,\n",
       " '노선': <gensim.models.keyedvectors.Vocab at 0x7faf348fa6a0>,\n",
       " '성공하다': <gensim.models.keyedvectors.Vocab at 0x7faf348fa6d8>,\n",
       " '시즌': <gensim.models.keyedvectors.Vocab at 0x7faf348fa710>,\n",
       " '떠오르다': <gensim.models.keyedvectors.Vocab at 0x7faf348fa748>,\n",
       " '탄탄하다': <gensim.models.keyedvectors.Vocab at 0x7faf348fa780>,\n",
       " '기본': <gensim.models.keyedvectors.Vocab at 0x7faf348fa7b8>,\n",
       " '이고': <gensim.models.keyedvectors.Vocab at 0x7faf348fa7f0>,\n",
       " '적절하다': <gensim.models.keyedvectors.Vocab at 0x7faf348fa828>,\n",
       " '트렌디': <gensim.models.keyedvectors.Vocab at 0x7faf348fa860>,\n",
       " '공략': <gensim.models.keyedvectors.Vocab at 0x7faf348fa898>,\n",
       " '더욱': <gensim.models.keyedvectors.Vocab at 0x7faf348fa8d0>,\n",
       " '당당하다': <gensim.models.keyedvectors.Vocab at 0x7faf348fa908>,\n",
       " '단단하다': <gensim.models.keyedvectors.Vocab at 0x7faf348fa940>,\n",
       " '기르다': <gensim.models.keyedvectors.Vocab at 0x7faf348fa978>,\n",
       " '국민': <gensim.models.keyedvectors.Vocab at 0x7faf348fa9b0>,\n",
       " '중심': <gensim.models.keyedvectors.Vocab at 0x7faf348fa9e8>,\n",
       " '유익하다': <gensim.models.keyedvectors.Vocab at 0x7faf348faa20>,\n",
       " '정보': <gensim.models.keyedvectors.Vocab at 0x7faf348faa58>,\n",
       " '에도': <gensim.models.keyedvectors.Vocab at 0x7faf348faa90>,\n",
       " '부탁': <gensim.models.keyedvectors.Vocab at 0x7faf348faac8>,\n",
       " '예시': <gensim.models.keyedvectors.Vocab at 0x7faf348fab00>,\n",
       " '오히려': <gensim.models.keyedvectors.Vocab at 0x7faf348fab38>,\n",
       " '부정': <gensim.models.keyedvectors.Vocab at 0x7faf348fab70>,\n",
       " '인': <gensim.models.keyedvectors.Vocab at 0x7faf348faba8>,\n",
       " '전기': <gensim.models.keyedvectors.Vocab at 0x7faf348fabe0>,\n",
       " '통신비': <gensim.models.keyedvectors.Vocab at 0x7faf348fac18>,\n",
       " '절감': <gensim.models.keyedvectors.Vocab at 0x7faf348fac50>,\n",
       " '무료컨설팅': <gensim.models.keyedvectors.Vocab at 0x7faf348fac88>,\n",
       " '통한': <gensim.models.keyedvectors.Vocab at 0x7faf348facc0>,\n",
       " '판매': <gensim.models.keyedvectors.Vocab at 0x7faf348facf8>,\n",
       " '활성화': <gensim.models.keyedvectors.Vocab at 0x7faf348fad30>,\n",
       " '방안': <gensim.models.keyedvectors.Vocab at 0x7faf348fad68>,\n",
       " '보기': <gensim.models.keyedvectors.Vocab at 0x7faf348fada0>,\n",
       " '점점': <gensim.models.keyedvectors.Vocab at 0x7faf348fadd8>,\n",
       " '이미지': <gensim.models.keyedvectors.Vocab at 0x7faf348fae10>,\n",
       " '크게': <gensim.models.keyedvectors.Vocab at 0x7faf348fae48>,\n",
       " '부각': <gensim.models.keyedvectors.Vocab at 0x7faf348fae80>,\n",
       " '현실': <gensim.models.keyedvectors.Vocab at 0x7faf348faeb8>,\n",
       " '변화': <gensim.models.keyedvectors.Vocab at 0x7faf348faef0>,\n",
       " '필요하다': <gensim.models.keyedvectors.Vocab at 0x7faf348faf28>,\n",
       " '금일': <gensim.models.keyedvectors.Vocab at 0x7faf348faf60>,\n",
       " '추진': <gensim.models.keyedvectors.Vocab at 0x7faf348faf98>,\n",
       " '제': <gensim.models.keyedvectors.Vocab at 0x7faf348fafd0>,\n",
       " '활동': <gensim.models.keyedvectors.Vocab at 0x7faf348fc048>,\n",
       " '대': <gensim.models.keyedvectors.Vocab at 0x7faf348fc080>,\n",
       " '내외': <gensim.models.keyedvectors.Vocab at 0x7faf348fc0b8>,\n",
       " '트렌드': <gensim.models.keyedvectors.Vocab at 0x7faf348fc0f0>,\n",
       " '쇼핑': <gensim.models.keyedvectors.Vocab at 0x7faf348fc128>,\n",
       " '콘셉트': <gensim.models.keyedvectors.Vocab at 0x7faf348fc160>,\n",
       " '소개': <gensim.models.keyedvectors.Vocab at 0x7faf348fc198>,\n",
       " '찜': <gensim.models.keyedvectors.Vocab at 0x7faf348fc1d0>,\n",
       " '장바구니': <gensim.models.keyedvectors.Vocab at 0x7faf348fc208>,\n",
       " '이태원': <gensim.models.keyedvectors.Vocab at 0x7faf348fc240>,\n",
       " '크다': <gensim.models.keyedvectors.Vocab at 0x7faf348fc278>,\n",
       " '쓰다': <gensim.models.keyedvectors.Vocab at 0x7faf348fc2b0>,\n",
       " '소신': <gensim.models.keyedvectors.Vocab at 0x7faf348fc2e8>,\n",
       " '자존감': <gensim.models.keyedvectors.Vocab at 0x7faf348fc320>,\n",
       " '마스크': <gensim.models.keyedvectors.Vocab at 0x7faf348fc358>,\n",
       " '인질': <gensim.models.keyedvectors.Vocab at 0x7faf348fc390>,\n",
       " '극': <gensim.models.keyedvectors.Vocab at 0x7faf348fc3c8>,\n",
       " '유의': <gensim.models.keyedvectors.Vocab at 0x7faf348fc400>,\n",
       " '눈물': <gensim.models.keyedvectors.Vocab at 0x7faf348fc438>,\n",
       " '성': <gensim.models.keyedvectors.Vocab at 0x7faf348fc470>,\n",
       " '공': <gensim.models.keyedvectors.Vocab at 0x7faf348fc4a8>,\n",
       " '전략': <gensim.models.keyedvectors.Vocab at 0x7faf348fc4e0>,\n",
       " '티르': <gensim.models.keyedvectors.Vocab at 0x7faf348fc518>,\n",
       " '차다': <gensim.models.keyedvectors.Vocab at 0x7faf348fc550>,\n",
       " '아무래도': <gensim.models.keyedvectors.Vocab at 0x7faf348fc588>,\n",
       " '센터': <gensim.models.keyedvectors.Vocab at 0x7faf348fc5c0>,\n",
       " '전화': <gensim.models.keyedvectors.Vocab at 0x7faf348fc5f8>,\n",
       " '상': <gensim.models.keyedvectors.Vocab at 0x7faf348fc630>,\n",
       " '유치하다': <gensim.models.keyedvectors.Vocab at 0x7faf348fc668>,\n",
       " '부서': <gensim.models.keyedvectors.Vocab at 0x7faf348fc6a0>,\n",
       " '근무': <gensim.models.keyedvectors.Vocab at 0x7faf348fc6d8>,\n",
       " '셀프': <gensim.models.keyedvectors.Vocab at 0x7faf348fc710>,\n",
       " '개통': <gensim.models.keyedvectors.Vocab at 0x7faf348fc748>,\n",
       " '눈': <gensim.models.keyedvectors.Vocab at 0x7faf348fc780>,\n",
       " '들어오다': <gensim.models.keyedvectors.Vocab at 0x7faf348fc7b8>,\n",
       " '시': <gensim.models.keyedvectors.Vocab at 0x7faf348fc7f0>,\n",
       " '출동': <gensim.models.keyedvectors.Vocab at 0x7faf348fc828>,\n",
       " '비': <gensim.models.keyedvectors.Vocab at 0x7faf348fc860>,\n",
       " '불만': <gensim.models.keyedvectors.Vocab at 0x7faf348fc898>,\n",
       " '적극': <gensim.models.keyedvectors.Vocab at 0x7faf348fc8d0>,\n",
       " '역시': <gensim.models.keyedvectors.Vocab at 0x7faf348fc908>,\n",
       " '선도': <gensim.models.keyedvectors.Vocab at 0x7faf348fc940>,\n",
       " '그룹': <gensim.models.keyedvectors.Vocab at 0x7faf348fc978>,\n",
       " '핵심': <gensim.models.keyedvectors.Vocab at 0x7faf348fc9b0>,\n",
       " '가치': <gensim.models.keyedvectors.Vocab at 0x7faf348fc9e8>,\n",
       " '실천': <gensim.models.keyedvectors.Vocab at 0x7faf348fca20>,\n",
       " '화': <gensim.models.keyedvectors.Vocab at 0x7faf348fca58>,\n",
       " '화사': <gensim.models.keyedvectors.Vocab at 0x7faf348fca90>,\n",
       " '굿굿': <gensim.models.keyedvectors.Vocab at 0x7faf348fcac8>,\n",
       " '후반': <gensim.models.keyedvectors.Vocab at 0x7faf348fcb00>,\n",
       " '부': <gensim.models.keyedvectors.Vocab at 0x7faf348fcb38>,\n",
       " '에서는': <gensim.models.keyedvectors.Vocab at 0x7faf348fcb70>,\n",
       " '떨어지다': <gensim.models.keyedvectors.Vocab at 0x7faf348fcba8>,\n",
       " '타': <gensim.models.keyedvectors.Vocab at 0x7faf348fcbe0>,\n",
       " '처럼': <gensim.models.keyedvectors.Vocab at 0x7faf348fcc18>,\n",
       " '마무리': <gensim.models.keyedvectors.Vocab at 0x7faf348fcc50>,\n",
       " '방식': <gensim.models.keyedvectors.Vocab at 0x7faf348fcc88>,\n",
       " '생각': <gensim.models.keyedvectors.Vocab at 0x7faf348fccc0>,\n",
       " '유행': <gensim.models.keyedvectors.Vocab at 0x7faf348fccf8>,\n",
       " '민감하다': <gensim.models.keyedvectors.Vocab at 0x7faf348fcd30>,\n",
       " '분': <gensim.models.keyedvectors.Vocab at 0x7faf348fcd68>,\n",
       " '가끔': <gensim.models.keyedvectors.Vocab at 0x7faf348fcda0>,\n",
       " '무슨': <gensim.models.keyedvectors.Vocab at 0x7faf348fcdd8>,\n",
       " '이해': <gensim.models.keyedvectors.Vocab at 0x7faf348fce10>,\n",
       " '어렵다': <gensim.models.keyedvectors.Vocab at 0x7faf348fce48>,\n",
       " '점': <gensim.models.keyedvectors.Vocab at 0x7faf348fce80>,\n",
       " '간단하다': <gensim.models.keyedvectors.Vocab at 0x7faf348fceb8>,\n",
       " '하단': <gensim.models.keyedvectors.Vocab at 0x7faf348fcef0>,\n",
       " '자막': <gensim.models.keyedvectors.Vocab at 0x7faf348fcf28>,\n",
       " '없다': <gensim.models.keyedvectors.Vocab at 0x7faf348fcf60>,\n",
       " '사업': <gensim.models.keyedvectors.Vocab at 0x7faf348fcf98>,\n",
       " '우회': <gensim.models.keyedvectors.Vocab at 0x7faf348fcfd0>,\n",
       " '의미': <gensim.models.keyedvectors.Vocab at 0x7faf348ff048>,\n",
       " '만들다': <gensim.models.keyedvectors.Vocab at 0x7faf348ff080>,\n",
       " '현장': <gensim.models.keyedvectors.Vocab at 0x7faf348ff0b8>,\n",
       " '메시지': <gensim.models.keyedvectors.Vocab at 0x7faf348ff0f0>,\n",
       " '전달': <gensim.models.keyedvectors.Vocab at 0x7faf348ff128>,\n",
       " '어리다': <gensim.models.keyedvectors.Vocab at 0x7faf348ff160>,\n",
       " '맡다': <gensim.models.keyedvectors.Vocab at 0x7faf348ff198>,\n",
       " '역할': <gensim.models.keyedvectors.Vocab at 0x7faf348ff1d0>,\n",
       " '볼': <gensim.models.keyedvectors.Vocab at 0x7faf348ff208>,\n",
       " '수': <gensim.models.keyedvectors.Vocab at 0x7faf348ff240>,\n",
       " '기회': <gensim.models.keyedvectors.Vocab at 0x7faf348ff278>,\n",
       " '응원': <gensim.models.keyedvectors.Vocab at 0x7faf348ff2b0>,\n",
       " '파이팅': <gensim.models.keyedvectors.Vocab at 0x7faf348ff2e8>,\n",
       " '신선하다': <gensim.models.keyedvectors.Vocab at 0x7faf348ff320>,\n",
       " '프로': <gensim.models.keyedvectors.Vocab at 0x7faf348ff358>,\n",
       " '정량': <gensim.models.keyedvectors.Vocab at 0x7faf348ff390>,\n",
       " '지표': <gensim.models.keyedvectors.Vocab at 0x7faf348ff3c8>,\n",
       " '장난': <gensim.models.keyedvectors.Vocab at 0x7faf348ff400>,\n",
       " '스럽게': <gensim.models.keyedvectors.Vocab at 0x7faf348ff438>,\n",
       " '느껴지다': <gensim.models.keyedvectors.Vocab at 0x7faf348ff470>,\n",
       " '면': <gensim.models.keyedvectors.Vocab at 0x7faf348ff4a8>,\n",
       " '오디오': <gensim.models.keyedvectors.Vocab at 0x7faf348ff4e0>,\n",
       " '소리': <gensim.models.keyedvectors.Vocab at 0x7faf348ff518>,\n",
       " '작다': <gensim.models.keyedvectors.Vocab at 0x7faf348ff550>,\n",
       " '저만': <gensim.models.keyedvectors.Vocab at 0x7faf348ff588>,\n",
       " '건지다': <gensim.models.keyedvectors.Vocab at 0x7faf348ff5c0>,\n",
       " '확인': <gensim.models.keyedvectors.Vocab at 0x7faf348ff5f8>,\n",
       " '마다': <gensim.models.keyedvectors.Vocab at 0x7faf348ff630>,\n",
       " '아이디어': <gensim.models.keyedvectors.Vocab at 0x7faf348ff668>,\n",
       " '도출': <gensim.models.keyedvectors.Vocab at 0x7faf348ff6a0>,\n",
       " '단일': <gensim.models.keyedvectors.Vocab at 0x7faf348ff6d8>,\n",
       " '솔루션': <gensim.models.keyedvectors.Vocab at 0x7faf348ff710>,\n",
       " '만': <gensim.models.keyedvectors.Vocab at 0x7faf348ff748>,\n",
       " '시장': <gensim.models.keyedvectors.Vocab at 0x7faf348ff780>,\n",
       " '입장': <gensim.models.keyedvectors.Vocab at 0x7faf348ff7b8>,\n",
       " '새롭다': <gensim.models.keyedvectors.Vocab at 0x7faf348ff7f0>,\n",
       " '인상': <gensim.models.keyedvectors.Vocab at 0x7faf348ff828>,\n",
       " '부분': <gensim.models.keyedvectors.Vocab at 0x7faf348ff860>,\n",
       " '앞': <gensim.models.keyedvectors.Vocab at 0x7faf348ff898>,\n",
       " '으로도': <gensim.models.keyedvectors.Vocab at 0x7faf348ff8d0>,\n",
       " '이렇다': <gensim.models.keyedvectors.Vocab at 0x7faf348ff908>,\n",
       " '부탁드리다': <gensim.models.keyedvectors.Vocab at 0x7faf348ff940>,\n",
       " '번창': <gensim.models.keyedvectors.Vocab at 0x7faf348ff978>,\n",
       " '영업': <gensim.models.keyedvectors.Vocab at 0x7faf348ff9b0>,\n",
       " '길': <gensim.models.keyedvectors.Vocab at 0x7faf348ff9e8>,\n",
       " 'ㅜㅜ': <gensim.models.keyedvectors.Vocab at 0x7faf348ffa20>,\n",
       " '항상': <gensim.models.keyedvectors.Vocab at 0x7faf348ffa58>,\n",
       " '소상': <gensim.models.keyedvectors.Vocab at 0x7faf348ffa90>,\n",
       " '공인': <gensim.models.keyedvectors.Vocab at 0x7faf348ffac8>,\n",
       " '의견': <gensim.models.keyedvectors.Vocab at 0x7faf348ffb00>,\n",
       " '아쉬움': <gensim.models.keyedvectors.Vocab at 0x7faf348ffb38>,\n",
       " '남고': <gensim.models.keyedvectors.Vocab at 0x7faf348ffb70>,\n",
       " '표현': <gensim.models.keyedvectors.Vocab at 0x7faf348ffba8>,\n",
       " '남다': <gensim.models.keyedvectors.Vocab at 0x7faf348ffbe0>,\n",
       " '형식': <gensim.models.keyedvectors.Vocab at 0x7faf348ffc18>,\n",
       " '계속': <gensim.models.keyedvectors.Vocab at 0x7faf348ffc50>,\n",
       " '소식': <gensim.models.keyedvectors.Vocab at 0x7faf348ffc88>,\n",
       " '전': <gensim.models.keyedvectors.Vocab at 0x7faf348ffcc0>,\n",
       " '해주다': <gensim.models.keyedvectors.Vocab at 0x7faf348ffcf8>,\n",
       " '기대하다': <gensim.models.keyedvectors.Vocab at 0x7faf348ffd30>,\n",
       " '알': <gensim.models.keyedvectors.Vocab at 0x7faf348ffd68>,\n",
       " '진짜': <gensim.models.keyedvectors.Vocab at 0x7faf348ffda0>,\n",
       " '인데': <gensim.models.keyedvectors.Vocab at 0x7faf348ffdd8>,\n",
       " '갓': <gensim.models.keyedvectors.Vocab at 0x7faf348ffe10>,\n",
       " '뚜': <gensim.models.keyedvectors.Vocab at 0x7faf348ffe48>,\n",
       " '기보': <gensim.models.keyedvectors.Vocab at 0x7faf348ffe80>,\n",
       " '다': <gensim.models.keyedvectors.Vocab at 0x7faf348ffeb8>,\n",
       " '평이': <gensim.models.keyedvectors.Vocab at 0x7faf348ffef0>,\n",
       " '박하다': <gensim.models.keyedvectors.Vocab at 0x7faf348fff28>,\n",
       " '향': <gensim.models.keyedvectors.Vocab at 0x7faf348fff60>,\n",
       " '접근': <gensim.models.keyedvectors.Vocab at 0x7faf348fff98>,\n",
       " '자리': <gensim.models.keyedvectors.Vocab at 0x7faf348fffd0>,\n",
       " '잡다': <gensim.models.keyedvectors.Vocab at 0x7faf34884048>,\n",
       " '부터': <gensim.models.keyedvectors.Vocab at 0x7faf34884080>,\n",
       " '인가': <gensim.models.keyedvectors.Vocab at 0x7faf348840b8>,\n",
       " '흥미진진': <gensim.models.keyedvectors.Vocab at 0x7faf348840f0>,\n",
       " '과연': <gensim.models.keyedvectors.Vocab at 0x7faf34884128>,\n",
       " '위기': <gensim.models.keyedvectors.Vocab at 0x7faf34884160>,\n",
       " '극복': <gensim.models.keyedvectors.Vocab at 0x7faf34884198>,\n",
       " '해나': <gensim.models.keyedvectors.Vocab at 0x7faf348841d0>,\n",
       " '갈다': <gensim.models.keyedvectors.Vocab at 0x7faf34884208>,\n",
       " '두근두근': <gensim.models.keyedvectors.Vocab at 0x7faf34884240>,\n",
       " '결혼': <gensim.models.keyedvectors.Vocab at 0x7faf34884278>,\n",
       " '김씨': <gensim.models.keyedvectors.Vocab at 0x7faf348842b0>,\n",
       " '출연': <gensim.models.keyedvectors.Vocab at 0x7faf348842e8>,\n",
       " '전통': <gensim.models.keyedvectors.Vocab at 0x7faf34884320>,\n",
       " '코로나': <gensim.models.keyedvectors.Vocab at 0x7faf34884358>,\n",
       " '로': <gensim.models.keyedvectors.Vocab at 0x7faf34884390>,\n",
       " '인하다': <gensim.models.keyedvectors.Vocab at 0x7faf348843c8>,\n",
       " '급감': <gensim.models.keyedvectors.Vocab at 0x7faf34884400>,\n",
       " '소': <gensim.models.keyedvectors.Vocab at 0x7faf34884438>,\n",
       " '상공': <gensim.models.keyedvectors.Vocab at 0x7faf34884470>,\n",
       " '돕다': <gensim.models.keyedvectors.Vocab at 0x7faf348844a8>,\n",
       " '취지': <gensim.models.keyedvectors.Vocab at 0x7faf348844e0>,\n",
       " '매우': <gensim.models.keyedvectors.Vocab at 0x7faf34884518>,\n",
       " '관': <gensim.models.keyedvectors.Vocab at 0x7faf34884550>,\n",
       " '조금': <gensim.models.keyedvectors.Vocab at 0x7faf34884588>,\n",
       " '적다': <gensim.models.keyedvectors.Vocab at 0x7faf348845c0>,\n",
       " '나열': <gensim.models.keyedvectors.Vocab at 0x7faf348845f8>,\n",
       " '식': <gensim.models.keyedvectors.Vocab at 0x7faf34884630>,\n",
       " '차이점': <gensim.models.keyedvectors.Vocab at 0x7faf34884668>,\n",
       " '따다': <gensim.models.keyedvectors.Vocab at 0x7faf348846a0>,\n",
       " '홈쇼핑': <gensim.models.keyedvectors.Vocab at 0x7faf348846d8>,\n",
       " '시청': <gensim.models.keyedvectors.Vocab at 0x7faf34884710>,\n",
       " '대해': <gensim.models.keyedvectors.Vocab at 0x7faf34884748>,\n",
       " '금번': <gensim.models.keyedvectors.Vocab at 0x7faf34884780>,\n",
       " '예능인': <gensim.models.keyedvectors.Vocab at 0x7faf348847b8>,\n",
       " '체험': <gensim.models.keyedvectors.Vocab at 0x7faf348847f0>,\n",
       " '전반': <gensim.models.keyedvectors.Vocab at 0x7faf34884828>,\n",
       " '업무': <gensim.models.keyedvectors.Vocab at 0x7faf34884860>,\n",
       " '돌아가다': <gensim.models.keyedvectors.Vocab at 0x7faf34884898>,\n",
       " '일': <gensim.models.keyedvectors.Vocab at 0x7faf348848d0>,\n",
       " '간접': <gensim.models.keyedvectors.Vocab at 0x7faf34884908>,\n",
       " '게': <gensim.models.keyedvectors.Vocab at 0x7faf34884940>,\n",
       " '또다시': <gensim.models.keyedvectors.Vocab at 0x7faf34884978>,\n",
       " '확산': <gensim.models.keyedvectors.Vocab at 0x7faf348849b0>,\n",
       " '산': <gensim.models.keyedvectors.Vocab at 0x7faf348849e8>,\n",
       " '업체': <gensim.models.keyedvectors.Vocab at 0x7faf34884a20>,\n",
       " '분야': <gensim.models.keyedvectors.Vocab at 0x7faf34884a58>,\n",
       " '영향': <gensim.models.keyedvectors.Vocab at 0x7faf34884a90>,\n",
       " '최고': <gensim.models.keyedvectors.Vocab at 0x7faf34884ac8>,\n",
       " '거듭': <gensim.models.keyedvectors.Vocab at 0x7faf34884b00>,\n",
       " '나다': <gensim.models.keyedvectors.Vocab at 0x7faf34884b38>,\n",
       " '바라다': <gensim.models.keyedvectors.Vocab at 0x7faf34884b70>,\n",
       " '재다': <gensim.models.keyedvectors.Vocab at 0x7faf34884ba8>,\n",
       " '기억': <gensim.models.keyedvectors.Vocab at 0x7faf34884be0>,\n",
       " '남아': <gensim.models.keyedvectors.Vocab at 0x7faf34884c18>,\n",
       " '뭘': <gensim.models.keyedvectors.Vocab at 0x7faf34884c50>,\n",
       " '라이브': <gensim.models.keyedvectors.Vocab at 0x7faf34884c88>,\n",
       " '합동': <gensim.models.keyedvectors.Vocab at 0x7faf34884cc0>,\n",
       " '청춘': <gensim.models.keyedvectors.Vocab at 0x7faf34884cf8>,\n",
       " '등등': <gensim.models.keyedvectors.Vocab at 0x7faf34884d30>,\n",
       " '모두': <gensim.models.keyedvectors.Vocab at 0x7faf34884d68>,\n",
       " '넘다': <gensim.models.keyedvectors.Vocab at 0x7faf34884da0>,\n",
       " 'ㅎ': <gensim.models.keyedvectors.Vocab at 0x7faf34884dd8>,\n",
       " '로밍': <gensim.models.keyedvectors.Vocab at 0x7faf34884e10>,\n",
       " '용이': <gensim.models.keyedvectors.Vocab at 0x7faf34884e48>,\n",
       " '그로': <gensim.models.keyedvectors.Vocab at 0x7faf34884e80>,\n",
       " '찾아내다': <gensim.models.keyedvectors.Vocab at 0x7faf34884eb8>,\n",
       " '대단하다': <gensim.models.keyedvectors.Vocab at 0x7faf34884ef0>,\n",
       " '추가': <gensim.models.keyedvectors.Vocab at 0x7faf34884f28>,\n",
       " '싶다': <gensim.models.keyedvectors.Vocab at 0x7faf34884f60>,\n",
       " '내': <gensim.models.keyedvectors.Vocab at 0x7faf34884f98>,\n",
       " '편': <gensim.models.keyedvectors.Vocab at 0x7faf34884fd0>,\n",
       " '점장님': <gensim.models.keyedvectors.Vocab at 0x7faf34886048>,\n",
       " '멋있다': <gensim.models.keyedvectors.Vocab at 0x7faf34886080>,\n",
       " '물론': <gensim.models.keyedvectors.Vocab at 0x7faf348860b8>,\n",
       " '실수': <gensim.models.keyedvectors.Vocab at 0x7faf348860f0>,\n",
       " '못': <gensim.models.keyedvectors.Vocab at 0x7faf34886128>,\n",
       " '거지': <gensim.models.keyedvectors.Vocab at 0x7faf34886160>,\n",
       " '그러니까': <gensim.models.keyedvectors.Vocab at 0x7faf34886198>,\n",
       " '죠': <gensim.models.keyedvectors.Vocab at 0x7faf348861d0>,\n",
       " '처음': <gensim.models.keyedvectors.Vocab at 0x7faf34886208>,\n",
       " '에피소드': <gensim.models.keyedvectors.Vocab at 0x7faf34886240>,\n",
       " '거': <gensim.models.keyedvectors.Vocab at 0x7faf34886278>,\n",
       " '시도': <gensim.models.keyedvectors.Vocab at 0x7faf348862b0>,\n",
       " '기': <gensim.models.keyedvectors.Vocab at 0x7faf348862e8>,\n",
       " '대감': <gensim.models.keyedvectors.Vocab at 0x7faf34886320>,\n",
       " '생기다': <gensim.models.keyedvectors.Vocab at 0x7faf34886358>,\n",
       " '때문': <gensim.models.keyedvectors.Vocab at 0x7faf34886390>,\n",
       " '좋아하다': <gensim.models.keyedvectors.Vocab at 0x7faf348863c8>,\n",
       " '헬스': <gensim.models.keyedvectors.Vocab at 0x7faf34886400>,\n",
       " '갈수': <gensim.models.keyedvectors.Vocab at 0x7faf34886438>,\n",
       " '기술': <gensim.models.keyedvectors.Vocab at 0x7faf34886470>,\n",
       " '발달': <gensim.models.keyedvectors.Vocab at 0x7faf348864a8>,\n",
       " '구매': <gensim.models.keyedvectors.Vocab at 0x7faf348864e0>,\n",
       " '편하다': <gensim.models.keyedvectors.Vocab at 0x7faf34886518>,\n",
       " '드': <gensim.models.keyedvectors.Vocab at 0x7faf34886550>,\n",
       " '운영': <gensim.models.keyedvectors.Vocab at 0x7faf34886588>,\n",
       " '방향성': <gensim.models.keyedvectors.Vocab at 0x7faf348865c0>,\n",
       " '알다': <gensim.models.keyedvectors.Vocab at 0x7faf348865f8>,\n",
       " '이래저래': <gensim.models.keyedvectors.Vocab at 0x7faf34886630>,\n",
       " '해도': <gensim.models.keyedvectors.Vocab at 0x7faf34886668>,\n",
       " '옆': <gensim.models.keyedvectors.Vocab at 0x7faf348866a0>,\n",
       " '동료': <gensim.models.keyedvectors.Vocab at 0x7faf348866d8>,\n",
       " '제일': <gensim.models.keyedvectors.Vocab at 0x7faf34886710>,\n",
       " '위로': <gensim.models.keyedvectors.Vocab at 0x7faf34886748>,\n",
       " '오늘': <gensim.models.keyedvectors.Vocab at 0x7faf34886780>,\n",
       " '배우다': <gensim.models.keyedvectors.Vocab at 0x7faf348867b8>,\n",
       " '어쩌다': <gensim.models.keyedvectors.Vocab at 0x7faf348867f0>,\n",
       " '첫출근': <gensim.models.keyedvectors.Vocab at 0x7faf34886828>,\n",
       " '기획': <gensim.models.keyedvectors.Vocab at 0x7faf34886860>,\n",
       " '자체': <gensim.models.keyedvectors.Vocab at 0x7faf34886898>,\n",
       " '환경': <gensim.models.keyedvectors.Vocab at 0x7faf348868d0>,\n",
       " '이나': <gensim.models.keyedvectors.Vocab at 0x7faf34886908>,\n",
       " '송님': <gensim.models.keyedvectors.Vocab at 0x7faf34886940>,\n",
       " '유쾌하다': <gensim.models.keyedvectors.Vocab at 0x7faf34886978>,\n",
       " '기다리다': <gensim.models.keyedvectors.Vocab at 0x7faf348869b0>,\n",
       " '코느중': <gensim.models.keyedvectors.Vocab at 0x7faf348869e8>,\n",
       " '하나': <gensim.models.keyedvectors.Vocab at 0x7faf34886a20>,\n",
       " '에요': <gensim.models.keyedvectors.Vocab at 0x7faf34886a58>,\n",
       " '편도': <gensim.models.keyedvectors.Vocab at 0x7faf34886a90>,\n",
       " '어떤': <gensim.models.keyedvectors.Vocab at 0x7faf34886ac8>,\n",
       " '바뀌다': <gensim.models.keyedvectors.Vocab at 0x7faf34886b00>,\n",
       " '유튜브': <gensim.models.keyedvectors.Vocab at 0x7faf34886b38>,\n",
       " '산만하다': <gensim.models.keyedvectors.Vocab at 0x7faf34886b70>,\n",
       " '사회': <gensim.models.keyedvectors.Vocab at 0x7faf34886ba8>,\n",
       " '조직': <gensim.models.keyedvectors.Vocab at 0x7faf34886be0>,\n",
       " '긍정': <gensim.models.keyedvectors.Vocab at 0x7faf34886c18>,\n",
       " '미치다': <gensim.models.keyedvectors.Vocab at 0x7faf34886c50>,\n",
       " '책임': <gensim.models.keyedvectors.Vocab at 0x7faf34886c88>,\n",
       " '경영': <gensim.models.keyedvectors.Vocab at 0x7faf34886cc0>,\n",
       " '하나로': <gensim.models.keyedvectors.Vocab at 0x7faf34886cf8>,\n",
       " '각광': <gensim.models.keyedvectors.Vocab at 0x7faf34886d30>,\n",
       " '받다': <gensim.models.keyedvectors.Vocab at 0x7faf34886d68>,\n",
       " '따뜻하다': <gensim.models.keyedvectors.Vocab at 0x7faf34886da0>,\n",
       " '마음': <gensim.models.keyedvectors.Vocab at 0x7faf34886dd8>,\n",
       " '담다': <gensim.models.keyedvectors.Vocab at 0x7faf34886e10>,\n",
       " '슬로건': <gensim.models.keyedvectors.Vocab at 0x7faf34886e48>,\n",
       " '부합': <gensim.models.keyedvectors.Vocab at 0x7faf34886e80>,\n",
       " '이라고': <gensim.models.keyedvectors.Vocab at 0x7faf34886eb8>,\n",
       " '저': <gensim.models.keyedvectors.Vocab at 0x7faf34886ef0>,\n",
       " '입사': <gensim.models.keyedvectors.Vocab at 0x7faf34886f28>,\n",
       " '개월': <gensim.models.keyedvectors.Vocab at 0x7faf34886f60>,\n",
       " '지난': <gensim.models.keyedvectors.Vocab at 0x7faf34886f98>,\n",
       " '신입사원': <gensim.models.keyedvectors.Vocab at 0x7faf34886fd0>,\n",
       " '으로써': <gensim.models.keyedvectors.Vocab at 0x7faf3488a048>,\n",
       " '공감': <gensim.models.keyedvectors.Vocab at 0x7faf3488a080>,\n",
       " '완전': <gensim.models.keyedvectors.Vocab at 0x7faf3488a0b8>,\n",
       " '꼼꼼하다': <gensim.models.keyedvectors.Vocab at 0x7faf3488a0f0>,\n",
       " '케어': <gensim.models.keyedvectors.Vocab at 0x7faf3488a128>,\n",
       " '처리': <gensim.models.keyedvectors.Vocab at 0x7faf3488a160>,\n",
       " '매장': <gensim.models.keyedvectors.Vocab at 0x7faf3488a198>,\n",
       " '적용': <gensim.models.keyedvectors.Vocab at 0x7faf3488a1d0>,\n",
       " '서도': <gensim.models.keyedvectors.Vocab at 0x7faf3488a208>,\n",
       " '풀다': <gensim.models.keyedvectors.Vocab at 0x7faf3488a240>,\n",
       " '꾸준하다': <gensim.models.keyedvectors.Vocab at 0x7faf3488a278>,\n",
       " '챙기다': <gensim.models.keyedvectors.Vocab at 0x7faf3488a2b0>,\n",
       " '성과': <gensim.models.keyedvectors.Vocab at 0x7faf3488a2e8>,\n",
       " '이어지다': <gensim.models.keyedvectors.Vocab at 0x7faf3488a320>,\n",
       " '듯': <gensim.models.keyedvectors.Vocab at 0x7faf3488a358>,\n",
       " '이점': <gensim.models.keyedvectors.Vocab at 0x7faf3488a390>,\n",
       " '보완': <gensim.models.keyedvectors.Vocab at 0x7faf3488a3c8>,\n",
       " '같이': <gensim.models.keyedvectors.Vocab at 0x7faf3488a400>,\n",
       " '엔': <gensim.models.keyedvectors.Vocab at 0x7faf3488a438>,\n",
       " '편성': <gensim.models.keyedvectors.Vocab at 0x7faf3488a470>,\n",
       " '짦': <gensim.models.keyedvectors.Vocab at 0x7faf3488a4a8>,\n",
       " '아': <gensim.models.keyedvectors.Vocab at 0x7faf3488a4e0>,\n",
       " '빨리': <gensim.models.keyedvectors.Vocab at 0x7faf3488a518>,\n",
       " '지나가다': <gensim.models.keyedvectors.Vocab at 0x7faf3488a550>,\n",
       " '알아보다': <gensim.models.keyedvectors.Vocab at 0x7faf3488a588>,\n",
       " '힘들다': <gensim.models.keyedvectors.Vocab at 0x7faf3488a5c0>,\n",
       " '반영': <gensim.models.keyedvectors.Vocab at 0x7faf3488a5f8>,\n",
       " '개인': <gensim.models.keyedvectors.Vocab at 0x7faf3488a630>,\n",
       " '개발': <gensim.models.keyedvectors.Vocab at 0x7faf3488a668>,\n",
       " '니': <gensim.models.keyedvectors.Vocab at 0x7faf3488a6a0>,\n",
       " '즈': <gensim.models.keyedvectors.Vocab at 0x7faf3488a6d8>,\n",
       " '정확하다': <gensim.models.keyedvectors.Vocab at 0x7faf3488a710>,\n",
       " '파악': <gensim.models.keyedvectors.Vocab at 0x7faf3488a748>,\n",
       " '트랜드': <gensim.models.keyedvectors.Vocab at 0x7faf3488a780>,\n",
       " '발굴': <gensim.models.keyedvectors.Vocab at 0x7faf3488a7b8>,\n",
       " '확신': <gensim.models.keyedvectors.Vocab at 0x7faf3488a7f0>,\n",
       " '전세계': <gensim.models.keyedvectors.Vocab at 0x7faf3488a828>,\n",
       " '코로': <gensim.models.keyedvectors.Vocab at 0x7faf3488a860>,\n",
       " '시대': <gensim.models.keyedvectors.Vocab at 0x7faf3488a898>,\n",
       " '맞다': <gensim.models.keyedvectors.Vocab at 0x7faf3488a8d0>,\n",
       " '뉴': <gensim.models.keyedvectors.Vocab at 0x7faf3488a908>,\n",
       " '노멀': <gensim.models.keyedvectors.Vocab at 0x7faf3488a940>,\n",
       " '에서의': <gensim.models.keyedvectors.Vocab at 0x7faf3488a978>,\n",
       " '한발': <gensim.models.keyedvectors.Vocab at 0x7faf3488a9b0>,\n",
       " '앞서': <gensim.models.keyedvectors.Vocab at 0x7faf3488a9e8>,\n",
       " '라는': <gensim.models.keyedvectors.Vocab at 0x7faf3488aa20>,\n",
       " '제목': <gensim.models.keyedvectors.Vocab at 0x7faf3488aa58>,\n",
       " '티핑': <gensim.models.keyedvectors.Vocab at 0x7faf3488aa90>,\n",
       " '포인트': <gensim.models.keyedvectors.Vocab at 0x7faf3488aac8>,\n",
       " '바로': <gensim.models.keyedvectors.Vocab at 0x7faf3488ab00>,\n",
       " '그': <gensim.models.keyedvectors.Vocab at 0x7faf3488ab38>,\n",
       " '순간': <gensim.models.keyedvectors.Vocab at 0x7faf3488ab70>,\n",
       " '뷰': <gensim.models.keyedvectors.Vocab at 0x7faf3488aba8>,\n",
       " '대비': <gensim.models.keyedvectors.Vocab at 0x7faf3488abe0>,\n",
       " '위': <gensim.models.keyedvectors.Vocab at 0x7faf3488ac18>,\n",
       " '정책': <gensim.models.keyedvectors.Vocab at 0x7faf3488ac50>,\n",
       " '등': <gensim.models.keyedvectors.Vocab at 0x7faf3488ac88>,\n",
       " '살펴보다': <gensim.models.keyedvectors.Vocab at 0x7faf3488acc0>,\n",
       " '자부심': <gensim.models.keyedvectors.Vocab at 0x7faf3488acf8>,\n",
       " '여러': <gensim.models.keyedvectors.Vocab at 0x7faf3488ad30>,\n",
       " '만의': <gensim.models.keyedvectors.Vocab at 0x7faf3488ad68>,\n",
       " '무엇': <gensim.models.keyedvectors.Vocab at 0x7faf3488ada0>,\n",
       " '고민': <gensim.models.keyedvectors.Vocab at 0x7faf3488add8>,\n",
       " '정신': <gensim.models.keyedvectors.Vocab at 0x7faf3488ae10>,\n",
       " '젊다': <gensim.models.keyedvectors.Vocab at 0x7faf3488ae48>,\n",
       " '세대': <gensim.models.keyedvectors.Vocab at 0x7faf3488ae80>,\n",
       " '쓰이다': <gensim.models.keyedvectors.Vocab at 0x7faf3488aeb8>,\n",
       " '주': <gensim.models.keyedvectors.Vocab at 0x7faf3488aef0>,\n",
       " '이루다': <gensim.models.keyedvectors.Vocab at 0x7faf3488af28>,\n",
       " '즐거움': <gensim.models.keyedvectors.Vocab at 0x7faf3488af60>,\n",
       " '주기': <gensim.models.keyedvectors.Vocab at 0x7faf3488af98>,\n",
       " '설치': <gensim.models.keyedvectors.Vocab at 0x7faf3488afd0>,\n",
       " '몰입': <gensim.models.keyedvectors.Vocab at 0x7faf3488d048>,\n",
       " '약간': <gensim.models.keyedvectors.Vocab at 0x7faf3488d080>,\n",
       " '방해': <gensim.models.keyedvectors.Vocab at 0x7faf3488d0b8>,\n",
       " '부가': <gensim.models.keyedvectors.Vocab at 0x7faf3488d0f0>,\n",
       " '적히다': <gensim.models.keyedvectors.Vocab at 0x7faf3488d128>,\n",
       " '방영': <gensim.models.keyedvectors.Vocab at 0x7faf3488d160>,\n",
       " '우연찮': <gensim.models.keyedvectors.Vocab at 0x7faf3488d198>,\n",
       " '돼다': <gensim.models.keyedvectors.Vocab at 0x7faf3488d1d0>,\n",
       " '회차': <gensim.models.keyedvectors.Vocab at 0x7faf3488d208>,\n",
       " '에는': <gensim.models.keyedvectors.Vocab at 0x7faf3488d240>,\n",
       " '궁금하다': <gensim.models.keyedvectors.Vocab at 0x7faf3488d278>,\n",
       " '멘트': <gensim.models.keyedvectors.Vocab at 0x7faf3488d2b0>,\n",
       " '나누다': <gensim.models.keyedvectors.Vocab at 0x7faf3488d2e8>,\n",
       " '뉴스': <gensim.models.keyedvectors.Vocab at 0x7faf3488d320>,\n",
       " '구성': <gensim.models.keyedvectors.Vocab at 0x7faf3488d358>,\n",
       " '차별': <gensim.models.keyedvectors.Vocab at 0x7faf3488d390>,\n",
       " '경쟁력': <gensim.models.keyedvectors.Vocab at 0x7faf3488d3c8>,\n",
       " '최선': <gensim.models.keyedvectors.Vocab at 0x7faf3488d400>,\n",
       " '현재': <gensim.models.keyedvectors.Vocab at 0x7faf3488d438>,\n",
       " '와의': <gensim.models.keyedvectors.Vocab at 0x7faf3488d470>,\n",
       " '연관': <gensim.models.keyedvectors.Vocab at 0x7faf3488d4a8>,\n",
       " '좀더': <gensim.models.keyedvectors.Vocab at 0x7faf3488d4e0>,\n",
       " '고려': <gensim.models.keyedvectors.Vocab at 0x7faf3488d518>,\n",
       " '아이템': <gensim.models.keyedvectors.Vocab at 0x7faf3488d550>,\n",
       " '코너': <gensim.models.keyedvectors.Vocab at 0x7faf3488d588>,\n",
       " '잡음': <gensim.models.keyedvectors.Vocab at 0x7faf3488d5c0>,\n",
       " '성급하다': <gensim.models.keyedvectors.Vocab at 0x7faf3488d5f8>,\n",
       " '결론': <gensim.models.keyedvectors.Vocab at 0x7faf3488d630>,\n",
       " '비추다': <gensim.models.keyedvectors.Vocab at 0x7faf3488d668>,\n",
       " '라기': <gensim.models.keyedvectors.Vocab at 0x7faf3488d6a0>,\n",
       " '보다는': <gensim.models.keyedvectors.Vocab at 0x7faf3488d6d8>,\n",
       " '절반': <gensim.models.keyedvectors.Vocab at 0x7faf3488d710>,\n",
       " '이상': <gensim.models.keyedvectors.Vocab at 0x7faf3488d748>,\n",
       " '차지': <gensim.models.keyedvectors.Vocab at 0x7faf3488d780>,\n",
       " '다소': <gensim.models.keyedvectors.Vocab at 0x7faf3488d7b8>,\n",
       " '간편하다': <gensim.models.keyedvectors.Vocab at 0x7faf3488d7f0>,\n",
       " '사용': <gensim.models.keyedvectors.Vocab at 0x7faf3488d828>,\n",
       " '컨텐츠': <gensim.models.keyedvectors.Vocab at 0x7faf3488d860>,\n",
       " '부족하다': <gensim.models.keyedvectors.Vocab at 0x7faf3488d898>,\n",
       " '다루다': <gensim.models.keyedvectors.Vocab at 0x7faf3488d8d0>,\n",
       " '지루하다': <gensim.models.keyedvectors.Vocab at 0x7faf3488d908>,\n",
       " '글씨': <gensim.models.keyedvectors.Vocab at 0x7faf3488d940>,\n",
       " '줄이다': <gensim.models.keyedvectors.Vocab at 0x7faf3488d978>,\n",
       " '느낌': <gensim.models.keyedvectors.Vocab at 0x7faf3488d9b0>,\n",
       " '듭니': <gensim.models.keyedvectors.Vocab at 0x7faf3488d9e8>,\n",
       " '정말': <gensim.models.keyedvectors.Vocab at 0x7faf3488da20>,\n",
       " '멋지다': <gensim.models.keyedvectors.Vocab at 0x7faf3488da58>,\n",
       " '다른': <gensim.models.keyedvectors.Vocab at 0x7faf3488da90>,\n",
       " '보여주다': <gensim.models.keyedvectors.Vocab at 0x7faf3488dac8>,\n",
       " '사실': <gensim.models.keyedvectors.Vocab at 0x7faf3488db00>,\n",
       " '불편하다': <gensim.models.keyedvectors.Vocab at 0x7faf3488db38>,\n",
       " '니즈': <gensim.models.keyedvectors.Vocab at 0x7faf3488db70>,\n",
       " '소통': <gensim.models.keyedvectors.Vocab at 0x7faf3488dba8>,\n",
       " '양가': <gensim.models.keyedvectors.Vocab at 0x7faf3488dbe0>,\n",
       " '부모님': <gensim.models.keyedvectors.Vocab at 0x7faf3488dc18>,\n",
       " '대구': <gensim.models.keyedvectors.Vocab at 0x7faf3488dc50>,\n",
       " '계시다': <gensim.models.keyedvectors.Vocab at 0x7faf3488dc88>,\n",
       " '저렇게': <gensim.models.keyedvectors.Vocab at 0x7faf3488dcc0>,\n",
       " '결혼식': <gensim.models.keyedvectors.Vocab at 0x7faf3488dcf8>,\n",
       " '인식': <gensim.models.keyedvectors.Vocab at 0x7faf3488dd30>,\n",
       " '일목요연하다': <gensim.models.keyedvectors.Vocab at 0x7faf3488dd68>,\n",
       " '가볍다': <gensim.models.keyedvectors.Vocab at 0x7faf3488dda0>,\n",
       " '느겨': <gensim.models.keyedvectors.Vocab at 0x7faf3488ddd8>,\n",
       " '지는': <gensim.models.keyedvectors.Vocab at 0x7faf3488de10>,\n",
       " '로그인': <gensim.models.keyedvectors.Vocab at 0x7faf3488de48>,\n",
       " '편리하다': <gensim.models.keyedvectors.Vocab at 0x7faf3488de80>,\n",
       " '개선': <gensim.models.keyedvectors.Vocab at 0x7faf3488deb8>,\n",
       " '책': <gensim.models.keyedvectors.Vocab at 0x7faf3488def0>,\n",
       " '스스로': <gensim.models.keyedvectors.Vocab at 0x7faf3488df28>,\n",
       " '제공': <gensim.models.keyedvectors.Vocab at 0x7faf3488df60>,\n",
       " '지금': <gensim.models.keyedvectors.Vocab at 0x7faf3488df98>,\n",
       " '발': <gensim.models.keyedvectors.Vocab at 0x7faf3488dfd0>,\n",
       " '자기': <gensim.models.keyedvectors.Vocab at 0x7faf34891048>,\n",
       " '혁신': <gensim.models.keyedvectors.Vocab at 0x7faf34891080>,\n",
       " '간략하다': <gensim.models.keyedvectors.Vocab at 0x7faf348910b8>,\n",
       " '브리핑': <gensim.models.keyedvectors.Vocab at 0x7faf348910f0>,\n",
       " '끝나다': <gensim.models.keyedvectors.Vocab at 0x7faf34891128>,\n",
       " '나서다': <gensim.models.keyedvectors.Vocab at 0x7faf34891160>,\n",
       " '정리': <gensim.models.keyedvectors.Vocab at 0x7faf34891198>,\n",
       " '한번': <gensim.models.keyedvectors.Vocab at 0x7faf348911d0>,\n",
       " '해주시': <gensim.models.keyedvectors.Vocab at 0x7faf34891208>,\n",
       " '딱': <gensim.models.keyedvectors.Vocab at 0x7faf34891240>,\n",
       " '장면': <gensim.models.keyedvectors.Vocab at 0x7faf34891278>,\n",
       " '아침': <gensim.models.keyedvectors.Vocab at 0x7faf348912b0>,\n",
       " '슬기롭다': <gensim.models.keyedvectors.Vocab at 0x7faf348912e8>,\n",
       " '민원': <gensim.models.keyedvectors.Vocab at 0x7faf34891320>,\n",
       " '단골': <gensim.models.keyedvectors.Vocab at 0x7faf34891358>,\n",
       " '돌리다': <gensim.models.keyedvectors.Vocab at 0x7faf34891390>,\n",
       " '세': <gensim.models.keyedvectors.Vocab at 0x7faf348913c8>,\n",
       " '유치': <gensim.models.keyedvectors.Vocab at 0x7faf34891400>,\n",
       " '까지': <gensim.models.keyedvectors.Vocab at 0x7faf34891438>,\n",
       " '내다': <gensim.models.keyedvectors.Vocab at 0x7faf34891470>,\n",
       " '친구': <gensim.models.keyedvectors.Vocab at 0x7faf348914a8>,\n",
       " '시키다': <gensim.models.keyedvectors.Vocab at 0x7faf348914e0>,\n",
       " '확실하다': <gensim.models.keyedvectors.Vocab at 0x7faf34891518>,\n",
       " '상황': <gensim.models.keyedvectors.Vocab at 0x7faf34891550>,\n",
       " '갖은': <gensim.models.keyedvectors.Vocab at 0x7faf34891588>,\n",
       " '삼': <gensim.models.keyedvectors.Vocab at 0x7faf348915c0>,\n",
       " '아마': <gensim.models.keyedvectors.Vocab at 0x7faf348915f8>,\n",
       " '훨씬': <gensim.models.keyedvectors.Vocab at 0x7faf34891630>,\n",
       " '의도': <gensim.models.keyedvectors.Vocab at 0x7faf34891668>,\n",
       " '인지': <gensim.models.keyedvectors.Vocab at 0x7faf348916a0>,\n",
       " '사': <gensim.models.keyedvectors.Vocab at 0x7faf348916d8>,\n",
       " '다시': <gensim.models.keyedvectors.Vocab at 0x7faf34891710>,\n",
       " '검토': <gensim.models.keyedvectors.Vocab at 0x7faf34891748>,\n",
       " '계기': <gensim.models.keyedvectors.Vocab at 0x7faf34891780>,\n",
       " 'ㅎㅎ': <gensim.models.keyedvectors.Vocab at 0x7faf348917b8>,\n",
       " '인터뷰': <gensim.models.keyedvectors.Vocab at 0x7faf348917f0>,\n",
       " '때': <gensim.models.keyedvectors.Vocab at 0x7faf34891828>,\n",
       " '원하다': <gensim.models.keyedvectors.Vocab at 0x7faf34891860>,\n",
       " '요구사항': <gensim.models.keyedvectors.Vocab at 0x7faf34891898>,\n",
       " '함께': <gensim.models.keyedvectors.Vocab at 0x7faf348918d0>,\n",
       " '해': <gensim.models.keyedvectors.Vocab at 0x7faf34891908>,\n",
       " '당연하다': <gensim.models.keyedvectors.Vocab at 0x7faf34891940>,\n",
       " '결과물': <gensim.models.keyedvectors.Vocab at 0x7faf34891978>,\n",
       " '왜': <gensim.models.keyedvectors.Vocab at 0x7faf348919b0>,\n",
       " '이리': <gensim.models.keyedvectors.Vocab at 0x7faf348919e8>,\n",
       " '놀라다': <gensim.models.keyedvectors.Vocab at 0x7faf34891a20>,\n",
       " '그리고': <gensim.models.keyedvectors.Vocab at 0x7faf34891a58>,\n",
       " '현시': <gensim.models.keyedvectors.Vocab at 0x7faf34891a90>,\n",
       " '대의': <gensim.models.keyedvectors.Vocab at 0x7faf34891ac8>,\n",
       " '비교': <gensim.models.keyedvectors.Vocab at 0x7faf34891b00>,\n",
       " '미화': <gensim.models.keyedvectors.Vocab at 0x7faf34891b38>,\n",
       " '기승': <gensim.models.keyedvectors.Vocab at 0x7faf34891b70>,\n",
       " '전결': <gensim.models.keyedvectors.Vocab at 0x7faf34891ba8>,\n",
       " '뚜렷하다': <gensim.models.keyedvectors.Vocab at 0x7faf34891be0>,\n",
       " '안되다': <gensim.models.keyedvectors.Vocab at 0x7faf34891c18>,\n",
       " '구체': <gensim.models.keyedvectors.Vocab at 0x7faf34891c50>,\n",
       " '이지': <gensim.models.keyedvectors.Vocab at 0x7faf34891c88>,\n",
       " '나': <gensim.models.keyedvectors.Vocab at 0x7faf34891cc0>,\n",
       " '번': <gensim.models.keyedvectors.Vocab at 0x7faf34891cf8>,\n",
       " '실패': <gensim.models.keyedvectors.Vocab at 0x7faf34891d30>,\n",
       " '후': <gensim.models.keyedvectors.Vocab at 0x7faf34891d68>,\n",
       " '사항': <gensim.models.keyedvectors.Vocab at 0x7faf34891da0>,\n",
       " '가지다': <gensim.models.keyedvectors.Vocab at 0x7faf34891dd8>,\n",
       " '강점': <gensim.models.keyedvectors.Vocab at 0x7faf34891e10>,\n",
       " '로만': <gensim.models.keyedvectors.Vocab at 0x7faf34891e48>,\n",
       " '신뢰': <gensim.models.keyedvectors.Vocab at 0x7faf34891e80>,\n",
       " '낮다': <gensim.models.keyedvectors.Vocab at 0x7faf34891eb8>,\n",
       " '그렇다고': <gensim.models.keyedvectors.Vocab at 0x7faf34891ef0>,\n",
       " '퇴사': <gensim.models.keyedvectors.Vocab at 0x7faf34891f28>,\n",
       " '캠': <gensim.models.keyedvectors.Vocab at 0x7faf34891f60>,\n",
       " '패인': <gensim.models.keyedvectors.Vocab at 0x7faf34891f98>,\n",
       " '이후': <gensim.models.keyedvectors.Vocab at 0x7faf34891fd0>,\n",
       " '증대': <gensim.models.keyedvectors.Vocab at 0x7faf34894048>,\n",
       " '주제': <gensim.models.keyedvectors.Vocab at 0x7faf34894080>,\n",
       " '이번': <gensim.models.keyedvectors.Vocab at 0x7faf348940b8>,\n",
       " '신분': <gensim.models.keyedvectors.Vocab at 0x7faf348940f0>,\n",
       " '감추다': <gensim.models.keyedvectors.Vocab at 0x7faf34894128>,\n",
       " '각': <gensim.models.keyedvectors.Vocab at 0x7faf34894160>,\n",
       " '방문': <gensim.models.keyedvectors.Vocab at 0x7faf34894198>,\n",
       " '상담': <gensim.models.keyedvectors.Vocab at 0x7faf348941d0>,\n",
       " '컨설턴트': <gensim.models.keyedvectors.Vocab at 0x7faf34894208>,\n",
       " '애로': <gensim.models.keyedvectors.Vocab at 0x7faf34894240>,\n",
       " '이슈': <gensim.models.keyedvectors.Vocab at 0x7faf34894278>,\n",
       " '따라가다': <gensim.models.keyedvectors.Vocab at 0x7faf348942b0>,\n",
       " '문제': <gensim.models.keyedvectors.Vocab at 0x7faf348942e8>,\n",
       " '웃다': <gensim.models.keyedvectors.Vocab at 0x7faf34894320>,\n",
       " '사람': <gensim.models.keyedvectors.Vocab at 0x7faf34894358>,\n",
       " '움직이다': <gensim.models.keyedvectors.Vocab at 0x7faf34894390>,\n",
       " '야회': <gensim.models.keyedvectors.Vocab at 0x7faf348943c8>,\n",
       " '좌충우돌': <gensim.models.keyedvectors.Vocab at 0x7faf34894400>,\n",
       " '돈쭐': <gensim.models.keyedvectors.Vocab at 0x7faf34894438>,\n",
       " '그런': <gensim.models.keyedvectors.Vocab at 0x7faf34894470>,\n",
       " '과의': <gensim.models.keyedvectors.Vocab at 0x7faf348944a8>,\n",
       " '관계': <gensim.models.keyedvectors.Vocab at 0x7faf348944e0>,\n",
       " '여야': <gensim.models.keyedvectors.Vocab at 0x7faf34894518>,\n",
       " '두': <gensim.models.keyedvectors.Vocab at 0x7faf34894550>,\n",
       " '케미': <gensim.models.keyedvectors.Vocab at 0x7faf34894588>,\n",
       " '초코파이': <gensim.models.keyedvectors.Vocab at 0x7faf348945c0>,\n",
       " '인용': <gensim.models.keyedvectors.Vocab at 0x7faf348945f8>,\n",
       " '시절': <gensim.models.keyedvectors.Vocab at 0x7faf34894630>,\n",
       " '생각나다': <gensim.models.keyedvectors.Vocab at 0x7faf34894668>,\n",
       " '친': <gensim.models.keyedvectors.Vocab at 0x7faf348946a0>,\n",
       " '근': <gensim.models.keyedvectors.Vocab at 0x7faf348946d8>,\n",
       " '감': <gensim.models.keyedvectors.Vocab at 0x7faf34894710>,\n",
       " '드네': <gensim.models.keyedvectors.Vocab at 0x7faf34894748>,\n",
       " '연기': <gensim.models.keyedvectors.Vocab at 0x7faf34894780>,\n",
       " '접속': <gensim.models.keyedvectors.Vocab at 0x7faf348947b8>,\n",
       " '결제': <gensim.models.keyedvectors.Vocab at 0x7faf348947f0>,\n",
       " '괜찮다': <gensim.models.keyedvectors.Vocab at 0x7faf34894828>,\n",
       " '나이': <gensim.models.keyedvectors.Vocab at 0x7faf34894860>,\n",
       " '어른': <gensim.models.keyedvectors.Vocab at 0x7faf34894898>,\n",
       " '신들': <gensim.models.keyedvectors.Vocab at 0x7faf348948d0>,\n",
       " '퀄리티': <gensim.models.keyedvectors.Vocab at 0x7faf34894908>,\n",
       " '발전': <gensim.models.keyedvectors.Vocab at 0x7faf34894940>,\n",
       " '나가다': <gensim.models.keyedvectors.Vocab at 0x7faf34894978>,\n",
       " '다가가다': <gensim.models.keyedvectors.Vocab at 0x7faf348949b0>,\n",
       " '기록': <gensim.models.keyedvectors.Vocab at 0x7faf348949e8>,\n",
       " '맞추다': <gensim.models.keyedvectors.Vocab at 0x7faf34894a20>,\n",
       " '인물': <gensim.models.keyedvectors.Vocab at 0x7faf34894a58>,\n",
       " '찾다': <gensim.models.keyedvectors.Vocab at 0x7faf34894a90>,\n",
       " '컨셉': <gensim.models.keyedvectors.Vocab at 0x7faf34894ac8>,\n",
       " '혼돈': <gensim.models.keyedvectors.Vocab at 0x7faf34894b00>,\n",
       " '이지만': <gensim.models.keyedvectors.Vocab at 0x7faf34894b38>,\n",
       " '이야기': <gensim.models.keyedvectors.Vocab at 0x7faf34894b70>,\n",
       " '라': <gensim.models.keyedvectors.Vocab at 0x7faf34894ba8>,\n",
       " '훈훈하다': <gensim.models.keyedvectors.Vocab at 0x7faf34894be0>,\n",
       " '결말': <gensim.models.keyedvectors.Vocab at 0x7faf34894c18>,\n",
       " '편의': <gensim.models.keyedvectors.Vocab at 0x7faf34894c50>,\n",
       " '빨': <gensim.models.keyedvectors.Vocab at 0x7faf34894c88>,\n",
       " '라서': <gensim.models.keyedvectors.Vocab at 0x7faf34894cc0>,\n",
       " '사용자': <gensim.models.keyedvectors.Vocab at 0x7faf34894cf8>,\n",
       " '경우': <gensim.models.keyedvectors.Vocab at 0x7faf34894d30>,\n",
       " '사장': <gensim.models.keyedvectors.Vocab at 0x7faf34894d68>,\n",
       " '님': <gensim.models.keyedvectors.Vocab at 0x7faf34894da0>,\n",
       " '오래': <gensim.models.keyedvectors.Vocab at 0x7faf34894dd8>,\n",
       " '경험': <gensim.models.keyedvectors.Vocab at 0x7faf34894e10>,\n",
       " '반응': <gensim.models.keyedvectors.Vocab at 0x7faf34894e48>,\n",
       " '실감': <gensim.models.keyedvectors.Vocab at 0x7faf34894e80>,\n",
       " '달다': <gensim.models.keyedvectors.Vocab at 0x7faf34894eb8>,\n",
       " '본': <gensim.models.keyedvectors.Vocab at 0x7faf34894ef0>,\n",
       " '부별': <gensim.models.keyedvectors.Vocab at 0x7faf34894f28>,\n",
       " '본부': <gensim.models.keyedvectors.Vocab at 0x7faf34894f60>,\n",
       " '제대로': <gensim.models.keyedvectors.Vocab at 0x7faf34894f98>,\n",
       " '보이지': <gensim.models.keyedvectors.Vocab at 0x7faf34894fd0>,\n",
       " '가독성': <gensim.models.keyedvectors.Vocab at 0x7faf34898048>,\n",
       " '예능': <gensim.models.keyedvectors.Vocab at 0x7faf34898080>,\n",
       " '대세': <gensim.models.keyedvectors.Vocab at 0x7faf348980b8>,\n",
       " '배우': <gensim.models.keyedvectors.Vocab at 0x7faf348980f0>,\n",
       " '힘쓰다': <gensim.models.keyedvectors.Vocab at 0x7faf34898128>,\n",
       " '곱다': <gensim.models.keyedvectors.Vocab at 0x7faf34898160>,\n",
       " '분투': <gensim.models.keyedvectors.Vocab at 0x7faf34898198>,\n",
       " '직접': <gensim.models.keyedvectors.Vocab at 0x7faf348981d0>,\n",
       " '어려움': <gensim.models.keyedvectors.Vocab at 0x7faf34898208>,\n",
       " '타다': <gensim.models.keyedvectors.Vocab at 0x7faf34898240>,\n",
       " '방기': <gensim.models.keyedvectors.Vocab at 0x7faf34898278>,\n",
       " '디지털': <gensim.models.keyedvectors.Vocab at 0x7faf348982b0>,\n",
       " '선두': <gensim.models.keyedvectors.Vocab at 0x7faf348982e8>,\n",
       " '주자': <gensim.models.keyedvectors.Vocab at 0x7faf34898320>,\n",
       " '좌층': <gensim.models.keyedvectors.Vocab at 0x7faf34898358>,\n",
       " '우': <gensim.models.keyedvectors.Vocab at 0x7faf34898390>,\n",
       " '돌': <gensim.models.keyedvectors.Vocab at 0x7faf348983c8>,\n",
       " '잃다': <gensim.models.keyedvectors.Vocab at 0x7faf34898400>,\n",
       " '정돈': <gensim.models.keyedvectors.Vocab at 0x7faf34898438>,\n",
       " '이미': <gensim.models.keyedvectors.Vocab at 0x7faf34898470>,\n",
       " '침체': <gensim.models.keyedvectors.Vocab at 0x7faf348984a8>,\n",
       " '비문': <gensim.models.keyedvectors.Vocab at 0x7faf348984e0>,\n",
       " '어떠하다': <gensim.models.keyedvectors.Vocab at 0x7faf34898518>,\n",
       " '이익': <gensim.models.keyedvectors.Vocab at 0x7faf34898550>,\n",
       " '수치화': <gensim.models.keyedvectors.Vocab at 0x7faf34898588>,\n",
       " '맞춤': <gensim.models.keyedvectors.Vocab at 0x7faf348985c0>,\n",
       " '형': <gensim.models.keyedvectors.Vocab at 0x7faf348985f8>,\n",
       " '한다는': <gensim.models.keyedvectors.Vocab at 0x7faf34898630>,\n",
       " '제시': <gensim.models.keyedvectors.Vocab at 0x7faf34898668>,\n",
       " '능력': <gensim.models.keyedvectors.Vocab at 0x7faf348986a0>,\n",
       " '아주': <gensim.models.keyedvectors.Vocab at 0x7faf348986d8>,\n",
       " '휼륭하다': <gensim.models.keyedvectors.Vocab at 0x7faf34898710>,\n",
       " '화략': <gensim.models.keyedvectors.Vocab at 0x7faf34898748>,\n",
       " '국내': <gensim.models.keyedvectors.Vocab at 0x7faf34898780>,\n",
       " '제품': <gensim.models.keyedvectors.Vocab at 0x7faf348987b8>,\n",
       " '첫': <gensim.models.keyedvectors.Vocab at 0x7faf348987f0>,\n",
       " '출시': <gensim.models.keyedvectors.Vocab at 0x7faf34898828>,\n",
       " '기념비': <gensim.models.keyedvectors.Vocab at 0x7faf34898860>,\n",
       " '업적': <gensim.models.keyedvectors.Vocab at 0x7faf34898898>,\n",
       " '회상': <gensim.models.keyedvectors.Vocab at 0x7faf348988d0>,\n",
       " '도입': <gensim.models.keyedvectors.Vocab at 0x7faf34898908>,\n",
       " '위트': <gensim.models.keyedvectors.Vocab at 0x7faf34898940>,\n",
       " '부담': <gensim.models.keyedvectors.Vocab at 0x7faf34898978>,\n",
       " '순삭': <gensim.models.keyedvectors.Vocab at 0x7faf348989b0>,\n",
       " '화가': <gensim.models.keyedvectors.Vocab at 0x7faf348989e8>,\n",
       " '화면': <gensim.models.keyedvectors.Vocab at 0x7faf34898a20>,\n",
       " '전개': <gensim.models.keyedvectors.Vocab at 0x7faf34898a58>,\n",
       " '분량': <gensim.models.keyedvectors.Vocab at 0x7faf34898a90>,\n",
       " '치우치다': <gensim.models.keyedvectors.Vocab at 0x7faf34898ac8>,\n",
       " '안남다': <gensim.models.keyedvectors.Vocab at 0x7faf34898b00>,\n",
       " '대박': <gensim.models.keyedvectors.Vocab at 0x7faf34898b38>,\n",
       " '사건': <gensim.models.keyedvectors.Vocab at 0x7faf34898b70>,\n",
       " '게임': <gensim.models.keyedvectors.Vocab at 0x7faf34898ba8>,\n",
       " '컬래버': <gensim.models.keyedvectors.Vocab at 0x7faf34898be0>,\n",
       " '진열': <gensim.models.keyedvectors.Vocab at 0x7faf34898c18>,\n",
       " '본질': <gensim.models.keyedvectors.Vocab at 0x7faf34898c50>,\n",
       " '전문성': <gensim.models.keyedvectors.Vocab at 0x7faf34898c88>,\n",
       " '측면': <gensim.models.keyedvectors.Vocab at 0x7faf34898cc0>,\n",
       " '악': <gensim.models.keyedvectors.Vocab at 0x7faf34898cf8>,\n",
       " '염려': <gensim.models.keyedvectors.Vocab at 0x7faf34898d30>,\n",
       " '안': <gensim.models.keyedvectors.Vocab at 0x7faf34898d68>,\n",
       " '흐름': <gensim.models.keyedvectors.Vocab at 0x7faf34898da0>,\n",
       " '덕후': <gensim.models.keyedvectors.Vocab at 0x7faf34898dd8>,\n",
       " '바램': <gensim.models.keyedvectors.Vocab at 0x7faf34898e10>,\n",
       " '충분하다': <gensim.models.keyedvectors.Vocab at 0x7faf34898e48>,\n",
       " '가전': <gensim.models.keyedvectors.Vocab at 0x7faf34898e80>,\n",
       " '주부': <gensim.models.keyedvectors.Vocab at 0x7faf34898eb8>,\n",
       " '여기': <gensim.models.keyedvectors.Vocab at 0x7faf34898ef0>,\n",
       " '들어서다': <gensim.models.keyedvectors.Vocab at 0x7faf34898f28>,\n",
       " '보탬': <gensim.models.keyedvectors.Vocab at 0x7faf34898f60>,\n",
       " '인것': <gensim.models.keyedvectors.Vocab at 0x7faf34898f98>,\n",
       " '모든': <gensim.models.keyedvectors.Vocab at 0x7faf34898fd0>,\n",
       " '거기': <gensim.models.keyedvectors.Vocab at 0x7faf3489d048>,\n",
       " '주인': <gensim.models.keyedvectors.Vocab at 0x7faf3489d080>,\n",
       " '나은': <gensim.models.keyedvectors.Vocab at 0x7faf3489d0b8>,\n",
       " '네로': <gensim.models.keyedvectors.Vocab at 0x7faf3489d0f0>,\n",
       " '하리': <gensim.models.keyedvectors.Vocab at 0x7faf3489d128>,\n",
       " '성장하다': <gensim.models.keyedvectors.Vocab at 0x7faf3489d160>,\n",
       " '매번': <gensim.models.keyedvectors.Vocab at 0x7faf3489d198>,\n",
       " '충족': <gensim.models.keyedvectors.Vocab at 0x7faf3489d1d0>,\n",
       " '참고자료': <gensim.models.keyedvectors.Vocab at 0x7faf3489d208>,\n",
       " '아나운서': <gensim.models.keyedvectors.Vocab at 0x7faf3489d240>,\n",
       " '대면': <gensim.models.keyedvectors.Vocab at 0x7faf3489d278>,\n",
       " '차별성': <gensim.models.keyedvectors.Vocab at 0x7faf3489d2b0>,\n",
       " '거치다': <gensim.models.keyedvectors.Vocab at 0x7faf3489d2e8>,\n",
       " '수도': <gensim.models.keyedvectors.Vocab at 0x7faf3489d320>,\n",
       " '월요일': <gensim.models.keyedvectors.Vocab at 0x7faf3489d358>,\n",
       " '싸우다': <gensim.models.keyedvectors.Vocab at 0x7faf3489d390>,\n",
       " '전파': <gensim.models.keyedvectors.Vocab at 0x7faf3489d3c8>,\n",
       " '한편': <gensim.models.keyedvectors.Vocab at 0x7faf3489d400>,\n",
       " '으론': <gensim.models.keyedvectors.Vocab at 0x7faf3489d438>,\n",
       " '편집': <gensim.models.keyedvectors.Vocab at 0x7faf3489d470>,\n",
       " '지르다': <gensim.models.keyedvectors.Vocab at 0x7faf3489d4a8>,\n",
       " '편이': <gensim.models.keyedvectors.Vocab at 0x7faf3489d4e0>,\n",
       " '실패하다': <gensim.models.keyedvectors.Vocab at 0x7faf3489d518>,\n",
       " '포기': <gensim.models.keyedvectors.Vocab at 0x7faf3489d550>,\n",
       " '일어서다': <gensim.models.keyedvectors.Vocab at 0x7faf3489d588>,\n",
       " '힘': <gensim.models.keyedvectors.Vocab at 0x7faf3489d5c0>,\n",
       " '빠르다': <gensim.models.keyedvectors.Vocab at 0x7faf3489d5f8>,\n",
       " '발화': <gensim.models.keyedvectors.Vocab at 0x7faf3489d630>,\n",
       " '건승': <gensim.models.keyedvectors.Vocab at 0x7faf3489d668>,\n",
       " '콜라보': <gensim.models.keyedvectors.Vocab at 0x7faf3489d6a0>,\n",
       " '자주': <gensim.models.keyedvectors.Vocab at 0x7faf3489d6d8>,\n",
       " '이용': <gensim.models.keyedvectors.Vocab at 0x7faf3489d710>,\n",
       " '파다': <gensim.models.keyedvectors.Vocab at 0x7faf3489d748>,\n",
       " '갑자기': <gensim.models.keyedvectors.Vocab at 0x7faf3489d780>,\n",
       " '버리다': <gensim.models.keyedvectors.Vocab at 0x7faf3489d7b8>,\n",
       " '당황': <gensim.models.keyedvectors.Vocab at 0x7faf3489d7f0>,\n",
       " '스럽다': <gensim.models.keyedvectors.Vocab at 0x7faf3489d828>,\n",
       " '마음껏': <gensim.models.keyedvectors.Vocab at 0x7faf3489d860>,\n",
       " '여행': <gensim.models.keyedvectors.Vocab at 0x7faf3489d898>,\n",
       " '다니다': <gensim.models.keyedvectors.Vocab at 0x7faf3489d8d0>,\n",
       " '그나마': <gensim.models.keyedvectors.Vocab at 0x7faf3489d908>,\n",
       " '위안': <gensim.models.keyedvectors.Vocab at 0x7faf3489d940>,\n",
       " '이제': <gensim.models.keyedvectors.Vocab at 0x7faf3489d978>,\n",
       " '인터넷': <gensim.models.keyedvectors.Vocab at 0x7faf3489d9b0>,\n",
       " '뭐': <gensim.models.keyedvectors.Vocab at 0x7faf3489d9e8>,\n",
       " '든': <gensim.models.keyedvectors.Vocab at 0x7faf3489da20>,\n",
       " '수가': <gensim.models.keyedvectors.Vocab at 0x7faf3489da58>,\n",
       " '시청각': <gensim.models.keyedvectors.Vocab at 0x7faf3489da90>,\n",
       " '자료': <gensim.models.keyedvectors.Vocab at 0x7faf3489dac8>,\n",
       " '유행어': <gensim.models.keyedvectors.Vocab at 0x7faf3489db00>,\n",
       " '등장': <gensim.models.keyedvectors.Vocab at 0x7faf3489db38>,\n",
       " '주석': <gensim.models.keyedvectors.Vocab at 0x7faf3489db70>,\n",
       " '흥미롭다': <gensim.models.keyedvectors.Vocab at 0x7faf3489dba8>,\n",
       " '제작': <gensim.models.keyedvectors.Vocab at 0x7faf3489dbe0>,\n",
       " '방법': <gensim.models.keyedvectors.Vocab at 0x7faf3489dc18>,\n",
       " '주제가': <gensim.models.keyedvectors.Vocab at 0x7faf3489dc50>,\n",
       " '뭔': <gensim.models.keyedvectors.Vocab at 0x7faf3489dc88>,\n",
       " '지': <gensim.models.keyedvectors.Vocab at 0x7faf3489dcc0>,\n",
       " '초반': <gensim.models.keyedvectors.Vocab at 0x7faf3489dcf8>,\n",
       " '상단': <gensim.models.keyedvectors.Vocab at 0x7faf3489dd30>,\n",
       " '래야': <gensim.models.keyedvectors.Vocab at 0x7faf3489dd68>,\n",
       " '중간': <gensim.models.keyedvectors.Vocab at 0x7faf3489dda0>,\n",
       " '감사': <gensim.models.keyedvectors.Vocab at 0x7faf3489ddd8>,\n",
       " '드리다': <gensim.models.keyedvectors.Vocab at 0x7faf3489de10>,\n",
       " '찾아오다': <gensim.models.keyedvectors.Vocab at 0x7faf3489de48>,\n",
       " '방': <gensim.models.keyedvectors.Vocab at 0x7faf3489de80>,\n",
       " '축하': <gensim.models.keyedvectors.Vocab at 0x7faf3489deb8>,\n",
       " '핫': <gensim.models.keyedvectors.Vocab at 0x7faf3489def0>,\n",
       " '담기다': <gensim.models.keyedvectors.Vocab at 0x7faf3489df28>,\n",
       " '음성합성': <gensim.models.keyedvectors.Vocab at 0x7faf3489df60>,\n",
       " '볼때': <gensim.models.keyedvectors.Vocab at 0x7faf3489df98>,\n",
       " '찡하다': <gensim.models.keyedvectors.Vocab at 0x7faf3489dfd0>,\n",
       " '감동': <gensim.models.keyedvectors.Vocab at 0x7faf3489f048>,\n",
       " '녹화': <gensim.models.keyedvectors.Vocab at 0x7faf3489f080>,\n",
       " '들리다': <gensim.models.keyedvectors.Vocab at 0x7faf3489f0b8>,\n",
       " '만을': <gensim.models.keyedvectors.Vocab at 0x7faf3489f0f0>,\n",
       " '선택': <gensim.models.keyedvectors.Vocab at 0x7faf3489f128>,\n",
       " '요강': <gensim.models.keyedvectors.Vocab at 0x7faf3489f160>,\n",
       " '부당하다': <gensim.models.keyedvectors.Vocab at 0x7faf3489f198>,\n",
       " '무릅': <gensim.models.keyedvectors.Vocab at 0x7faf3489f1d0>,\n",
       " '꿇다': <gensim.models.keyedvectors.Vocab at 0x7faf3489f208>,\n",
       " '안치': <gensim.models.keyedvectors.Vocab at 0x7faf3489f240>,\n",
       " '을를': <gensim.models.keyedvectors.Vocab at 0x7faf3489f278>,\n",
       " '천': <gensim.models.keyedvectors.Vocab at 0x7faf3489f2b0>,\n",
       " '이라도': <gensim.models.keyedvectors.Vocab at 0x7faf3489f2e8>,\n",
       " '알아차리다': <gensim.models.keyedvectors.Vocab at 0x7faf3489f320>,\n",
       " '용법': <gensim.models.keyedvectors.Vocab at 0x7faf3489f358>,\n",
       " '요약': <gensim.models.keyedvectors.Vocab at 0x7faf3489f390>,\n",
       " '및': <gensim.models.keyedvectors.Vocab at 0x7faf3489f3c8>,\n",
       " '요란': <gensim.models.keyedvectors.Vocab at 0x7faf3489f400>,\n",
       " '잠시': <gensim.models.keyedvectors.Vocab at 0x7faf3489f438>,\n",
       " '잊다': <gensim.models.keyedvectors.Vocab at 0x7faf3489f470>,\n",
       " '유투브': <gensim.models.keyedvectors.Vocab at 0x7faf3489f4a8>,\n",
       " '올리다': <gensim.models.keyedvectors.Vocab at 0x7faf3489f4e0>,\n",
       " '관성': <gensim.models.keyedvectors.Vocab at 0x7faf3489f518>,\n",
       " '재치': <gensim.models.keyedvectors.Vocab at 0x7faf3489f550>,\n",
       " '특색': <gensim.models.keyedvectors.Vocab at 0x7faf3489f588>,\n",
       " '서다': <gensim.models.keyedvectors.Vocab at 0x7faf3489f5c0>,\n",
       " '숲': <gensim.models.keyedvectors.Vocab at 0x7faf3489f5f8>,\n",
       " '관점': <gensim.models.keyedvectors.Vocab at 0x7faf3489f630>,\n",
       " '바라보다': <gensim.models.keyedvectors.Vocab at 0x7faf3489f668>,\n",
       " '완벽하다': <gensim.models.keyedvectors.Vocab at 0x7faf3489f6a0>,\n",
       " '대본': <gensim.models.keyedvectors.Vocab at 0x7faf3489f6d8>,\n",
       " '고증': <gensim.models.keyedvectors.Vocab at 0x7faf3489f710>,\n",
       " 'ㅋㅋㅋ': <gensim.models.keyedvectors.Vocab at 0x7faf3489f748>,\n",
       " '매니저': <gensim.models.keyedvectors.Vocab at 0x7faf3489f780>,\n",
       " '리액션': <gensim.models.keyedvectors.Vocab at 0x7faf3489f7b8>,\n",
       " '빵터지다': <gensim.models.keyedvectors.Vocab at 0x7faf3489f7f0>,\n",
       " '폰트': <gensim.models.keyedvectors.Vocab at 0x7faf3489f828>,\n",
       " '통일': <gensim.models.keyedvectors.Vocab at 0x7faf3489f860>,\n",
       " '모으다': <gensim.models.keyedvectors.Vocab at 0x7faf3489f898>,\n",
       " '의문': <gensim.models.keyedvectors.Vocab at 0x7faf3489f8d0>,\n",
       " '명확하다': <gensim.models.keyedvectors.Vocab at 0x7faf3489f908>,\n",
       " '다루어지다': <gensim.models.keyedvectors.Vocab at 0x7faf3489f940>,\n",
       " '갓뚜기': <gensim.models.keyedvectors.Vocab at 0x7faf3489f978>,\n",
       " '오동통면': <gensim.models.keyedvectors.Vocab at 0x7faf3489f9b0>,\n",
       " '먹다': <gensim.models.keyedvectors.Vocab at 0x7faf3489f9e8>,\n",
       " '너구리': <gensim.models.keyedvectors.Vocab at 0x7faf3489fa20>,\n",
       " '뒷전': <gensim.models.keyedvectors.Vocab at 0x7faf3489fa58>,\n",
       " '라면': <gensim.models.keyedvectors.Vocab at 0x7faf3489fa90>,\n",
       " '맛있다': <gensim.models.keyedvectors.Vocab at 0x7faf3489fac8>,\n",
       " '일도': <gensim.models.keyedvectors.Vocab at 0x7faf3489fb00>,\n",
       " '석조': <gensim.models.keyedvectors.Vocab at 0x7faf3489fb38>,\n",
       " '드라마': <gensim.models.keyedvectors.Vocab at 0x7faf3489fb70>,\n",
       " ...}"
      ]
     },
     "execution_count": 16,
     "metadata": {},
     "output_type": "execute_result"
    }
   ],
   "source": [
    "# 1039개 단어 나열\n",
    "model.wv.key_to_index"
   ]
  },
  {
   "cell_type": "code",
   "execution_count": 17,
   "metadata": {
    "colab": {
     "base_uri": "https://localhost:8080/"
    },
    "executionInfo": {
     "elapsed": 18,
     "status": "ok",
     "timestamp": 1649664006978,
     "user": {
      "displayName": "yunwoo oh",
      "userId": "01035531558844683999"
     },
     "user_tz": -540
    },
    "id": "4awr57y5GY0K",
    "outputId": "2db3bfb1-18aa-4951-baaa-131f4a55b675"
   },
   "outputs": [
    {
     "name": "stdout",
     "output_type": "stream",
     "text": [
      "(50,)\n"
     ]
    },
    {
     "data": {
      "text/plain": [
       "array([-3.7758637e-03,  4.8720292e-03,  1.2784039e-03,  7.1002706e-03,\n",
       "       -5.3930082e-03, -4.5674872e-03, -3.8046991e-03, -9.5814383e-03,\n",
       "        6.2148599e-03, -8.0088153e-03, -8.2606319e-03, -4.7589988e-03,\n",
       "        5.7572190e-04, -6.6016982e-03, -2.5639667e-03, -5.3087538e-03,\n",
       "       -1.0365383e-03,  5.9344280e-03,  3.8396413e-03, -1.9217605e-03,\n",
       "       -1.5206929e-04, -6.8604723e-03, -7.4235415e-03, -1.2511533e-03,\n",
       "       -6.1341156e-03,  5.7349843e-03,  2.6425549e-03,  7.4315136e-03,\n",
       "        1.5488573e-04,  5.9423675e-03, -8.1587005e-03,  3.0558436e-05,\n",
       "       -3.4626951e-03, -5.0817365e-03, -7.0249718e-03,  7.5144707e-03,\n",
       "       -6.3639078e-03,  3.5880785e-03, -8.9554824e-03,  2.0072411e-03,\n",
       "       -4.9442458e-03, -9.2201261e-03,  6.2486163e-04, -7.0231264e-03,\n",
       "       -9.6162397e-04,  4.5720735e-03, -1.9686837e-03,  9.1611994e-03,\n",
       "       -5.4486771e-03, -4.2048460e-03], dtype=float32)"
      ]
     },
     "execution_count": 17,
     "metadata": {},
     "output_type": "execute_result"
    }
   ],
   "source": [
    "# 응원 단어에 대한 Word2Vec 변환된 Vector 출력 : 1개 단어를 50차원 표현\n",
    "\n",
    "print(model.wv.get_vector('응원').shape)\n",
    "model.wv.get_vector('응원')"
   ]
  },
  {
   "cell_type": "code",
   "execution_count": 18,
   "metadata": {
    "colab": {
     "base_uri": "https://localhost:8080/"
    },
    "executionInfo": {
     "elapsed": 7,
     "status": "ok",
     "timestamp": 1649664006979,
     "user": {
      "displayName": "yunwoo oh",
      "userId": "01035531558844683999"
     },
     "user_tz": -540
    },
    "id": "1PHumxAnvXPF",
    "outputId": "b02a174a-43c1-492c-b9e6-b37bca6170a0"
   },
   "outputs": [
    {
     "name": "stdout",
     "output_type": "stream",
     "text": [
      "[('방법', 0.5028175711631775), ('취지', 0.440878689289093), ('환경', 0.39780452847480774), ('또다시', 0.3912457525730133), ('두근두근', 0.38996320962905884), ('처리', 0.375481516122818), ('고', 0.3655272126197815), ('정보', 0.35371559858322144), ('그로', 0.3518138527870178), ('양가', 0.34500551223754883)]\n"
     ]
    }
   ],
   "source": [
    "# 응원 키워드 유사도 조회\n",
    "print(model.wv.most_similar(\"노력\"))"
   ]
  },
  {
   "cell_type": "code",
   "execution_count": 19,
   "metadata": {
    "colab": {
     "base_uri": "https://localhost:8080/"
    },
    "executionInfo": {
     "elapsed": 6,
     "status": "ok",
     "timestamp": 1649664006979,
     "user": {
      "displayName": "yunwoo oh",
      "userId": "01035531558844683999"
     },
     "user_tz": -540
    },
    "id": "bLfV6Mp8vXLp",
    "outputId": "309f2478-ebea-44ef-acb2-954258331963"
   },
   "outputs": [
    {
     "name": "stdout",
     "output_type": "stream",
     "text": [
      "[('을', 0.4151023328304291), ('리액션', 0.4021333158016205), ('시청', 0.3945949971675873), ('티핑', 0.3816837966442108), ('부정', 0.3757290840148926), ('줄', 0.3753538429737091), ('셀프', 0.37398213148117065), ('로밍', 0.370808869600296), ('이태원', 0.3661848306655884), ('반영', 0.3596492409706116)]\n"
     ]
    }
   ],
   "source": [
    "# 코로나 키워드 유사도 조회\n",
    "print(model.wv.most_similar(\"코로나\"))"
   ]
  },
  {
   "cell_type": "code",
   "execution_count": 20,
   "metadata": {
    "colab": {
     "base_uri": "https://localhost:8080/"
    },
    "executionInfo": {
     "elapsed": 5,
     "status": "ok",
     "timestamp": 1649664006979,
     "user": {
      "displayName": "yunwoo oh",
      "userId": "01035531558844683999"
     },
     "user_tz": -540
    },
    "id": "bx0lVICv0G4Q",
    "outputId": "30391f28-803d-4244-94d7-ea4a83f8a6ad"
   },
   "outputs": [
    {
     "name": "stdout",
     "output_type": "stream",
     "text": [
      "[('있다', 0.4627591371536255), ('에게', 0.4478223919868469), ('같다', 0.3860618472099304), ('프로', 0.3847924768924713), ('의견', 0.38449323177337646), ('화략', 0.3676826059818268), ('주', 0.3601008355617523), ('모두', 0.35969120264053345), ('원하다', 0.3582097887992859), ('소개', 0.3562643527984619)]\n"
     ]
    }
   ],
   "source": [
    "# 회사 키워드 유사도 조회\n",
    "print(model.wv.most_similar(\"회사\"))"
   ]
  },
  {
   "cell_type": "code",
   "execution_count": null,
   "metadata": {
    "executionInfo": {
     "elapsed": 3,
     "status": "ok",
     "timestamp": 1649664006979,
     "user": {
      "displayName": "yunwoo oh",
      "userId": "01035531558844683999"
     },
     "user_tz": -540
    },
    "id": "w3xA8KI10oz_"
   },
   "outputs": [],
   "source": []
  },
  {
   "cell_type": "markdown",
   "metadata": {
    "id": "7OyJnmtgP_sh"
   },
   "source": [
    "# 배운 내용 정리\n",
    "1. Word Embedding : 단어를 의미있는 밀집 벡터로 표현하기\n",
    "2. Word Embedding 방법에는 Word2Vec, FastText 등 있습니다.\n",
    "3. Word2Vec도 단어를 밀집 벡터로 표현하는 방법이며 \n",
    "4. Word2Vec 사용하여 단어를 밀집 벡터로 만들면, Cosine유사도 처럼 벡터간의 유사성을 측정할수 있어, 다른 단어와의 유사성을 측정할수 있습니다.\n",
    "5. 우리는 Word Embedding, Word2Vec 용어의 의미를 잘 기억하면 되겠습니다."
   ]
  }
 ],
 "metadata": {
  "colab": {
   "collapsed_sections": [],
   "name": "006.Word2Vec.ipynb",
   "provenance": []
  },
  "kernelspec": {
   "display_name": "Python 3",
   "language": "python",
   "name": "python3"
  },
  "language_info": {
   "codemirror_mode": {
    "name": "ipython",
    "version": 3
   },
   "file_extension": ".py",
   "mimetype": "text/x-python",
   "name": "python",
   "nbconvert_exporter": "python",
   "pygments_lexer": "ipython3",
   "version": "3.6.9"
  }
 },
 "nbformat": 4,
 "nbformat_minor": 4
}
