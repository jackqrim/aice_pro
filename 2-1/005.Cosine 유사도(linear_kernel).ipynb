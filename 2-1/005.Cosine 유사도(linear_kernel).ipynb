{
 "cells": [
  {
   "cell_type": "markdown",
   "metadata": {
    "id": "O_elZk3RTAtF"
   },
   "source": [
    "# Cosine 유사도(linear_kernel)\n",
    "\n",
    "+ 이번시간에는 Cosine 유사도(linear_kernel)를 배워보겠습니다.\n",
    "+ Cosine 유사도(linear_kernel)을 이용하여 단어나 문장이 얼마나 유사한지 , 아니면 관련이 없는지를 확인할수 있습니다.\n",
    "+ 먼저, 샘플 문장을 추려내고 해당 문장들에 대해 TF-IDF 구합니다.\n",
    "+ 그런 다음, linear_kernel(Cosine 유사도)을 사용해서 각 문장들끼리의 얼마나 가까운지 먼지를 계산하여 수치화합니다.\n",
    "+ 결과값이 \"문장수 X 문장수\" 매트릭스 형태로 나오게 되며\n",
    "+ 각 매트릭스 안에는 문장별로 다른 문장에 대한 유사도 값 들어 있게 되고, 유사도 값이 크면 클수록 비슷한 문장이라고 판단할수 있습니다.\n",
    "+ 바로, 실습해 보겠습니다."
   ]
  },
  {
   "cell_type": "markdown",
   "metadata": {
    "id": "PD7Tkf4kGuxd"
   },
   "source": [
    "### cosine similarity\n",
    "![cosine_similarity](https://raw.githubusercontent.com/gzone2000/TEMP_TEST/master/cosine_similarity.png)"
   ]
  },
  {
   "cell_type": "markdown",
   "metadata": {
    "id": "cMIsPYDsGuxd"
   },
   "source": [
    "### 학습목차\n",
    "1. A방송사 댓글 데이터 불러오기\n",
    "2. 5개 댓글 문장에 대해 TF-IDF 만들고 linear_kernel 이용하여 Cosine 유사도 확인해 보자\n",
    " + 첫번째 문장이 어느 다른 문장과 제일 유사도가 높은지 찾아봅시다."
   ]
  },
  {
   "cell_type": "markdown",
   "metadata": {
    "id": "hVzZzNInTAtI"
   },
   "source": [
    "## 1. A방송사 댓글 데이터 불러오기"
   ]
  },
  {
   "cell_type": "code",
   "execution_count": 1,
   "metadata": {
    "colab": {
     "base_uri": "https://localhost:8080/"
    },
    "executionInfo": {
     "elapsed": 7569,
     "status": "ok",
     "timestamp": 1649663896731,
     "user": {
      "displayName": "yunwoo oh",
      "userId": "01035531558844683999"
     },
     "user_tz": -540
    },
    "id": "FjshA_sHHCrE",
    "outputId": "715da3f2-2751-449f-9392-9d9808e9771d"
   },
   "outputs": [
    {
     "name": "stdout",
     "output_type": "stream",
     "text": [
      "Requirement already satisfied: openpyxl in /usr/local/lib/python3.6/dist-packages (3.0.10)\n",
      "Requirement already satisfied: et-xmlfile in /usr/local/lib/python3.6/dist-packages (from openpyxl) (1.1.0)\n",
      "\u001b[33mWARNING: Running pip as the 'root' user can result in broken permissions and conflicting behaviour with the system package manager. It is recommended to use a virtual environment instead: https://pip.pypa.io/warnings/venv\u001b[0m\n"
     ]
    }
   ],
   "source": [
    "# 라이브러리 임포트\n",
    "\n",
    "# pandas read_excel 사용시 필요 라이브러리\n",
    "!pip install openpyxl\n",
    "\n",
    "import os\n",
    "import re\n",
    "import pandas as pd"
   ]
  },
  {
   "cell_type": "code",
   "execution_count": 2,
   "metadata": {
    "colab": {
     "base_uri": "https://localhost:8080/",
     "height": 206
    },
    "executionInfo": {
     "elapsed": 719,
     "status": "ok",
     "timestamp": 1649663897445,
     "user": {
      "displayName": "yunwoo oh",
      "userId": "01035531558844683999"
     },
     "user_tz": -540
    },
    "id": "N0FYPEaAHCtb",
    "outputId": "6013a892-4306-47d9-bee3-c262b67df1ee"
   },
   "outputs": [
    {
     "data": {
      "text/html": [
       "<div>\n",
       "<style scoped>\n",
       "    .dataframe tbody tr th:only-of-type {\n",
       "        vertical-align: middle;\n",
       "    }\n",
       "\n",
       "    .dataframe tbody tr th {\n",
       "        vertical-align: top;\n",
       "    }\n",
       "\n",
       "    .dataframe thead th {\n",
       "        text-align: right;\n",
       "    }\n",
       "</style>\n",
       "<table border=\"1\" class=\"dataframe\">\n",
       "  <thead>\n",
       "    <tr style=\"text-align: right;\">\n",
       "      <th></th>\n",
       "      <th>Unnamed: 0</th>\n",
       "      <th>data</th>\n",
       "      <th>label</th>\n",
       "    </tr>\n",
       "  </thead>\n",
       "  <tbody>\n",
       "    <tr>\n",
       "      <th>246</th>\n",
       "      <td>246</td>\n",
       "      <td>영상F서비스로 간편하게 설치!좋아요\\n우리 회사화이팅!</td>\n",
       "      <td>긍정</td>\n",
       "    </tr>\n",
       "    <tr>\n",
       "      <th>247</th>\n",
       "      <td>247</td>\n",
       "      <td>모든 업무에서 맡은바 업무에 서 최선을 다하는 모습이 좋습니다! 화이팅 입니다.</td>\n",
       "      <td>긍정</td>\n",
       "    </tr>\n",
       "    <tr>\n",
       "      <th>248</th>\n",
       "      <td>248</td>\n",
       "      <td>사내방송 특성상 최근 이슈화 되거나, 언급이 자주되는 '키워드'를 중심으로 뉴스를 ...</td>\n",
       "      <td>부정</td>\n",
       "    </tr>\n",
       "    <tr>\n",
       "      <th>249</th>\n",
       "      <td>249</td>\n",
       "      <td>방송 시간이 너무 길어요.</td>\n",
       "      <td>부정</td>\n",
       "    </tr>\n",
       "    <tr>\n",
       "      <th>250</th>\n",
       "      <td>250</td>\n",
       "      <td>처음 들어보는 말들이 많은데,, 설명이 없어서 힘드네요.</td>\n",
       "      <td>부정</td>\n",
       "    </tr>\n",
       "  </tbody>\n",
       "</table>\n",
       "</div>"
      ],
      "text/plain": [
       "     Unnamed: 0                                               data label\n",
       "246         246                     영상F서비스로 간편하게 설치!좋아요\\n우리 회사화이팅!    긍정\n",
       "247         247       모든 업무에서 맡은바 업무에 서 최선을 다하는 모습이 좋습니다! 화이팅 입니다.    긍정\n",
       "248         248  사내방송 특성상 최근 이슈화 되거나, 언급이 자주되는 '키워드'를 중심으로 뉴스를 ...    부정\n",
       "249         249                                     방송 시간이 너무 길어요.    부정\n",
       "250         250                   처음 들어보는 말들이 많은데,, 설명이 없어서 힘드네요.     부정"
      ]
     },
     "execution_count": 2,
     "metadata": {},
     "output_type": "execute_result"
    }
   ],
   "source": [
    "# A_comment_train.xlsx A방송사 댓글 다운로드 및 Pandas read_excel() 함수 활용하여 읽어오기\n",
    "comment = pd.read_excel('https://github.com/gzone2000/TEMP_TEST/raw/master/A_comment_train.xlsx', engine='openpyxl')\n",
    "comment.tail()"
   ]
  },
  {
   "cell_type": "markdown",
   "metadata": {
    "id": "SSYzuYFcjzY2"
   },
   "source": [
    "## 2. 5개 댓글 문장에 대해 TF-IDF 만들고 linear_kernel 이용하여 Cosine 유사도 확인해 보자"
   ]
  },
  {
   "cell_type": "markdown",
   "metadata": {
    "id": "29IiABqX4w5e"
   },
   "source": [
    "#### 5개 문장 선택"
   ]
  },
  {
   "cell_type": "code",
   "execution_count": 3,
   "metadata": {
    "executionInfo": {
     "elapsed": 8,
     "status": "ok",
     "timestamp": 1649663897445,
     "user": {
      "displayName": "yunwoo oh",
      "userId": "01035531558844683999"
     },
     "user_tz": -540
    },
    "id": "FrnLOI35jcOs"
   },
   "outputs": [
    {
     "data": {
      "text/html": [
       "<div>\n",
       "<style scoped>\n",
       "    .dataframe tbody tr th:only-of-type {\n",
       "        vertical-align: middle;\n",
       "    }\n",
       "\n",
       "    .dataframe tbody tr th {\n",
       "        vertical-align: top;\n",
       "    }\n",
       "\n",
       "    .dataframe thead th {\n",
       "        text-align: right;\n",
       "    }\n",
       "</style>\n",
       "<table border=\"1\" class=\"dataframe\">\n",
       "  <thead>\n",
       "    <tr style=\"text-align: right;\">\n",
       "      <th></th>\n",
       "      <th>Unnamed: 0</th>\n",
       "      <th>data</th>\n",
       "      <th>label</th>\n",
       "    </tr>\n",
       "  </thead>\n",
       "  <tbody>\n",
       "    <tr>\n",
       "      <th>0</th>\n",
       "      <td>0</td>\n",
       "      <td>재미는 있는데 시간이 짧은게 아쉽네요~</td>\n",
       "      <td>긍정</td>\n",
       "    </tr>\n",
       "    <tr>\n",
       "      <th>1</th>\n",
       "      <td>1</td>\n",
       "      <td>OO 관련 내용은 우리 직원과는 거리가 멀었음, 특히, 사내에 홍보할 내용은 아니라고 봄</td>\n",
       "      <td>부정</td>\n",
       "    </tr>\n",
       "    <tr>\n",
       "      <th>2</th>\n",
       "      <td>2</td>\n",
       "      <td>스토리가 너무 딱딱해서 별로였음</td>\n",
       "      <td>부정</td>\n",
       "    </tr>\n",
       "    <tr>\n",
       "      <th>3</th>\n",
       "      <td>3</td>\n",
       "      <td>프로그램A 화이팅하세요!!</td>\n",
       "      <td>긍정</td>\n",
       "    </tr>\n",
       "    <tr>\n",
       "      <th>4</th>\n",
       "      <td>4</td>\n",
       "      <td>높은 곳에 올라가는 모습이 너무 위험해 보여요.</td>\n",
       "      <td>부정</td>\n",
       "    </tr>\n",
       "  </tbody>\n",
       "</table>\n",
       "</div>"
      ],
      "text/plain": [
       "   Unnamed: 0                                               data label\n",
       "0           0                              재미는 있는데 시간이 짧은게 아쉽네요~    긍정\n",
       "1           1  OO 관련 내용은 우리 직원과는 거리가 멀었음, 특히, 사내에 홍보할 내용은 아니라고 봄    부정\n",
       "2           2                                  스토리가 너무 딱딱해서 별로였음    부정\n",
       "3           3                                     프로그램A 화이팅하세요!!    긍정\n",
       "4           4                         높은 곳에 올라가는 모습이 너무 위험해 보여요.    부정"
      ]
     },
     "execution_count": 3,
     "metadata": {},
     "output_type": "execute_result"
    }
   ],
   "source": [
    "# 5개 샘플\n",
    "data_t = comment.head(5)\n",
    "data_t"
   ]
  },
  {
   "cell_type": "code",
   "execution_count": 4,
   "metadata": {
    "colab": {
     "base_uri": "https://localhost:8080/"
    },
    "executionInfo": {
     "elapsed": 7,
     "status": "ok",
     "timestamp": 1649663897445,
     "user": {
      "displayName": "yunwoo oh",
      "userId": "01035531558844683999"
     },
     "user_tz": -540
    },
    "id": "Yb0ME3kYjcMa",
    "outputId": "7e867ed6-0d17-4eeb-f0e1-798a0db3ae81"
   },
   "outputs": [
    {
     "data": {
      "text/plain": [
       "0"
      ]
     },
     "execution_count": 4,
     "metadata": {},
     "output_type": "execute_result"
    }
   ],
   "source": [
    "# null 확인\n",
    "data_t['data'].isnull().sum()"
   ]
  },
  {
   "cell_type": "code",
   "execution_count": 5,
   "metadata": {
    "colab": {
     "base_uri": "https://localhost:8080/"
    },
    "executionInfo": {
     "elapsed": 6,
     "status": "ok",
     "timestamp": 1649663897446,
     "user": {
      "displayName": "yunwoo oh",
      "userId": "01035531558844683999"
     },
     "user_tz": -540
    },
    "id": "JcBE7oxHGuxf",
    "outputId": "9df853fd-05f1-4c32-b0c8-0c5546851cf3"
   },
   "outputs": [
    {
     "data": {
      "text/plain": [
       "0                                재미는 있는데 시간이 짧은게 아쉽네요~\n",
       "1    OO 관련 내용은 우리 직원과는 거리가 멀었음, 특히, 사내에 홍보할 내용은 아니라고 봄\n",
       "2                                    스토리가 너무 딱딱해서 별로였음\n",
       "3                                       프로그램A 화이팅하세요!!\n",
       "4                           높은 곳에 올라가는 모습이 너무 위험해 보여요.\n",
       "Name: data, dtype: object"
      ]
     },
     "execution_count": 5,
     "metadata": {},
     "output_type": "execute_result"
    }
   ],
   "source": [
    "data_t['data'][:5]"
   ]
  },
  {
   "cell_type": "code",
   "execution_count": 6,
   "metadata": {
    "colab": {
     "base_uri": "https://localhost:8080/"
    },
    "executionInfo": {
     "elapsed": 607,
     "status": "ok",
     "timestamp": 1649663898048,
     "user": {
      "displayName": "yunwoo oh",
      "userId": "01035531558844683999"
     },
     "user_tz": -540
    },
    "id": "AtkRynlUjcJI",
    "outputId": "ad3d9069-5d5d-4b72-e66e-38e391f2c02e"
   },
   "outputs": [
    {
     "name": "stdout",
     "output_type": "stream",
     "text": [
      "{'재미는': 21, '있는데': 20, '시간이': 14, '짧은게': 23, '아쉽네요': 16, 'oo': 0, '관련': 3, '내용은': 4, '우리': 18, '직원과는': 22, '거리가': 1, '멀었음': 8, '특히': 24, '사내에': 12, '홍보할': 26, '아니라고': 15, '스토리가': 13, '너무': 5, '딱딱해서': 7, '별로였음': 10, '프로그램a': 25, '화이팅하세요': 27, '높은': 6, '곳에': 2, '올라가는': 17, '모습이': 9, '위험해': 19, '보여요': 11}\n"
     ]
    }
   ],
   "source": [
    "# 5개 댓글 문장에 대해 tf-idf 수행하여 전체 단어 사전 생성 : 28개 단어\n",
    "\n",
    "from sklearn.feature_extraction.text import TfidfVectorizer\n",
    "\n",
    "tfidf = TfidfVectorizer(stop_words='english').fit(data_t['data'])\n",
    "print(tfidf.vocabulary_)"
   ]
  },
  {
   "cell_type": "code",
   "execution_count": 7,
   "metadata": {
    "colab": {
     "base_uri": "https://localhost:8080/"
    },
    "executionInfo": {
     "elapsed": 337,
     "status": "ok",
     "timestamp": 1649663898378,
     "user": {
      "displayName": "yunwoo oh",
      "userId": "01035531558844683999"
     },
     "user_tz": -540
    },
    "id": "xNJc-Hhf2eTN",
    "outputId": "779864de-8bcc-4649-87f0-a51c79180d39"
   },
   "outputs": [
    {
     "name": "stdout",
     "output_type": "stream",
     "text": [
      "(5, 28)\n",
      "[[0.         0.         0.         0.         0.         0.\n",
      "  0.         0.         0.         0.         0.         0.\n",
      "  0.         0.         0.4472136  0.         0.4472136  0.\n",
      "  0.         0.         0.4472136  0.4472136  0.         0.4472136\n",
      "  0.         0.         0.         0.        ]\n",
      " [0.26726124 0.26726124 0.         0.26726124 0.53452248 0.\n",
      "  0.         0.         0.26726124 0.         0.         0.\n",
      "  0.26726124 0.         0.         0.26726124 0.         0.\n",
      "  0.26726124 0.         0.         0.         0.26726124 0.\n",
      "  0.26726124 0.         0.26726124 0.        ]\n",
      " [0.         0.         0.         0.         0.         0.42224214\n",
      "  0.         0.52335825 0.         0.         0.52335825 0.\n",
      "  0.         0.52335825 0.         0.         0.         0.\n",
      "  0.         0.         0.         0.         0.         0.\n",
      "  0.         0.         0.         0.        ]\n",
      " [0.         0.         0.         0.         0.         0.\n",
      "  0.         0.         0.         0.         0.         0.\n",
      "  0.         0.         0.         0.         0.         0.\n",
      "  0.         0.         0.         0.         0.         0.\n",
      "  0.         0.70710678 0.         0.70710678]\n",
      " [0.         0.         0.38775666 0.         0.         0.31283963\n",
      "  0.38775666 0.         0.         0.38775666 0.         0.38775666\n",
      "  0.         0.         0.         0.         0.         0.38775666\n",
      "  0.         0.38775666 0.         0.         0.         0.\n",
      "  0.         0.         0.         0.        ]]\n"
     ]
    }
   ],
   "source": [
    "# 5개 댓글 문장에 대해 tf-idf 수행하여 5 X 28 형태로 만듬 : 5개문장 X 28개 단어\n",
    "\n",
    "tfidf_matrix = tfidf.transform(data_t['data']).toarray()\n",
    "print(tfidf_matrix.shape)\n",
    "print(tfidf_matrix)"
   ]
  },
  {
   "cell_type": "markdown",
   "metadata": {
    "id": "EhYnCjIN26dP"
   },
   "source": [
    "#### 보기좋게 TF-IDF를 데이터프레임으로 표현하기"
   ]
  },
  {
   "cell_type": "code",
   "execution_count": 8,
   "metadata": {
    "colab": {
     "base_uri": "https://localhost:8080/"
    },
    "executionInfo": {
     "elapsed": 20,
     "status": "ok",
     "timestamp": 1649663898379,
     "user": {
      "displayName": "yunwoo oh",
      "userId": "01035531558844683999"
     },
     "user_tz": -540
    },
    "id": "QrAo83YgxFYM",
    "outputId": "3d6d4adc-7ae7-4764-a244-c5f3424dbd7c"
   },
   "outputs": [
    {
     "data": {
      "text/plain": [
       "{'oo': 0,\n",
       " '거리가': 1,\n",
       " '곳에': 2,\n",
       " '관련': 3,\n",
       " '내용은': 4,\n",
       " '너무': 5,\n",
       " '높은': 6,\n",
       " '딱딱해서': 7,\n",
       " '멀었음': 8,\n",
       " '모습이': 9,\n",
       " '별로였음': 10,\n",
       " '보여요': 11,\n",
       " '사내에': 12,\n",
       " '스토리가': 13,\n",
       " '시간이': 14,\n",
       " '아니라고': 15,\n",
       " '아쉽네요': 16,\n",
       " '올라가는': 17,\n",
       " '우리': 18,\n",
       " '위험해': 19,\n",
       " '있는데': 20,\n",
       " '재미는': 21,\n",
       " '직원과는': 22,\n",
       " '짧은게': 23,\n",
       " '특히': 24,\n",
       " '프로그램a': 25,\n",
       " '홍보할': 26,\n",
       " '화이팅하세요': 27}"
      ]
     },
     "execution_count": 8,
     "metadata": {},
     "output_type": "execute_result"
    }
   ],
   "source": [
    "# 단어 인덱스로 정렬\n",
    "sort_tfidf = dict(sorted(tfidf.vocabulary_.items(), key=lambda x : x[1]))\n",
    "sort_tfidf"
   ]
  },
  {
   "cell_type": "code",
   "execution_count": 9,
   "metadata": {
    "colab": {
     "base_uri": "https://localhost:8080/"
    },
    "executionInfo": {
     "elapsed": 18,
     "status": "ok",
     "timestamp": 1649663898379,
     "user": {
      "displayName": "yunwoo oh",
      "userId": "01035531558844683999"
     },
     "user_tz": -540
    },
    "id": "wOCmXeIT32T-",
    "outputId": "dd7d99af-e6c6-48ac-cbf1-f39b662a43f6"
   },
   "outputs": [
    {
     "data": {
      "text/plain": [
       "dict_keys(['oo', '거리가', '곳에', '관련', '내용은', '너무', '높은', '딱딱해서', '멀었음', '모습이', '별로였음', '보여요', '사내에', '스토리가', '시간이', '아니라고', '아쉽네요', '올라가는', '우리', '위험해', '있는데', '재미는', '직원과는', '짧은게', '특히', '프로그램a', '홍보할', '화이팅하세요'])"
      ]
     },
     "execution_count": 9,
     "metadata": {},
     "output_type": "execute_result"
    }
   ],
   "source": [
    "# 단어 인덱스순으로 단어 나열\n",
    "tfidf_sort_word = sort_tfidf.keys()\n",
    "tfidf_sort_word"
   ]
  },
  {
   "cell_type": "code",
   "execution_count": 10,
   "metadata": {
    "colab": {
     "base_uri": "https://localhost:8080/",
     "height": 317
    },
    "executionInfo": {
     "elapsed": 15,
     "status": "ok",
     "timestamp": 1649663898379,
     "user": {
      "displayName": "yunwoo oh",
      "userId": "01035531558844683999"
     },
     "user_tz": -540
    },
    "id": "mNzvHrhK32Qu",
    "outputId": "688fea7b-b959-4ea9-8727-e7d12e1ad60b"
   },
   "outputs": [
    {
     "data": {
      "text/html": [
       "<div>\n",
       "<style scoped>\n",
       "    .dataframe tbody tr th:only-of-type {\n",
       "        vertical-align: middle;\n",
       "    }\n",
       "\n",
       "    .dataframe tbody tr th {\n",
       "        vertical-align: top;\n",
       "    }\n",
       "\n",
       "    .dataframe thead th {\n",
       "        text-align: right;\n",
       "    }\n",
       "</style>\n",
       "<table border=\"1\" class=\"dataframe\">\n",
       "  <thead>\n",
       "    <tr style=\"text-align: right;\">\n",
       "      <th></th>\n",
       "      <th>oo</th>\n",
       "      <th>거리가</th>\n",
       "      <th>곳에</th>\n",
       "      <th>관련</th>\n",
       "      <th>내용은</th>\n",
       "      <th>너무</th>\n",
       "      <th>높은</th>\n",
       "      <th>딱딱해서</th>\n",
       "      <th>멀었음</th>\n",
       "      <th>모습이</th>\n",
       "      <th>...</th>\n",
       "      <th>우리</th>\n",
       "      <th>위험해</th>\n",
       "      <th>있는데</th>\n",
       "      <th>재미는</th>\n",
       "      <th>직원과는</th>\n",
       "      <th>짧은게</th>\n",
       "      <th>특히</th>\n",
       "      <th>프로그램a</th>\n",
       "      <th>홍보할</th>\n",
       "      <th>화이팅하세요</th>\n",
       "    </tr>\n",
       "  </thead>\n",
       "  <tbody>\n",
       "    <tr>\n",
       "      <th>0</th>\n",
       "      <td>0.000000</td>\n",
       "      <td>0.000000</td>\n",
       "      <td>0.000000</td>\n",
       "      <td>0.000000</td>\n",
       "      <td>0.000000</td>\n",
       "      <td>0.000000</td>\n",
       "      <td>0.000000</td>\n",
       "      <td>0.000000</td>\n",
       "      <td>0.000000</td>\n",
       "      <td>0.000000</td>\n",
       "      <td>...</td>\n",
       "      <td>0.000000</td>\n",
       "      <td>0.000000</td>\n",
       "      <td>0.447214</td>\n",
       "      <td>0.447214</td>\n",
       "      <td>0.000000</td>\n",
       "      <td>0.447214</td>\n",
       "      <td>0.000000</td>\n",
       "      <td>0.000000</td>\n",
       "      <td>0.000000</td>\n",
       "      <td>0.000000</td>\n",
       "    </tr>\n",
       "    <tr>\n",
       "      <th>1</th>\n",
       "      <td>0.267261</td>\n",
       "      <td>0.267261</td>\n",
       "      <td>0.000000</td>\n",
       "      <td>0.267261</td>\n",
       "      <td>0.534522</td>\n",
       "      <td>0.000000</td>\n",
       "      <td>0.000000</td>\n",
       "      <td>0.000000</td>\n",
       "      <td>0.267261</td>\n",
       "      <td>0.000000</td>\n",
       "      <td>...</td>\n",
       "      <td>0.267261</td>\n",
       "      <td>0.000000</td>\n",
       "      <td>0.000000</td>\n",
       "      <td>0.000000</td>\n",
       "      <td>0.267261</td>\n",
       "      <td>0.000000</td>\n",
       "      <td>0.267261</td>\n",
       "      <td>0.000000</td>\n",
       "      <td>0.267261</td>\n",
       "      <td>0.000000</td>\n",
       "    </tr>\n",
       "    <tr>\n",
       "      <th>2</th>\n",
       "      <td>0.000000</td>\n",
       "      <td>0.000000</td>\n",
       "      <td>0.000000</td>\n",
       "      <td>0.000000</td>\n",
       "      <td>0.000000</td>\n",
       "      <td>0.422242</td>\n",
       "      <td>0.000000</td>\n",
       "      <td>0.523358</td>\n",
       "      <td>0.000000</td>\n",
       "      <td>0.000000</td>\n",
       "      <td>...</td>\n",
       "      <td>0.000000</td>\n",
       "      <td>0.000000</td>\n",
       "      <td>0.000000</td>\n",
       "      <td>0.000000</td>\n",
       "      <td>0.000000</td>\n",
       "      <td>0.000000</td>\n",
       "      <td>0.000000</td>\n",
       "      <td>0.000000</td>\n",
       "      <td>0.000000</td>\n",
       "      <td>0.000000</td>\n",
       "    </tr>\n",
       "    <tr>\n",
       "      <th>3</th>\n",
       "      <td>0.000000</td>\n",
       "      <td>0.000000</td>\n",
       "      <td>0.000000</td>\n",
       "      <td>0.000000</td>\n",
       "      <td>0.000000</td>\n",
       "      <td>0.000000</td>\n",
       "      <td>0.000000</td>\n",
       "      <td>0.000000</td>\n",
       "      <td>0.000000</td>\n",
       "      <td>0.000000</td>\n",
       "      <td>...</td>\n",
       "      <td>0.000000</td>\n",
       "      <td>0.000000</td>\n",
       "      <td>0.000000</td>\n",
       "      <td>0.000000</td>\n",
       "      <td>0.000000</td>\n",
       "      <td>0.000000</td>\n",
       "      <td>0.000000</td>\n",
       "      <td>0.707107</td>\n",
       "      <td>0.000000</td>\n",
       "      <td>0.707107</td>\n",
       "    </tr>\n",
       "    <tr>\n",
       "      <th>4</th>\n",
       "      <td>0.000000</td>\n",
       "      <td>0.000000</td>\n",
       "      <td>0.387757</td>\n",
       "      <td>0.000000</td>\n",
       "      <td>0.000000</td>\n",
       "      <td>0.312840</td>\n",
       "      <td>0.387757</td>\n",
       "      <td>0.000000</td>\n",
       "      <td>0.000000</td>\n",
       "      <td>0.387757</td>\n",
       "      <td>...</td>\n",
       "      <td>0.000000</td>\n",
       "      <td>0.387757</td>\n",
       "      <td>0.000000</td>\n",
       "      <td>0.000000</td>\n",
       "      <td>0.000000</td>\n",
       "      <td>0.000000</td>\n",
       "      <td>0.000000</td>\n",
       "      <td>0.000000</td>\n",
       "      <td>0.000000</td>\n",
       "      <td>0.000000</td>\n",
       "    </tr>\n",
       "  </tbody>\n",
       "</table>\n",
       "<p>5 rows × 28 columns</p>\n",
       "</div>"
      ],
      "text/plain": [
       "         oo       거리가        곳에        관련       내용은        너무        높은  \\\n",
       "0  0.000000  0.000000  0.000000  0.000000  0.000000  0.000000  0.000000   \n",
       "1  0.267261  0.267261  0.000000  0.267261  0.534522  0.000000  0.000000   \n",
       "2  0.000000  0.000000  0.000000  0.000000  0.000000  0.422242  0.000000   \n",
       "3  0.000000  0.000000  0.000000  0.000000  0.000000  0.000000  0.000000   \n",
       "4  0.000000  0.000000  0.387757  0.000000  0.000000  0.312840  0.387757   \n",
       "\n",
       "       딱딱해서       멀었음       모습이  ...        우리       위험해       있는데       재미는  \\\n",
       "0  0.000000  0.000000  0.000000  ...  0.000000  0.000000  0.447214  0.447214   \n",
       "1  0.000000  0.267261  0.000000  ...  0.267261  0.000000  0.000000  0.000000   \n",
       "2  0.523358  0.000000  0.000000  ...  0.000000  0.000000  0.000000  0.000000   \n",
       "3  0.000000  0.000000  0.000000  ...  0.000000  0.000000  0.000000  0.000000   \n",
       "4  0.000000  0.000000  0.387757  ...  0.000000  0.387757  0.000000  0.000000   \n",
       "\n",
       "       직원과는       짧은게        특히     프로그램a       홍보할    화이팅하세요  \n",
       "0  0.000000  0.447214  0.000000  0.000000  0.000000  0.000000  \n",
       "1  0.267261  0.000000  0.267261  0.000000  0.267261  0.000000  \n",
       "2  0.000000  0.000000  0.000000  0.000000  0.000000  0.000000  \n",
       "3  0.000000  0.000000  0.000000  0.707107  0.000000  0.707107  \n",
       "4  0.000000  0.000000  0.000000  0.000000  0.000000  0.000000  \n",
       "\n",
       "[5 rows x 28 columns]"
      ]
     },
     "execution_count": 10,
     "metadata": {},
     "output_type": "execute_result"
    }
   ],
   "source": [
    "# TF-IDF 보기 좋게 데이터프레임형식으로 표현\n",
    "\n",
    "import pandas as pd\n",
    "\n",
    "pd.DataFrame(tfidf_matrix, columns=tfidf_sort_word)"
   ]
  },
  {
   "cell_type": "code",
   "execution_count": 11,
   "metadata": {},
   "outputs": [
    {
     "name": "stdout",
     "output_type": "stream",
     "text": [
      "첫번째 문서 : 재미는 있는데 시간이 짧은게 아쉽네요~\n"
     ]
    }
   ],
   "source": [
    "# 첫번째 문서 내용 출력\n",
    "print('첫번째 문서 :', data_t['data'][0])"
   ]
  },
  {
   "cell_type": "code",
   "execution_count": 12,
   "metadata": {
    "colab": {
     "base_uri": "https://localhost:8080/",
     "height": 190
    },
    "executionInfo": {
     "elapsed": 15,
     "status": "ok",
     "timestamp": 1649663898380,
     "user": {
      "displayName": "yunwoo oh",
      "userId": "01035531558844683999"
     },
     "user_tz": -540
    },
    "id": "LrKZGMTWjcGM",
    "outputId": "32a60d24-31c2-4ada-c2f9-cfb50e1a94d2"
   },
   "outputs": [
    {
     "data": {
      "text/html": [
       "<div>\n",
       "<style scoped>\n",
       "    .dataframe tbody tr th:only-of-type {\n",
       "        vertical-align: middle;\n",
       "    }\n",
       "\n",
       "    .dataframe tbody tr th {\n",
       "        vertical-align: top;\n",
       "    }\n",
       "\n",
       "    .dataframe thead th {\n",
       "        text-align: right;\n",
       "    }\n",
       "</style>\n",
       "<table border=\"1\" class=\"dataframe\">\n",
       "  <thead>\n",
       "    <tr style=\"text-align: right;\">\n",
       "      <th></th>\n",
       "      <th>oo</th>\n",
       "      <th>거리가</th>\n",
       "      <th>곳에</th>\n",
       "      <th>관련</th>\n",
       "      <th>내용은</th>\n",
       "      <th>너무</th>\n",
       "      <th>높은</th>\n",
       "      <th>딱딱해서</th>\n",
       "      <th>멀었음</th>\n",
       "      <th>모습이</th>\n",
       "      <th>...</th>\n",
       "      <th>우리</th>\n",
       "      <th>위험해</th>\n",
       "      <th>있는데</th>\n",
       "      <th>재미는</th>\n",
       "      <th>직원과는</th>\n",
       "      <th>짧은게</th>\n",
       "      <th>특히</th>\n",
       "      <th>프로그램a</th>\n",
       "      <th>홍보할</th>\n",
       "      <th>화이팅하세요</th>\n",
       "    </tr>\n",
       "  </thead>\n",
       "  <tbody>\n",
       "    <tr>\n",
       "      <th>0</th>\n",
       "      <td>0.0</td>\n",
       "      <td>0.0</td>\n",
       "      <td>0.0</td>\n",
       "      <td>0.0</td>\n",
       "      <td>0.0</td>\n",
       "      <td>0.0</td>\n",
       "      <td>0.0</td>\n",
       "      <td>0.0</td>\n",
       "      <td>0.0</td>\n",
       "      <td>0.0</td>\n",
       "      <td>...</td>\n",
       "      <td>0.0</td>\n",
       "      <td>0.0</td>\n",
       "      <td>0.447214</td>\n",
       "      <td>0.447214</td>\n",
       "      <td>0.0</td>\n",
       "      <td>0.447214</td>\n",
       "      <td>0.0</td>\n",
       "      <td>0.0</td>\n",
       "      <td>0.0</td>\n",
       "      <td>0.0</td>\n",
       "    </tr>\n",
       "  </tbody>\n",
       "</table>\n",
       "<p>1 rows × 28 columns</p>\n",
       "</div>"
      ],
      "text/plain": [
       "    oo  거리가   곳에   관련  내용은   너무   높은  딱딱해서  멀었음  모습이  ...   우리  위험해       있는데  \\\n",
       "0  0.0  0.0  0.0  0.0  0.0  0.0  0.0   0.0  0.0  0.0  ...  0.0  0.0  0.447214   \n",
       "\n",
       "        재미는  직원과는       짧은게   특히  프로그램a  홍보할  화이팅하세요  \n",
       "0  0.447214   0.0  0.447214  0.0    0.0  0.0     0.0  \n",
       "\n",
       "[1 rows x 28 columns]"
      ]
     },
     "execution_count": 12,
     "metadata": {},
     "output_type": "execute_result"
    }
   ],
   "source": [
    "# 첫번째 문서에 대한 TF-IDF 내용 출력\n",
    "# 첫번째 문서의 단어가 TF-IDF에서 가중치 숫자로 변경됨 확인\n",
    "\n",
    "pd.DataFrame(tfidf_matrix[:1], columns=tfidf_sort_word)"
   ]
  },
  {
   "cell_type": "markdown",
   "metadata": {
    "id": "vFIKQ0zK43cu"
   },
   "source": [
    "#### linear_kernel 사용하여 유사도 측정하기"
   ]
  },
  {
   "cell_type": "code",
   "execution_count": 13,
   "metadata": {
    "colab": {
     "base_uri": "https://localhost:8080/"
    },
    "executionInfo": {
     "elapsed": 13,
     "status": "ok",
     "timestamp": 1649663898380,
     "user": {
      "displayName": "yunwoo oh",
      "userId": "01035531558844683999"
     },
     "user_tz": -540
    },
    "id": "qzbXU9k3jcAf",
    "outputId": "5440d313-6593-42b0-9c4c-c75ac5a8b51b"
   },
   "outputs": [
    {
     "data": {
      "text/plain": [
       "array([[1.        , 0.        , 0.        , 0.        , 0.        ],\n",
       "       [0.        , 1.        , 0.        , 0.        , 0.        ],\n",
       "       [0.        , 0.        , 1.        , 0.        , 0.13209408],\n",
       "       [0.        , 0.        , 0.        , 1.        , 0.        ],\n",
       "       [0.        , 0.        , 0.13209408, 0.        , 1.        ]])"
      ]
     },
     "execution_count": 13,
     "metadata": {},
     "output_type": "execute_result"
    }
   ],
   "source": [
    "# linear_kernel 이용하여 코사인 유사도를 구합니다.\n",
    "# TF-IDF된 5개 문장에 대해 5문서 x 5문서 매트릭스 형태의 유사도를 만듭니다.\n",
    "# 즉, 첫번째 문장과 나머지 4 문장과 관계가 가까운지 멀리 있는지등을 파악할수 있다.\n",
    "# +1에 가까우면 양의 상관관계가 있고 0이면 아무 관계가 없고 , -1이면 음의 상관관계가 있다고 볼수 있음\n",
    "# 보기가 쉽지 않네요.\n",
    "\n",
    "from sklearn.metrics.pairwise import linear_kernel\n",
    "cosine_sim = linear_kernel(tfidf_matrix, tfidf_matrix)\n",
    "cosine_sim"
   ]
  },
  {
   "cell_type": "code",
   "execution_count": 14,
   "metadata": {
    "colab": {
     "base_uri": "https://localhost:8080/",
     "height": 206
    },
    "executionInfo": {
     "elapsed": 11,
     "status": "ok",
     "timestamp": 1649663898380,
     "user": {
      "displayName": "yunwoo oh",
      "userId": "01035531558844683999"
     },
     "user_tz": -540
    },
    "id": "592fpAZN5NWu",
    "outputId": "179683c2-039e-48b6-a69e-baf67214b335"
   },
   "outputs": [
    {
     "data": {
      "text/html": [
       "<div>\n",
       "<style scoped>\n",
       "    .dataframe tbody tr th:only-of-type {\n",
       "        vertical-align: middle;\n",
       "    }\n",
       "\n",
       "    .dataframe tbody tr th {\n",
       "        vertical-align: top;\n",
       "    }\n",
       "\n",
       "    .dataframe thead th {\n",
       "        text-align: right;\n",
       "    }\n",
       "</style>\n",
       "<table border=\"1\" class=\"dataframe\">\n",
       "  <thead>\n",
       "    <tr style=\"text-align: right;\">\n",
       "      <th></th>\n",
       "      <th>1문장</th>\n",
       "      <th>2문장</th>\n",
       "      <th>3문장</th>\n",
       "      <th>4문장</th>\n",
       "      <th>5문장</th>\n",
       "    </tr>\n",
       "  </thead>\n",
       "  <tbody>\n",
       "    <tr>\n",
       "      <th>1문장</th>\n",
       "      <td>1.0</td>\n",
       "      <td>0.0</td>\n",
       "      <td>0.000000</td>\n",
       "      <td>0.0</td>\n",
       "      <td>0.000000</td>\n",
       "    </tr>\n",
       "    <tr>\n",
       "      <th>2문장</th>\n",
       "      <td>0.0</td>\n",
       "      <td>1.0</td>\n",
       "      <td>0.000000</td>\n",
       "      <td>0.0</td>\n",
       "      <td>0.000000</td>\n",
       "    </tr>\n",
       "    <tr>\n",
       "      <th>3문장</th>\n",
       "      <td>0.0</td>\n",
       "      <td>0.0</td>\n",
       "      <td>1.000000</td>\n",
       "      <td>0.0</td>\n",
       "      <td>0.132094</td>\n",
       "    </tr>\n",
       "    <tr>\n",
       "      <th>4문장</th>\n",
       "      <td>0.0</td>\n",
       "      <td>0.0</td>\n",
       "      <td>0.000000</td>\n",
       "      <td>1.0</td>\n",
       "      <td>0.000000</td>\n",
       "    </tr>\n",
       "    <tr>\n",
       "      <th>5문장</th>\n",
       "      <td>0.0</td>\n",
       "      <td>0.0</td>\n",
       "      <td>0.132094</td>\n",
       "      <td>0.0</td>\n",
       "      <td>1.000000</td>\n",
       "    </tr>\n",
       "  </tbody>\n",
       "</table>\n",
       "</div>"
      ],
      "text/plain": [
       "     1문장  2문장       3문장  4문장       5문장\n",
       "1문장  1.0  0.0  0.000000  0.0  0.000000\n",
       "2문장  0.0  1.0  0.000000  0.0  0.000000\n",
       "3문장  0.0  0.0  1.000000  0.0  0.132094\n",
       "4문장  0.0  0.0  0.000000  1.0  0.000000\n",
       "5문장  0.0  0.0  0.132094  0.0  1.000000"
      ]
     },
     "execution_count": 14,
     "metadata": {},
     "output_type": "execute_result"
    }
   ],
   "source": [
    "# 코사인 유사도를 데이터프레임 형식으로 표현하기 \n",
    "# 3번 문장과 5번 문장과의 10% 유사도 있음 확인\n",
    "\n",
    "cols = [ str(i) + '문장' for i in range(1,6)]\n",
    "ind = [ str(i) + '문장' for i in range(1,6)]\n",
    "\n",
    "pd.DataFrame(cosine_sim, columns=cols, index=ind)"
   ]
  },
  {
   "cell_type": "code",
   "execution_count": null,
   "metadata": {
    "executionInfo": {
     "elapsed": 8,
     "status": "ok",
     "timestamp": 1649663898947,
     "user": {
      "displayName": "yunwoo oh",
      "userId": "01035531558844683999"
     },
     "user_tz": -540
    },
    "id": "-I9NvzevK5f-"
   },
   "outputs": [],
   "source": []
  },
  {
   "cell_type": "markdown",
   "metadata": {
    "id": "ORxlMGniGuxj",
    "jp-MarkdownHeadingCollapsed": true,
    "tags": []
   },
   "source": [
    "## 배운 내용 정리\n",
    "1. Cosine 유사도(linear_kernel) 사용하여 문장간의 유사성을 측정해 보았습니다.\n",
    "2. Cosine 유사도(linear_kernel) 하기전에 TF-IDF 이용하여 각 문장내의 단어들에 대해 가중치를 부여 했고\n",
    "3. Cosine 유사도(linear_kernel) 이용하여 각 문장별로 다른 문장과의 유사도를 계산하여 매트릭스 형태로 수치 표현했습니다.\n",
    "4. 예를 들어, 첫번째 문장을 보면 첫번째 문장과 다른 문장과의 유사성이 수치화 되어 있어, 첫번째 문장과 다른 문장과 밀접한지, 아닌지를 판단할수 있습니다.\n",
    "5. 그래서, 코사인 유사도를 이용하여 유사도가 높은 몇개의 상품을 추천할수 도 있다."
   ]
  }
 ],
 "metadata": {
  "colab": {
   "collapsed_sections": [],
   "name": "005.Cosine 유사도(linear_kernel).ipynb",
   "provenance": []
  },
  "kernelspec": {
   "display_name": "Python 3",
   "language": "python",
   "name": "python3"
  },
  "language_info": {
   "codemirror_mode": {
    "name": "ipython",
    "version": 3
   },
   "file_extension": ".py",
   "mimetype": "text/x-python",
   "name": "python",
   "nbconvert_exporter": "python",
   "pygments_lexer": "ipython3",
   "version": "3.6.9"
  }
 },
 "nbformat": 4,
 "nbformat_minor": 4
}