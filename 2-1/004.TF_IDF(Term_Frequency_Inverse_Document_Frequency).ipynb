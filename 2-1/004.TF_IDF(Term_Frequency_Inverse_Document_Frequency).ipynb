{
 "cells": [
  {
   "cell_type": "markdown",
   "metadata": {
    "id": "YJ1lDNANiRCv"
   },
   "source": [
    "# TF-IDF(Term Frequency-Inverse Document Frequency)\n",
    "\n",
    "+ 이번시간에는 TF-IDF 대해 배워 보도록 하겠습니다.\n",
    "+ 이전시간에 CountVectorizer 사용하여 단어의 빈도수를 수치 표현했는데, 과연 \"단어의 빈도수가 높다고 중요한 단어인가\"에 대해 생각 필요\n",
    "+ 예를 들어, 불용어(the, an, is)에 해당되는 단어는 자주 보여 지지만, 그다지 중요하지 않습니다.\n",
    "+ 그래서, TF-IDF(Term Frequency-Inverse Document Frequency)는 단어의 빈도(TF)와 역 문서 빈도(IDF)를 사용합니다.\n",
    "+ 즉, 각 문서에서 특정 단어가 많이 등장할수록, 그리고 특정 단어가 등장한 문서의 수가 작을수록 높은 가중치를 부여 합니다.\n",
    "+ TF-IDF는 주로 문서의 유사도를 구하는 작업, 검색 시스템에서 검색 결과의 중요도를 정하는 작업, 문서 내에서 특정 단어의 중요도를 구하는 작업 등에 쓰일 수 있습니다.\n",
    "+ 결국, 컴퓨터가 문장을 잘 이해하도록 단어 중요도에 가중치를 매겨서 문장을 벡터 표현합니다"
   ]
  },
  {
   "cell_type": "markdown",
   "metadata": {
    "id": "3se2HJ_RynNs"
   },
   "source": [
    "![그림](https://github.com/gzone2000/TEMP_TEST/raw/master/TF-IDF.PNG)"
   ]
  },
  {
   "cell_type": "markdown",
   "metadata": {
    "id": "E1LgpK-RynNt"
   },
   "source": [
    "### 학습목차\n",
    "1. CountVectorizer를 사용하면 DTM(BOW) 생성\n",
    "2. TfidfVectorizer 사용하여 TF-IDF 생성\n",
    "3. 보기좋게 TF-IDF를 데이터프레임으로 표현하기"
   ]
  },
  {
   "cell_type": "markdown",
   "metadata": {
    "id": "Y4DJLfXTynNt"
   },
   "source": [
    "------------------"
   ]
  },
  {
   "cell_type": "markdown",
   "metadata": {
    "id": "LrmE5gHciRC2"
   },
   "source": [
    "## 1. CountVectorizer를 사용하면 DTM(BOW) 생성"
   ]
  },
  {
   "cell_type": "code",
   "execution_count": 1,
   "metadata": {
    "executionInfo": {
     "elapsed": 295,
     "status": "ok",
     "timestamp": 1649651051267,
     "user": {
      "displayName": "yunwoo oh",
      "userId": "01035531558844683999"
     },
     "user_tz": -540
    },
    "id": "BteLQSjViRC3"
   },
   "outputs": [],
   "source": [
    "from sklearn.feature_extraction.text import CountVectorizer"
   ]
  },
  {
   "cell_type": "code",
   "execution_count": 2,
   "metadata": {
    "executionInfo": {
     "elapsed": 5,
     "status": "ok",
     "timestamp": 1649651052296,
     "user": {
      "displayName": "yunwoo oh",
      "userId": "01035531558844683999"
     },
     "user_tz": -540
    },
    "id": "dD7ATlWDiRC4"
   },
   "outputs": [],
   "source": [
    "# 쿠퍼스 \n",
    "corpus = [\n",
    "    'you know I want your love',\n",
    "    'I like you',\n",
    "    'what should I do ',    \n",
    "]"
   ]
  },
  {
   "cell_type": "code",
   "execution_count": 3,
   "metadata": {
    "executionInfo": {
     "elapsed": 366,
     "status": "ok",
     "timestamp": 1649651053909,
     "user": {
      "displayName": "yunwoo oh",
      "userId": "01035531558844683999"
     },
     "user_tz": -540
    },
    "id": "zhj1QU0eiRC4"
   },
   "outputs": [],
   "source": [
    "# CountVectorizer 정의\n",
    "vector = CountVectorizer()"
   ]
  },
  {
   "cell_type": "code",
   "execution_count": 4,
   "metadata": {
    "colab": {
     "base_uri": "https://localhost:8080/"
    },
    "executionInfo": {
     "elapsed": 251,
     "status": "ok",
     "timestamp": 1649651054541,
     "user": {
      "displayName": "yunwoo oh",
      "userId": "01035531558844683999"
     },
     "user_tz": -540
    },
    "id": "UAuJH3-6iRC5",
    "outputId": "ded19365-d4de-410d-e6de-9c01397854b3"
   },
   "outputs": [
    {
     "name": "stdout",
     "output_type": "stream",
     "text": [
      "{'you': 7, 'know': 1, 'want': 5, 'your': 8, 'love': 3, 'like': 2, 'what': 6, 'should': 4, 'do': 0}\n",
      "[('do', 0), ('know', 1), ('like', 2), ('love', 3), ('should', 4), ('want', 5), ('what', 6), ('you', 7), ('your', 8)]\n",
      "[[0 1 0 1 0 1 0 1 1]\n",
      " [0 0 1 0 0 0 0 1 0]\n",
      " [1 0 0 0 1 0 1 0 0]]\n"
     ]
    }
   ],
   "source": [
    "# DTM 생성 : 문서 X 단어 행렬\n",
    "vector.fit(corpus)\n",
    "\n",
    "print(vector.vocabulary_) # 단어사전 확인\n",
    "print(sorted(vector.vocabulary_.items(), key=lambda x : x[1])) # 단어사전에서 value값으로 정렬\n",
    "print(vector.fit_transform(corpus).toarray())  # 코퍼스로부터 각 단어의 빈도 수를 기록한다."
   ]
  },
  {
   "cell_type": "markdown",
   "metadata": {
    "id": "z-Wtr7ZSiRC6"
   },
   "source": [
    "## 2. TfidfVectorizer 사용하여 TF-IDF 생성"
   ]
  },
  {
   "cell_type": "code",
   "execution_count": 5,
   "metadata": {
    "executionInfo": {
     "elapsed": 281,
     "status": "ok",
     "timestamp": 1649651056520,
     "user": {
      "displayName": "yunwoo oh",
      "userId": "01035531558844683999"
     },
     "user_tz": -540
    },
    "id": "nDEhaXriiRC6"
   },
   "outputs": [],
   "source": [
    "from sklearn.feature_extraction.text import TfidfVectorizer"
   ]
  },
  {
   "cell_type": "code",
   "execution_count": 6,
   "metadata": {
    "executionInfo": {
     "elapsed": 2,
     "status": "ok",
     "timestamp": 1649651057758,
     "user": {
      "displayName": "yunwoo oh",
      "userId": "01035531558844683999"
     },
     "user_tz": -540
    },
    "id": "NzzfFKQHiRC7"
   },
   "outputs": [],
   "source": [
    "# 쿠퍼스 \n",
    "corpus = [\n",
    "    'you know I want your love',\n",
    "    'I like you',\n",
    "    'what should I do ',    \n",
    "]"
   ]
  },
  {
   "cell_type": "code",
   "execution_count": 7,
   "metadata": {
    "colab": {
     "base_uri": "https://localhost:8080/"
    },
    "executionInfo": {
     "elapsed": 2,
     "status": "ok",
     "timestamp": 1649651058764,
     "user": {
      "displayName": "yunwoo oh",
      "userId": "01035531558844683999"
     },
     "user_tz": -540
    },
    "id": "3HVPUY7oiRC7",
    "outputId": "9d5f18f9-ee85-400c-f420-e744f0d7ec44"
   },
   "outputs": [
    {
     "name": "stdout",
     "output_type": "stream",
     "text": [
      "{'you': 7, 'know': 1, 'want': 5, 'your': 8, 'love': 3, 'like': 2, 'what': 6, 'should': 4, 'do': 0}\n"
     ]
    }
   ],
   "source": [
    "# 문서내에서 단어에 대해 단어 사전 생성\n",
    "tfidf = TfidfVectorizer().fit(corpus)\n",
    "print(tfidf.vocabulary_)"
   ]
  },
  {
   "cell_type": "code",
   "execution_count": 8,
   "metadata": {
    "colab": {
     "base_uri": "https://localhost:8080/"
    },
    "executionInfo": {
     "elapsed": 3,
     "status": "ok",
     "timestamp": 1649651059845,
     "user": {
      "displayName": "yunwoo oh",
      "userId": "01035531558844683999"
     },
     "user_tz": -540
    },
    "id": "JkMWnPOw11ZF",
    "outputId": "157571eb-5a09-486a-f145-9b45cfe51834"
   },
   "outputs": [
    {
     "name": "stdout",
     "output_type": "stream",
     "text": [
      "[[0.         0.46735098 0.         0.46735098 0.         0.46735098\n",
      "  0.         0.35543247 0.46735098]\n",
      " [0.         0.         0.79596054 0.         0.         0.\n",
      "  0.         0.60534851 0.        ]\n",
      " [0.57735027 0.         0.         0.         0.57735027 0.\n",
      "  0.57735027 0.         0.        ]]\n"
     ]
    }
   ],
   "source": [
    "# 문서내에서 단어에 대해 TF-IDF 중요도 가중치 부여\n",
    "tfidf_matrix = tfidf.transform(corpus).toarray()\n",
    "print(tfidf_matrix)"
   ]
  },
  {
   "cell_type": "markdown",
   "metadata": {
    "id": "LpwfNHqS19jt"
   },
   "source": [
    "## 3. 보기좋게 TF-IDF를 데이터프레임으로 표현하기"
   ]
  },
  {
   "cell_type": "code",
   "execution_count": 9,
   "metadata": {
    "colab": {
     "base_uri": "https://localhost:8080/"
    },
    "executionInfo": {
     "elapsed": 267,
     "status": "ok",
     "timestamp": 1649651062167,
     "user": {
      "displayName": "yunwoo oh",
      "userId": "01035531558844683999"
     },
     "user_tz": -540
    },
    "id": "e8Ght0FFzxqM",
    "outputId": "16c962e4-0aec-4eca-c8b0-5dafb8118756"
   },
   "outputs": [
    {
     "data": {
      "text/plain": [
       "{'do': 0,\n",
       " 'know': 1,\n",
       " 'like': 2,\n",
       " 'love': 3,\n",
       " 'should': 4,\n",
       " 'want': 5,\n",
       " 'what': 6,\n",
       " 'you': 7,\n",
       " 'your': 8}"
      ]
     },
     "execution_count": 9,
     "metadata": {},
     "output_type": "execute_result"
    }
   ],
   "source": [
    "# tfidf 단어사전에서 단어의 인덱스로 정렬\n",
    "sort_tfidf = dict(sorted(tfidf.vocabulary_.items(), key=lambda x : x[1]))\n",
    "sort_tfidf"
   ]
  },
  {
   "cell_type": "code",
   "execution_count": 10,
   "metadata": {
    "colab": {
     "base_uri": "https://localhost:8080/"
    },
    "executionInfo": {
     "elapsed": 2,
     "status": "ok",
     "timestamp": 1649651063256,
     "user": {
      "displayName": "yunwoo oh",
      "userId": "01035531558844683999"
     },
     "user_tz": -540
    },
    "id": "REp6xA9Hzxid",
    "outputId": "0e6a58b2-7af1-41b3-b484-2ccebcee4f1d"
   },
   "outputs": [
    {
     "data": {
      "text/plain": [
       "dict_keys(['do', 'know', 'like', 'love', 'should', 'want', 'what', 'you', 'your'])"
      ]
     },
     "execution_count": 10,
     "metadata": {},
     "output_type": "execute_result"
    }
   ],
   "source": [
    "# 단어의 인덱스순으로 정렬 상태에서 단어 리스트 가져오기\n",
    "tfidf_sort_word = sort_tfidf.keys()\n",
    "tfidf_sort_word"
   ]
  },
  {
   "cell_type": "code",
   "execution_count": 11,
   "metadata": {
    "colab": {
     "base_uri": "https://localhost:8080/",
     "height": 143
    },
    "executionInfo": {
     "elapsed": 404,
     "status": "ok",
     "timestamp": 1649651064640,
     "user": {
      "displayName": "yunwoo oh",
      "userId": "01035531558844683999"
     },
     "user_tz": -540
    },
    "id": "iotFS9CCzfp2",
    "outputId": "bf63b5bb-7083-4f79-d0de-c366ce930221"
   },
   "outputs": [
    {
     "data": {
      "text/html": [
       "<div>\n",
       "<style scoped>\n",
       "    .dataframe tbody tr th:only-of-type {\n",
       "        vertical-align: middle;\n",
       "    }\n",
       "\n",
       "    .dataframe tbody tr th {\n",
       "        vertical-align: top;\n",
       "    }\n",
       "\n",
       "    .dataframe thead th {\n",
       "        text-align: right;\n",
       "    }\n",
       "</style>\n",
       "<table border=\"1\" class=\"dataframe\">\n",
       "  <thead>\n",
       "    <tr style=\"text-align: right;\">\n",
       "      <th></th>\n",
       "      <th>do</th>\n",
       "      <th>know</th>\n",
       "      <th>like</th>\n",
       "      <th>love</th>\n",
       "      <th>should</th>\n",
       "      <th>want</th>\n",
       "      <th>what</th>\n",
       "      <th>you</th>\n",
       "      <th>your</th>\n",
       "    </tr>\n",
       "  </thead>\n",
       "  <tbody>\n",
       "    <tr>\n",
       "      <th>0</th>\n",
       "      <td>0.00000</td>\n",
       "      <td>0.467351</td>\n",
       "      <td>0.000000</td>\n",
       "      <td>0.467351</td>\n",
       "      <td>0.00000</td>\n",
       "      <td>0.467351</td>\n",
       "      <td>0.00000</td>\n",
       "      <td>0.355432</td>\n",
       "      <td>0.467351</td>\n",
       "    </tr>\n",
       "    <tr>\n",
       "      <th>1</th>\n",
       "      <td>0.00000</td>\n",
       "      <td>0.000000</td>\n",
       "      <td>0.795961</td>\n",
       "      <td>0.000000</td>\n",
       "      <td>0.00000</td>\n",
       "      <td>0.000000</td>\n",
       "      <td>0.00000</td>\n",
       "      <td>0.605349</td>\n",
       "      <td>0.000000</td>\n",
       "    </tr>\n",
       "    <tr>\n",
       "      <th>2</th>\n",
       "      <td>0.57735</td>\n",
       "      <td>0.000000</td>\n",
       "      <td>0.000000</td>\n",
       "      <td>0.000000</td>\n",
       "      <td>0.57735</td>\n",
       "      <td>0.000000</td>\n",
       "      <td>0.57735</td>\n",
       "      <td>0.000000</td>\n",
       "      <td>0.000000</td>\n",
       "    </tr>\n",
       "  </tbody>\n",
       "</table>\n",
       "</div>"
      ],
      "text/plain": [
       "        do      know      like      love   should      want     what  \\\n",
       "0  0.00000  0.467351  0.000000  0.467351  0.00000  0.467351  0.00000   \n",
       "1  0.00000  0.000000  0.795961  0.000000  0.00000  0.000000  0.00000   \n",
       "2  0.57735  0.000000  0.000000  0.000000  0.57735  0.000000  0.57735   \n",
       "\n",
       "        you      your  \n",
       "0  0.355432  0.467351  \n",
       "1  0.605349  0.000000  \n",
       "2  0.000000  0.000000  "
      ]
     },
     "execution_count": 11,
     "metadata": {},
     "output_type": "execute_result"
    }
   ],
   "source": [
    "# TF-IDF 보기 좋게 데이터프레임형식으로 표현\n",
    "\n",
    "import pandas as pd\n",
    "\n",
    "pd.DataFrame(tfidf_matrix, columns=tfidf_sort_word)"
   ]
  },
  {
   "cell_type": "code",
   "execution_count": null,
   "metadata": {
    "id": "c53HODlriRC7"
   },
   "outputs": [],
   "source": []
  },
  {
   "cell_type": "markdown",
   "metadata": {
    "id": "JXfLsF5-ynNy"
   },
   "source": [
    "## 배운 내용 정리\n",
    "1. TF-IDF(Term Frequency-Inverse Document Frequency) : 단어의 빈도(TF)와 역 문서 빈도(IDF)를 사용하여 단어에 가중치 부여\n",
    "2. CountVectorizer 처럼 단순히 단어의 빈도수 표현하는것보다 단어 중요도에 가중치를 표현한 TF-IDF가 합리적이다.\n",
    "3. 문서 유사도 구하거나, 분류 모델의 전처리 데이터로 TF-IDF 수행된 데이터를 사용합니다."
   ]
  },
  {
   "cell_type": "code",
   "execution_count": null,
   "metadata": {},
   "outputs": [],
   "source": []
  }
 ],
 "metadata": {
  "colab": {
   "collapsed_sections": [],
   "name": "003.TF_IDF(Term_Frequency_Inverse_Document_Frequency).ipynb",
   "provenance": []
  },
  "kernelspec": {
   "display_name": "Python 3",
   "language": "python",
   "name": "python3"
  },
  "language_info": {
   "codemirror_mode": {
    "name": "ipython",
    "version": 3
   },
   "file_extension": ".py",
   "mimetype": "text/x-python",
   "name": "python",
   "nbconvert_exporter": "python",
   "pygments_lexer": "ipython3",
   "version": "3.6.9"
  }
 },
 "nbformat": 4,
 "nbformat_minor": 4
}